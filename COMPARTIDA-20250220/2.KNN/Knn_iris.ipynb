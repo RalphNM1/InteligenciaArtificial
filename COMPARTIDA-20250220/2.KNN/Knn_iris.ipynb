{
 "cells": [
  {
   "cell_type": "markdown",
   "metadata": {},
   "source": [
    "## Ejemplo de Knn\n",
    "\n",
    "Vamos a utilizar el dataset iris de scikit-learn y el clasificador KNeighborsClassifier, vamos a ver qué predice knn utilizando el conjunto completo de datos con las 3 clases (Setosa (0), Versicolor(1), Virginica(2))\n"
   ]
  },
  {
   "cell_type": "code",
   "execution_count": 69,
   "metadata": {},
   "outputs": [],
   "source": [
    "import numpy as np\n",
    "from sklearn.datasets import load_iris \n",
    "from sklearn.model_selection import train_test_split \n",
    "from sklearn.neighbors import  KNeighborsClassifier \n",
    "from sklearn.metrics import accuracy_score\n",
    "import matplotlib.pyplot as plt "
   ]
  },
  {
   "cell_type": "code",
   "execution_count": 70,
   "metadata": {},
   "outputs": [
    {
     "name": "stdout",
     "output_type": "stream",
     "text": [
      "(150, 4) (150,)\n"
     ]
    },
    {
     "data": {
      "text/html": [
       "<div>\n",
       "<style scoped>\n",
       "    .dataframe tbody tr th:only-of-type {\n",
       "        vertical-align: middle;\n",
       "    }\n",
       "\n",
       "    .dataframe tbody tr th {\n",
       "        vertical-align: top;\n",
       "    }\n",
       "\n",
       "    .dataframe thead th {\n",
       "        text-align: right;\n",
       "    }\n",
       "</style>\n",
       "<table border=\"1\" class=\"dataframe\">\n",
       "  <thead>\n",
       "    <tr style=\"text-align: right;\">\n",
       "      <th></th>\n",
       "      <th>sepal length (cm)</th>\n",
       "      <th>sepal width (cm)</th>\n",
       "      <th>petal length (cm)</th>\n",
       "      <th>petal width (cm)</th>\n",
       "    </tr>\n",
       "  </thead>\n",
       "  <tbody>\n",
       "    <tr>\n",
       "      <th>0</th>\n",
       "      <td>5.1</td>\n",
       "      <td>3.5</td>\n",
       "      <td>1.4</td>\n",
       "      <td>0.2</td>\n",
       "    </tr>\n",
       "    <tr>\n",
       "      <th>1</th>\n",
       "      <td>4.9</td>\n",
       "      <td>3.0</td>\n",
       "      <td>1.4</td>\n",
       "      <td>0.2</td>\n",
       "    </tr>\n",
       "    <tr>\n",
       "      <th>2</th>\n",
       "      <td>4.7</td>\n",
       "      <td>3.2</td>\n",
       "      <td>1.3</td>\n",
       "      <td>0.2</td>\n",
       "    </tr>\n",
       "    <tr>\n",
       "      <th>3</th>\n",
       "      <td>4.6</td>\n",
       "      <td>3.1</td>\n",
       "      <td>1.5</td>\n",
       "      <td>0.2</td>\n",
       "    </tr>\n",
       "    <tr>\n",
       "      <th>4</th>\n",
       "      <td>5.0</td>\n",
       "      <td>3.6</td>\n",
       "      <td>1.4</td>\n",
       "      <td>0.2</td>\n",
       "    </tr>\n",
       "  </tbody>\n",
       "</table>\n",
       "</div>"
      ],
      "text/plain": [
       "   sepal length (cm)  sepal width (cm)  petal length (cm)  petal width (cm)\n",
       "0                5.1               3.5                1.4               0.2\n",
       "1                4.9               3.0                1.4               0.2\n",
       "2                4.7               3.2                1.3               0.2\n",
       "3                4.6               3.1                1.5               0.2\n",
       "4                5.0               3.6                1.4               0.2"
      ]
     },
     "execution_count": 70,
     "metadata": {},
     "output_type": "execute_result"
    }
   ],
   "source": [
    "iris = load_iris(as_frame=True) #iris es un objeto de tipo diccionario (Bunch), propio de sklearn, lo convertimos a DataFrame\n",
    "X_iris = iris.data #características\n",
    "y_iris = iris.target  #columna objetivo\n",
    "\n",
    "print(X_iris.shape, y_iris.shape) \n",
    "X_iris.head()"
   ]
  },
  {
   "cell_type": "code",
   "execution_count": 71,
   "metadata": {},
   "outputs": [],
   "source": [
    "X_train, X_test, y_train, y_test = train_test_split(X_iris, y_iris, test_size=0.2, random_state=42)"
   ]
  },
  {
   "cell_type": "markdown",
   "metadata": {},
   "source": [
    "Podríamos haber utilizado:\n",
    "\n",
    "X_train, X_test, y_train, y_test = train_test_split(X_iris, y_iris, test_size=0.2, random_state=42, stratify=y)\n",
    "\n",
    "utilizando stratify aseguramos que la proporción de las clases en el conjunto de entrenamiento sea igual a la proporción de clases en el conjunto de prueba, si no, la división es aleatoria y puede que se escojan valores que no sean representativos de las proporciones en el conjunto original"
   ]
  },
  {
   "cell_type": "code",
   "execution_count": 72,
   "metadata": {},
   "outputs": [
    {
     "data": {
      "text/plain": [
       "1.0"
      ]
     },
     "execution_count": 72,
     "metadata": {},
     "output_type": "execute_result"
    }
   ],
   "source": [
    "knn = KNeighborsClassifier(n_neighbors=6)    #así indico el número de vecinos que voy a utilizar\n",
    "knn.fit(X_train, y_train)  \n",
    "knn.score(X_test, y_test)  #precisión del modelo "
   ]
  },
  {
   "cell_type": "markdown",
   "metadata": {},
   "source": [
    "Score representa (función para modelo knn):\n",
    "- kNN para clasificación: devuelve la precisión (accuracy: porcentaje de predicciones correctas, en rango de 0 a 1) en los datos de prueba\n",
    "- kNN para regresión: coeficiente de determinación : indica qué también se ajustan las predicciones del modelo a los valores reales del conjunto de prueba"
   ]
  },
  {
   "cell_type": "markdown",
   "metadata": {},
   "source": [
    "Ahora ya podemos empezar a predecir"
   ]
  },
  {
   "cell_type": "code",
   "execution_count": 73,
   "metadata": {},
   "outputs": [
    {
     "name": "stdout",
     "output_type": "stream",
     "text": [
      "[[6.  4.  4.  0.1]]\n",
      "[1]\n"
     ]
    },
    {
     "name": "stderr",
     "output_type": "stream",
     "text": [
      "c:\\Users\\Usuario\\Desktop\\mientorno\\.venv\\Lib\\site-packages\\sklearn\\base.py:493: UserWarning: X does not have valid feature names, but KNeighborsClassifier was fitted with feature names\n",
      "  warnings.warn(\n"
     ]
    }
   ],
   "source": [
    "# Puedo crear yo un dato nuevo pero en ese caso para conocer la precisión tendría que conocer el valor real, no sirve para la general obviamente\n",
    "valores=[[6,4,4,0.1]]  #lista de valores que voy a utilizar para la predicción\n",
    "X_nuevo=np.array(valores).reshape(1, -1) \n",
    "\"\"\"convierto la lista a numpy : 1:numero de muestras, -1 que calcule numpy las columnas necesarias... reshape(filas,columnas)\"\"\"\n",
    "print(X_nuevo)\n",
    "#y predecir con él\n",
    "\n",
    "y_pred1 = knn.predict(X_nuevo)\n",
    "\n",
    "print(y_pred1)"
   ]
  },
  {
   "cell_type": "code",
   "execution_count": 74,
   "metadata": {},
   "outputs": [
    {
     "data": {
      "text/plain": [
       "array([1, 0, 2, 1, 1, 0, 1, 2, 1, 1, 2, 0, 0, 0, 0, 1, 2, 1, 1, 2, 0, 2,\n",
       "       0, 2, 2, 2, 2, 2, 0, 0])"
      ]
     },
     "execution_count": 74,
     "metadata": {},
     "output_type": "execute_result"
    }
   ],
   "source": [
    "#utilizo los datos que ya tenía para pruebas\n",
    "y_pred2 = knn.predict(X_test)\n",
    "y_pred2\n",
    "\n",
    "#podemos también usar predict_proba para tener las probabilidades de clase\n",
    "#probabilidades = knn.predict_proba(X_test)\n",
    "#print(probabilidades[:10]) "
   ]
  },
  {
   "cell_type": "markdown",
   "metadata": {},
   "source": [
    "Vamos a evaluar con accuracy_score() no está asociada a un modelo específico, es una función general"
   ]
  },
  {
   "cell_type": "code",
   "execution_count": 75,
   "metadata": {},
   "outputs": [
    {
     "name": "stdout",
     "output_type": "stream",
     "text": [
      "Precisión del clasificador k-NN con todas las clases: 1.00\n"
     ]
    }
   ],
   "source": [
    "#Y así puedo evaluar la precisión del modelo\n",
    "accuracy = accuracy_score(y_test, y_pred2)\n",
    "print(f'Precisión del clasificador k-NN con todas las clases: {accuracy:.2f}')"
   ]
  },
  {
   "cell_type": "markdown",
   "metadata": {},
   "source": [
    "Comprobamos overfitting y underfitting\n",
    "\n",
    "Vamos a crear una matriz de vecinos hasta 12 e ir comprobando cómo va variando la precisión según varía k\n",
    "\n",
    "Iremos ajustando el modelo a los datos de entrenamiento y viendo resultados"
   ]
  },
  {
   "cell_type": "code",
   "execution_count": 76,
   "metadata": {},
   "outputs": [
    {
     "name": "stdout",
     "output_type": "stream",
     "text": [
      "[ 1  2  3  4  5  6  7  8  9 10 11 12] \n",
      " {np.int64(1): 1.0, np.int64(2): 0.9666666666666667, np.int64(3): 0.95, np.int64(4): 0.9583333333333334, np.int64(5): 0.9666666666666667, np.int64(6): 0.9666666666666667, np.int64(7): 0.975, np.int64(8): 0.9583333333333334, np.int64(9): 0.9666666666666667, np.int64(10): 0.9833333333333333, np.int64(11): 0.9583333333333334, np.int64(12): 0.975} \n",
      " {np.int64(1): 1.0, np.int64(2): 1.0, np.int64(3): 1.0, np.int64(4): 1.0, np.int64(5): 1.0, np.int64(6): 1.0, np.int64(7): 0.9666666666666667, np.int64(8): 1.0, np.int64(9): 1.0, np.int64(10): 1.0, np.int64(11): 1.0, np.int64(12): 1.0}\n"
     ]
    }
   ],
   "source": [
    "# Crear vecinos\n",
    "neighbors = np.arange(1,13)\n",
    "train_accuracies = {}\n",
    "test_accuracies = {}\n",
    "\n",
    "for neighbor in neighbors:\n",
    "  \t# escogemos KNN Classifier\n",
    "\tknn = KNeighborsClassifier(neighbor)\n",
    "\t# Fit the model\n",
    "\tknn.fit(X_train, y_train)\n",
    "  \n",
    "\t# Calcular accuracy\n",
    "\ttrain_accuracies[neighbor] = knn.score(X_train, y_train)\n",
    "\ttest_accuracies[neighbor] = knn.score(X_test, y_test) \n",
    "print(neighbors, '\\n', train_accuracies, '\\n', test_accuracies)"
   ]
  },
  {
   "cell_type": "markdown",
   "metadata": {},
   "source": [
    "Vamos a verlo en un gráfico, con una curva de complejidad del modelo para ver cómo cambia el rendimiento a medida que el modelo se hace menos complejo.\n",
    "\n",
    "- k grande = modelo menos complejo =puede causar underfitting\n",
    "- k pequeño= modelo más complejo= puede llevar a overfitting\n",
    "\n",
    "La fase de test nos dice cómo generaliza el modelo en datos no vistos\n"
   ]
  },
  {
   "cell_type": "code",
   "execution_count": 77,
   "metadata": {},
   "outputs": [
    {
     "data": {
      "image/png": "[encoded data removed]",
      "text/plain": [
       "<Figure size 640x480 with 1 Axes>"
      ]
     },
     "metadata": {},
     "output_type": "display_data"
    }
   ],
   "source": [
    "plt.title(\"Variando el número de vecinos en KNN\")\n",
    "\n",
    "# Plot training accuracies\n",
    "plt.plot(neighbors, train_accuracies.values(), label=\"Entrenamiento Accuracy\") \n",
    "\n",
    "# Plot test accuracies\n",
    "plt.plot(neighbors, test_accuracies.values(), label=\"Test Accuracy\") \n",
    "\n",
    "plt.legend()\n",
    "plt.xlabel(\"Número de vecinos\")\n",
    "plt.ylabel(\"Accuracy\")\n",
    "\n",
    "# Display the plot\n",
    "plt.show()"
   ]
  },
  {
   "cell_type": "markdown",
   "metadata": {},
   "source": [
    "Fijándonos en los valores de test, vemos que en k pequeños el modelo parece sobreajustar y en k grandes vuelve a 1 y hay posibilidad de subajeste porque puede perder detalles, parece que con una k=7 el modelo tiene un equilibrio, con lo que puede lograr una buena generalizacion sin ser demasiado específico o demasiado general."
   ]
  }
 ],
 "metadata": {
  "kernelspec": {
   "display_name": ".venv",
   "language": "python",
   "name": "python3"
  },
  "language_info": {
   "codemirror_mode": {
    "name": "ipython",
    "version": 3
   },
   "file_extension": ".py",
   "mimetype": "text/x-python",
   "name": "python",
   "nbconvert_exporter": "python",
   "pygments_lexer": "ipython3",
   "version": "3.13.0"
  }
 },
 "nbformat": 4,
 "nbformat_minor": 2
}
