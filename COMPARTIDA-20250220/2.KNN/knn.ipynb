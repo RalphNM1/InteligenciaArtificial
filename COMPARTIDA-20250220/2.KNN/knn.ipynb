{
 "cells": [
  {
   "cell_type": "markdown",
   "metadata": {},
   "source": [
    "KNN es un algoritmo basado en instancias : toma decisiones sobre un dato comparándolo con instancias del conjunto de entrenamiento, lo hace buscando los k puntos más cercanos y decidiendo a qué clase pertenece(clasificación) o promediando los valores en caso de regresión.\n",
    "\n",
    "KNN, qué decimos entonces : ¿algoritmo o modelo?\n",
    "\n",
    "Decimos “usamos algoritmo KNN para clasificar correos electrónicos como spam o no spam”, (proceso de aprendizaje utilizado para generar el modelo) y \"el modelo KNN entrenado ha predicho que este correo electrónico es spam” (resultado de aplicar el algoritmo que es lo que usamos para hacer predicciones).\n",
    "\n",
    "Recordemos que hemos visto, en cambio, dos modelos paramétricos (modelo estadístico con un número fijo de parámetros que se ajustan durante el entrenamiento):\n",
    "\n",
    "la regresión lineal que se basa en un modelo matemático que busca encontrar la relación lineal entre las características de entrada y la variable objetivo.\n",
    "la regresión logística que se basa en la función sigmoide y que convierte una salida lineal en una probabilidad entre 0 y 1.\n",
    "Importante: se puede decir “algoritmo de entrenamiento de regresión lineal” o “algoritmo para optimizar los coeficientes” del modelo de regresión lineal (p.e., descenso del gradiente) pero no es correcto decir simplemente “algoritmo de regresión lineal” porque la regresión lineal en sí es un modelo y no un algoritmo.\n",
    "\n"
   ]
  }
 ],
 "metadata": {
  "language_info": {
   "name": "python"
  }
 },
 "nbformat": 4,
 "nbformat_minor": 2
}
