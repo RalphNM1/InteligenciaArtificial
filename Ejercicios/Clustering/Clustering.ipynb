{
 "cells": [
  {
   "cell_type": "markdown",
   "metadata": {},
   "source": [
    "# Tarea Clustering\n",
    "## Ralphy Núñez Mercado"
   ]
  },
  {
   "cell_type": "markdown",
   "metadata": {},
   "source": [
    "### ⬇️ Imports necesarios"
   ]
  },
  {
   "cell_type": "code",
   "execution_count": 299,
   "metadata": {},
   "outputs": [],
   "source": [
    "import numpy as np\n",
    "import pandas as pd\n",
    "import matplotlib.pyplot as plt\n",
    "import seaborn as sns\n",
    "from sklearn.cluster import KMeans\n",
    "from sklearn.preprocessing import LabelEncoder, StandardScaler\n",
    "from yellowbrick.cluster import KElbowVisualizer,SilhouetteVisualizer\n",
    "import plotly as py\n",
    "import plotly.graph_objs as go\n"
   ]
  },
  {
   "cell_type": "markdown",
   "metadata": {},
   "source": [
    "### ⌛ Preparar dataset "
   ]
  },
  {
   "cell_type": "code",
   "execution_count": 300,
   "metadata": {},
   "outputs": [
    {
     "data": {
      "text/html": [
       "<div>\n",
       "<style scoped>\n",
       "    .dataframe tbody tr th:only-of-type {\n",
       "        vertical-align: middle;\n",
       "    }\n",
       "\n",
       "    .dataframe tbody tr th {\n",
       "        vertical-align: top;\n",
       "    }\n",
       "\n",
       "    .dataframe thead th {\n",
       "        text-align: right;\n",
       "    }\n",
       "</style>\n",
       "<table border=\"1\" class=\"dataframe\">\n",
       "  <thead>\n",
       "    <tr style=\"text-align: right;\">\n",
       "      <th></th>\n",
       "      <th>Customer ID</th>\n",
       "      <th>Age</th>\n",
       "      <th>Gender</th>\n",
       "      <th>Item Purchased</th>\n",
       "      <th>Category</th>\n",
       "      <th>Purchase Amount (USD)</th>\n",
       "      <th>Location</th>\n",
       "      <th>Size</th>\n",
       "      <th>Color</th>\n",
       "      <th>Season</th>\n",
       "      <th>Review Rating</th>\n",
       "      <th>Subscription Status</th>\n",
       "      <th>Payment Method</th>\n",
       "      <th>Shipping Type</th>\n",
       "      <th>Discount Applied</th>\n",
       "      <th>Promo Code Used</th>\n",
       "      <th>Previous Purchases</th>\n",
       "      <th>Preferred Payment Method</th>\n",
       "      <th>Frequency of Purchases</th>\n",
       "    </tr>\n",
       "  </thead>\n",
       "  <tbody>\n",
       "    <tr>\n",
       "      <th>0</th>\n",
       "      <td>1</td>\n",
       "      <td>55</td>\n",
       "      <td>Male</td>\n",
       "      <td>Blouse</td>\n",
       "      <td>Clothing</td>\n",
       "      <td>53</td>\n",
       "      <td>Kentucky</td>\n",
       "      <td>L</td>\n",
       "      <td>Gray</td>\n",
       "      <td>Winter</td>\n",
       "      <td>3.1</td>\n",
       "      <td>Yes</td>\n",
       "      <td>Credit Card</td>\n",
       "      <td>Express</td>\n",
       "      <td>Yes</td>\n",
       "      <td>Yes</td>\n",
       "      <td>14</td>\n",
       "      <td>Venmo</td>\n",
       "      <td>Fortnightly</td>\n",
       "    </tr>\n",
       "    <tr>\n",
       "      <th>1</th>\n",
       "      <td>2</td>\n",
       "      <td>19</td>\n",
       "      <td>Male</td>\n",
       "      <td>Sweater</td>\n",
       "      <td>Clothing</td>\n",
       "      <td>64</td>\n",
       "      <td>Maine</td>\n",
       "      <td>L</td>\n",
       "      <td>Maroon</td>\n",
       "      <td>Winter</td>\n",
       "      <td>3.1</td>\n",
       "      <td>Yes</td>\n",
       "      <td>Bank Transfer</td>\n",
       "      <td>Express</td>\n",
       "      <td>Yes</td>\n",
       "      <td>Yes</td>\n",
       "      <td>2</td>\n",
       "      <td>Cash</td>\n",
       "      <td>Fortnightly</td>\n",
       "    </tr>\n",
       "    <tr>\n",
       "      <th>2</th>\n",
       "      <td>3</td>\n",
       "      <td>50</td>\n",
       "      <td>Male</td>\n",
       "      <td>Jeans</td>\n",
       "      <td>Clothing</td>\n",
       "      <td>73</td>\n",
       "      <td>Massachusetts</td>\n",
       "      <td>S</td>\n",
       "      <td>Maroon</td>\n",
       "      <td>Spring</td>\n",
       "      <td>3.1</td>\n",
       "      <td>Yes</td>\n",
       "      <td>Cash</td>\n",
       "      <td>Free Shipping</td>\n",
       "      <td>Yes</td>\n",
       "      <td>Yes</td>\n",
       "      <td>23</td>\n",
       "      <td>Credit Card</td>\n",
       "      <td>Weekly</td>\n",
       "    </tr>\n",
       "    <tr>\n",
       "      <th>3</th>\n",
       "      <td>4</td>\n",
       "      <td>21</td>\n",
       "      <td>Male</td>\n",
       "      <td>Sandals</td>\n",
       "      <td>Footwear</td>\n",
       "      <td>90</td>\n",
       "      <td>Rhode Island</td>\n",
       "      <td>M</td>\n",
       "      <td>Maroon</td>\n",
       "      <td>Spring</td>\n",
       "      <td>3.5</td>\n",
       "      <td>Yes</td>\n",
       "      <td>PayPal</td>\n",
       "      <td>Next Day Air</td>\n",
       "      <td>Yes</td>\n",
       "      <td>Yes</td>\n",
       "      <td>49</td>\n",
       "      <td>PayPal</td>\n",
       "      <td>Weekly</td>\n",
       "    </tr>\n",
       "    <tr>\n",
       "      <th>4</th>\n",
       "      <td>5</td>\n",
       "      <td>45</td>\n",
       "      <td>Male</td>\n",
       "      <td>Blouse</td>\n",
       "      <td>Clothing</td>\n",
       "      <td>49</td>\n",
       "      <td>Oregon</td>\n",
       "      <td>M</td>\n",
       "      <td>Turquoise</td>\n",
       "      <td>Spring</td>\n",
       "      <td>2.7</td>\n",
       "      <td>Yes</td>\n",
       "      <td>Cash</td>\n",
       "      <td>Free Shipping</td>\n",
       "      <td>Yes</td>\n",
       "      <td>Yes</td>\n",
       "      <td>31</td>\n",
       "      <td>PayPal</td>\n",
       "      <td>Annually</td>\n",
       "    </tr>\n",
       "    <tr>\n",
       "      <th>...</th>\n",
       "      <td>...</td>\n",
       "      <td>...</td>\n",
       "      <td>...</td>\n",
       "      <td>...</td>\n",
       "      <td>...</td>\n",
       "      <td>...</td>\n",
       "      <td>...</td>\n",
       "      <td>...</td>\n",
       "      <td>...</td>\n",
       "      <td>...</td>\n",
       "      <td>...</td>\n",
       "      <td>...</td>\n",
       "      <td>...</td>\n",
       "      <td>...</td>\n",
       "      <td>...</td>\n",
       "      <td>...</td>\n",
       "      <td>...</td>\n",
       "      <td>...</td>\n",
       "      <td>...</td>\n",
       "    </tr>\n",
       "    <tr>\n",
       "      <th>3895</th>\n",
       "      <td>3896</td>\n",
       "      <td>40</td>\n",
       "      <td>Female</td>\n",
       "      <td>Hoodie</td>\n",
       "      <td>Clothing</td>\n",
       "      <td>28</td>\n",
       "      <td>Virginia</td>\n",
       "      <td>L</td>\n",
       "      <td>Turquoise</td>\n",
       "      <td>Summer</td>\n",
       "      <td>4.2</td>\n",
       "      <td>No</td>\n",
       "      <td>Cash</td>\n",
       "      <td>2-Day Shipping</td>\n",
       "      <td>No</td>\n",
       "      <td>No</td>\n",
       "      <td>32</td>\n",
       "      <td>Venmo</td>\n",
       "      <td>Weekly</td>\n",
       "    </tr>\n",
       "    <tr>\n",
       "      <th>3896</th>\n",
       "      <td>3897</td>\n",
       "      <td>52</td>\n",
       "      <td>Female</td>\n",
       "      <td>Backpack</td>\n",
       "      <td>Accessories</td>\n",
       "      <td>49</td>\n",
       "      <td>Iowa</td>\n",
       "      <td>L</td>\n",
       "      <td>White</td>\n",
       "      <td>Spring</td>\n",
       "      <td>4.5</td>\n",
       "      <td>No</td>\n",
       "      <td>PayPal</td>\n",
       "      <td>Store Pickup</td>\n",
       "      <td>No</td>\n",
       "      <td>No</td>\n",
       "      <td>41</td>\n",
       "      <td>Bank Transfer</td>\n",
       "      <td>Bi-Weekly</td>\n",
       "    </tr>\n",
       "    <tr>\n",
       "      <th>3897</th>\n",
       "      <td>3898</td>\n",
       "      <td>46</td>\n",
       "      <td>Female</td>\n",
       "      <td>Belt</td>\n",
       "      <td>Accessories</td>\n",
       "      <td>33</td>\n",
       "      <td>New Jersey</td>\n",
       "      <td>L</td>\n",
       "      <td>Green</td>\n",
       "      <td>Spring</td>\n",
       "      <td>2.9</td>\n",
       "      <td>No</td>\n",
       "      <td>Credit Card</td>\n",
       "      <td>Standard</td>\n",
       "      <td>No</td>\n",
       "      <td>No</td>\n",
       "      <td>24</td>\n",
       "      <td>Venmo</td>\n",
       "      <td>Quarterly</td>\n",
       "    </tr>\n",
       "    <tr>\n",
       "      <th>3898</th>\n",
       "      <td>3899</td>\n",
       "      <td>44</td>\n",
       "      <td>Female</td>\n",
       "      <td>Shoes</td>\n",
       "      <td>Footwear</td>\n",
       "      <td>77</td>\n",
       "      <td>Minnesota</td>\n",
       "      <td>S</td>\n",
       "      <td>Brown</td>\n",
       "      <td>Summer</td>\n",
       "      <td>3.8</td>\n",
       "      <td>No</td>\n",
       "      <td>PayPal</td>\n",
       "      <td>Express</td>\n",
       "      <td>No</td>\n",
       "      <td>No</td>\n",
       "      <td>24</td>\n",
       "      <td>Venmo</td>\n",
       "      <td>Weekly</td>\n",
       "    </tr>\n",
       "    <tr>\n",
       "      <th>3899</th>\n",
       "      <td>3900</td>\n",
       "      <td>52</td>\n",
       "      <td>Female</td>\n",
       "      <td>Handbag</td>\n",
       "      <td>Accessories</td>\n",
       "      <td>81</td>\n",
       "      <td>California</td>\n",
       "      <td>M</td>\n",
       "      <td>Beige</td>\n",
       "      <td>Spring</td>\n",
       "      <td>3.1</td>\n",
       "      <td>No</td>\n",
       "      <td>Bank Transfer</td>\n",
       "      <td>Store Pickup</td>\n",
       "      <td>No</td>\n",
       "      <td>No</td>\n",
       "      <td>33</td>\n",
       "      <td>Venmo</td>\n",
       "      <td>Quarterly</td>\n",
       "    </tr>\n",
       "  </tbody>\n",
       "</table>\n",
       "<p>3900 rows × 19 columns</p>\n",
       "</div>"
      ],
      "text/plain": [
       "      Customer ID  Age  Gender Item Purchased     Category  \\\n",
       "0               1   55    Male         Blouse     Clothing   \n",
       "1               2   19    Male        Sweater     Clothing   \n",
       "2               3   50    Male          Jeans     Clothing   \n",
       "3               4   21    Male        Sandals     Footwear   \n",
       "4               5   45    Male         Blouse     Clothing   \n",
       "...           ...  ...     ...            ...          ...   \n",
       "3895         3896   40  Female         Hoodie     Clothing   \n",
       "3896         3897   52  Female       Backpack  Accessories   \n",
       "3897         3898   46  Female           Belt  Accessories   \n",
       "3898         3899   44  Female          Shoes     Footwear   \n",
       "3899         3900   52  Female        Handbag  Accessories   \n",
       "\n",
       "      Purchase Amount (USD)       Location Size      Color  Season  \\\n",
       "0                        53       Kentucky    L       Gray  Winter   \n",
       "1                        64          Maine    L     Maroon  Winter   \n",
       "2                        73  Massachusetts    S     Maroon  Spring   \n",
       "3                        90   Rhode Island    M     Maroon  Spring   \n",
       "4                        49         Oregon    M  Turquoise  Spring   \n",
       "...                     ...            ...  ...        ...     ...   \n",
       "3895                     28       Virginia    L  Turquoise  Summer   \n",
       "3896                     49           Iowa    L      White  Spring   \n",
       "3897                     33     New Jersey    L      Green  Spring   \n",
       "3898                     77      Minnesota    S      Brown  Summer   \n",
       "3899                     81     California    M      Beige  Spring   \n",
       "\n",
       "      Review Rating Subscription Status Payment Method   Shipping Type  \\\n",
       "0               3.1                 Yes    Credit Card         Express   \n",
       "1               3.1                 Yes  Bank Transfer         Express   \n",
       "2               3.1                 Yes           Cash   Free Shipping   \n",
       "3               3.5                 Yes         PayPal    Next Day Air   \n",
       "4               2.7                 Yes           Cash   Free Shipping   \n",
       "...             ...                 ...            ...             ...   \n",
       "3895            4.2                  No           Cash  2-Day Shipping   \n",
       "3896            4.5                  No         PayPal    Store Pickup   \n",
       "3897            2.9                  No    Credit Card        Standard   \n",
       "3898            3.8                  No         PayPal         Express   \n",
       "3899            3.1                  No  Bank Transfer    Store Pickup   \n",
       "\n",
       "     Discount Applied Promo Code Used  Previous Purchases  \\\n",
       "0                 Yes             Yes                  14   \n",
       "1                 Yes             Yes                   2   \n",
       "2                 Yes             Yes                  23   \n",
       "3                 Yes             Yes                  49   \n",
       "4                 Yes             Yes                  31   \n",
       "...               ...             ...                 ...   \n",
       "3895               No              No                  32   \n",
       "3896               No              No                  41   \n",
       "3897               No              No                  24   \n",
       "3898               No              No                  24   \n",
       "3899               No              No                  33   \n",
       "\n",
       "     Preferred Payment Method Frequency of Purchases  \n",
       "0                       Venmo            Fortnightly  \n",
       "1                        Cash            Fortnightly  \n",
       "2                 Credit Card                 Weekly  \n",
       "3                      PayPal                 Weekly  \n",
       "4                      PayPal               Annually  \n",
       "...                       ...                    ...  \n",
       "3895                    Venmo                 Weekly  \n",
       "3896            Bank Transfer              Bi-Weekly  \n",
       "3897                    Venmo              Quarterly  \n",
       "3898                    Venmo                 Weekly  \n",
       "3899                    Venmo              Quarterly  \n",
       "\n",
       "[3900 rows x 19 columns]"
      ]
     },
     "execution_count": 300,
     "metadata": {},
     "output_type": "execute_result"
    }
   ],
   "source": [
    "df = pd.read_csv('shopping_trends.csv')\n",
    "\n",
    "df"
   ]
  },
  {
   "cell_type": "markdown",
   "metadata": {},
   "source": []
  },
  {
   "cell_type": "code",
   "execution_count": 301,
   "metadata": {},
   "outputs": [
    {
     "data": {
      "text/html": [
       "<div>\n",
       "<style scoped>\n",
       "    .dataframe tbody tr th:only-of-type {\n",
       "        vertical-align: middle;\n",
       "    }\n",
       "\n",
       "    .dataframe tbody tr th {\n",
       "        vertical-align: top;\n",
       "    }\n",
       "\n",
       "    .dataframe thead th {\n",
       "        text-align: right;\n",
       "    }\n",
       "</style>\n",
       "<table border=\"1\" class=\"dataframe\">\n",
       "  <thead>\n",
       "    <tr style=\"text-align: right;\">\n",
       "      <th></th>\n",
       "      <th>ID</th>\n",
       "      <th>Edad</th>\n",
       "      <th>Genero</th>\n",
       "      <th>Objeto Comprado</th>\n",
       "      <th>Categoria</th>\n",
       "      <th>Precio (USD)</th>\n",
       "      <th>Localizacion</th>\n",
       "      <th>Talla</th>\n",
       "      <th>Color</th>\n",
       "      <th>Estacion</th>\n",
       "      <th>Calificacion de la reseña</th>\n",
       "      <th>Estado de la subscripcion</th>\n",
       "      <th>Metodo de pago</th>\n",
       "      <th>Tipo de envio</th>\n",
       "      <th>Descuento aplicado</th>\n",
       "      <th>Uso codigo promocional</th>\n",
       "      <th>Compras anteriores</th>\n",
       "      <th>Metodo de pago preferido</th>\n",
       "      <th>Frecuencia de compra</th>\n",
       "    </tr>\n",
       "  </thead>\n",
       "  <tbody>\n",
       "    <tr>\n",
       "      <th>0</th>\n",
       "      <td>1</td>\n",
       "      <td>55</td>\n",
       "      <td>Male</td>\n",
       "      <td>Blouse</td>\n",
       "      <td>Clothing</td>\n",
       "      <td>53</td>\n",
       "      <td>Kentucky</td>\n",
       "      <td>L</td>\n",
       "      <td>Gray</td>\n",
       "      <td>Winter</td>\n",
       "      <td>3.1</td>\n",
       "      <td>Yes</td>\n",
       "      <td>Credit Card</td>\n",
       "      <td>Express</td>\n",
       "      <td>Yes</td>\n",
       "      <td>Yes</td>\n",
       "      <td>14</td>\n",
       "      <td>Venmo</td>\n",
       "      <td>Fortnightly</td>\n",
       "    </tr>\n",
       "    <tr>\n",
       "      <th>1</th>\n",
       "      <td>2</td>\n",
       "      <td>19</td>\n",
       "      <td>Male</td>\n",
       "      <td>Sweater</td>\n",
       "      <td>Clothing</td>\n",
       "      <td>64</td>\n",
       "      <td>Maine</td>\n",
       "      <td>L</td>\n",
       "      <td>Maroon</td>\n",
       "      <td>Winter</td>\n",
       "      <td>3.1</td>\n",
       "      <td>Yes</td>\n",
       "      <td>Bank Transfer</td>\n",
       "      <td>Express</td>\n",
       "      <td>Yes</td>\n",
       "      <td>Yes</td>\n",
       "      <td>2</td>\n",
       "      <td>Cash</td>\n",
       "      <td>Fortnightly</td>\n",
       "    </tr>\n",
       "    <tr>\n",
       "      <th>2</th>\n",
       "      <td>3</td>\n",
       "      <td>50</td>\n",
       "      <td>Male</td>\n",
       "      <td>Jeans</td>\n",
       "      <td>Clothing</td>\n",
       "      <td>73</td>\n",
       "      <td>Massachusetts</td>\n",
       "      <td>S</td>\n",
       "      <td>Maroon</td>\n",
       "      <td>Spring</td>\n",
       "      <td>3.1</td>\n",
       "      <td>Yes</td>\n",
       "      <td>Cash</td>\n",
       "      <td>Free Shipping</td>\n",
       "      <td>Yes</td>\n",
       "      <td>Yes</td>\n",
       "      <td>23</td>\n",
       "      <td>Credit Card</td>\n",
       "      <td>Weekly</td>\n",
       "    </tr>\n",
       "    <tr>\n",
       "      <th>3</th>\n",
       "      <td>4</td>\n",
       "      <td>21</td>\n",
       "      <td>Male</td>\n",
       "      <td>Sandals</td>\n",
       "      <td>Footwear</td>\n",
       "      <td>90</td>\n",
       "      <td>Rhode Island</td>\n",
       "      <td>M</td>\n",
       "      <td>Maroon</td>\n",
       "      <td>Spring</td>\n",
       "      <td>3.5</td>\n",
       "      <td>Yes</td>\n",
       "      <td>PayPal</td>\n",
       "      <td>Next Day Air</td>\n",
       "      <td>Yes</td>\n",
       "      <td>Yes</td>\n",
       "      <td>49</td>\n",
       "      <td>PayPal</td>\n",
       "      <td>Weekly</td>\n",
       "    </tr>\n",
       "    <tr>\n",
       "      <th>4</th>\n",
       "      <td>5</td>\n",
       "      <td>45</td>\n",
       "      <td>Male</td>\n",
       "      <td>Blouse</td>\n",
       "      <td>Clothing</td>\n",
       "      <td>49</td>\n",
       "      <td>Oregon</td>\n",
       "      <td>M</td>\n",
       "      <td>Turquoise</td>\n",
       "      <td>Spring</td>\n",
       "      <td>2.7</td>\n",
       "      <td>Yes</td>\n",
       "      <td>Cash</td>\n",
       "      <td>Free Shipping</td>\n",
       "      <td>Yes</td>\n",
       "      <td>Yes</td>\n",
       "      <td>31</td>\n",
       "      <td>PayPal</td>\n",
       "      <td>Annually</td>\n",
       "    </tr>\n",
       "    <tr>\n",
       "      <th>...</th>\n",
       "      <td>...</td>\n",
       "      <td>...</td>\n",
       "      <td>...</td>\n",
       "      <td>...</td>\n",
       "      <td>...</td>\n",
       "      <td>...</td>\n",
       "      <td>...</td>\n",
       "      <td>...</td>\n",
       "      <td>...</td>\n",
       "      <td>...</td>\n",
       "      <td>...</td>\n",
       "      <td>...</td>\n",
       "      <td>...</td>\n",
       "      <td>...</td>\n",
       "      <td>...</td>\n",
       "      <td>...</td>\n",
       "      <td>...</td>\n",
       "      <td>...</td>\n",
       "      <td>...</td>\n",
       "    </tr>\n",
       "    <tr>\n",
       "      <th>3895</th>\n",
       "      <td>3896</td>\n",
       "      <td>40</td>\n",
       "      <td>Female</td>\n",
       "      <td>Hoodie</td>\n",
       "      <td>Clothing</td>\n",
       "      <td>28</td>\n",
       "      <td>Virginia</td>\n",
       "      <td>L</td>\n",
       "      <td>Turquoise</td>\n",
       "      <td>Summer</td>\n",
       "      <td>4.2</td>\n",
       "      <td>No</td>\n",
       "      <td>Cash</td>\n",
       "      <td>2-Day Shipping</td>\n",
       "      <td>No</td>\n",
       "      <td>No</td>\n",
       "      <td>32</td>\n",
       "      <td>Venmo</td>\n",
       "      <td>Weekly</td>\n",
       "    </tr>\n",
       "    <tr>\n",
       "      <th>3896</th>\n",
       "      <td>3897</td>\n",
       "      <td>52</td>\n",
       "      <td>Female</td>\n",
       "      <td>Backpack</td>\n",
       "      <td>Accessories</td>\n",
       "      <td>49</td>\n",
       "      <td>Iowa</td>\n",
       "      <td>L</td>\n",
       "      <td>White</td>\n",
       "      <td>Spring</td>\n",
       "      <td>4.5</td>\n",
       "      <td>No</td>\n",
       "      <td>PayPal</td>\n",
       "      <td>Store Pickup</td>\n",
       "      <td>No</td>\n",
       "      <td>No</td>\n",
       "      <td>41</td>\n",
       "      <td>Bank Transfer</td>\n",
       "      <td>Bi-Weekly</td>\n",
       "    </tr>\n",
       "    <tr>\n",
       "      <th>3897</th>\n",
       "      <td>3898</td>\n",
       "      <td>46</td>\n",
       "      <td>Female</td>\n",
       "      <td>Belt</td>\n",
       "      <td>Accessories</td>\n",
       "      <td>33</td>\n",
       "      <td>New Jersey</td>\n",
       "      <td>L</td>\n",
       "      <td>Green</td>\n",
       "      <td>Spring</td>\n",
       "      <td>2.9</td>\n",
       "      <td>No</td>\n",
       "      <td>Credit Card</td>\n",
       "      <td>Standard</td>\n",
       "      <td>No</td>\n",
       "      <td>No</td>\n",
       "      <td>24</td>\n",
       "      <td>Venmo</td>\n",
       "      <td>Quarterly</td>\n",
       "    </tr>\n",
       "    <tr>\n",
       "      <th>3898</th>\n",
       "      <td>3899</td>\n",
       "      <td>44</td>\n",
       "      <td>Female</td>\n",
       "      <td>Shoes</td>\n",
       "      <td>Footwear</td>\n",
       "      <td>77</td>\n",
       "      <td>Minnesota</td>\n",
       "      <td>S</td>\n",
       "      <td>Brown</td>\n",
       "      <td>Summer</td>\n",
       "      <td>3.8</td>\n",
       "      <td>No</td>\n",
       "      <td>PayPal</td>\n",
       "      <td>Express</td>\n",
       "      <td>No</td>\n",
       "      <td>No</td>\n",
       "      <td>24</td>\n",
       "      <td>Venmo</td>\n",
       "      <td>Weekly</td>\n",
       "    </tr>\n",
       "    <tr>\n",
       "      <th>3899</th>\n",
       "      <td>3900</td>\n",
       "      <td>52</td>\n",
       "      <td>Female</td>\n",
       "      <td>Handbag</td>\n",
       "      <td>Accessories</td>\n",
       "      <td>81</td>\n",
       "      <td>California</td>\n",
       "      <td>M</td>\n",
       "      <td>Beige</td>\n",
       "      <td>Spring</td>\n",
       "      <td>3.1</td>\n",
       "      <td>No</td>\n",
       "      <td>Bank Transfer</td>\n",
       "      <td>Store Pickup</td>\n",
       "      <td>No</td>\n",
       "      <td>No</td>\n",
       "      <td>33</td>\n",
       "      <td>Venmo</td>\n",
       "      <td>Quarterly</td>\n",
       "    </tr>\n",
       "  </tbody>\n",
       "</table>\n",
       "<p>3900 rows × 19 columns</p>\n",
       "</div>"
      ],
      "text/plain": [
       "        ID  Edad  Genero Objeto Comprado    Categoria  Precio (USD)  \\\n",
       "0        1    55    Male          Blouse     Clothing            53   \n",
       "1        2    19    Male         Sweater     Clothing            64   \n",
       "2        3    50    Male           Jeans     Clothing            73   \n",
       "3        4    21    Male         Sandals     Footwear            90   \n",
       "4        5    45    Male          Blouse     Clothing            49   \n",
       "...    ...   ...     ...             ...          ...           ...   \n",
       "3895  3896    40  Female          Hoodie     Clothing            28   \n",
       "3896  3897    52  Female        Backpack  Accessories            49   \n",
       "3897  3898    46  Female            Belt  Accessories            33   \n",
       "3898  3899    44  Female           Shoes     Footwear            77   \n",
       "3899  3900    52  Female         Handbag  Accessories            81   \n",
       "\n",
       "       Localizacion Talla      Color Estacion  Calificacion de la reseña  \\\n",
       "0          Kentucky     L       Gray   Winter                        3.1   \n",
       "1             Maine     L     Maroon   Winter                        3.1   \n",
       "2     Massachusetts     S     Maroon   Spring                        3.1   \n",
       "3      Rhode Island     M     Maroon   Spring                        3.5   \n",
       "4            Oregon     M  Turquoise   Spring                        2.7   \n",
       "...             ...   ...        ...      ...                        ...   \n",
       "3895       Virginia     L  Turquoise   Summer                        4.2   \n",
       "3896           Iowa     L      White   Spring                        4.5   \n",
       "3897     New Jersey     L      Green   Spring                        2.9   \n",
       "3898      Minnesota     S      Brown   Summer                        3.8   \n",
       "3899     California     M      Beige   Spring                        3.1   \n",
       "\n",
       "     Estado de la subscripcion Metodo de pago   Tipo de envio  \\\n",
       "0                          Yes    Credit Card         Express   \n",
       "1                          Yes  Bank Transfer         Express   \n",
       "2                          Yes           Cash   Free Shipping   \n",
       "3                          Yes         PayPal    Next Day Air   \n",
       "4                          Yes           Cash   Free Shipping   \n",
       "...                        ...            ...             ...   \n",
       "3895                        No           Cash  2-Day Shipping   \n",
       "3896                        No         PayPal    Store Pickup   \n",
       "3897                        No    Credit Card        Standard   \n",
       "3898                        No         PayPal         Express   \n",
       "3899                        No  Bank Transfer    Store Pickup   \n",
       "\n",
       "     Descuento aplicado Uso codigo promocional  Compras anteriores  \\\n",
       "0                   Yes                    Yes                  14   \n",
       "1                   Yes                    Yes                   2   \n",
       "2                   Yes                    Yes                  23   \n",
       "3                   Yes                    Yes                  49   \n",
       "4                   Yes                    Yes                  31   \n",
       "...                 ...                    ...                 ...   \n",
       "3895                 No                     No                  32   \n",
       "3896                 No                     No                  41   \n",
       "3897                 No                     No                  24   \n",
       "3898                 No                     No                  24   \n",
       "3899                 No                     No                  33   \n",
       "\n",
       "     Metodo de pago preferido Frecuencia de compra  \n",
       "0                       Venmo          Fortnightly  \n",
       "1                        Cash          Fortnightly  \n",
       "2                 Credit Card               Weekly  \n",
       "3                      PayPal               Weekly  \n",
       "4                      PayPal             Annually  \n",
       "...                       ...                  ...  \n",
       "3895                    Venmo               Weekly  \n",
       "3896            Bank Transfer            Bi-Weekly  \n",
       "3897                    Venmo            Quarterly  \n",
       "3898                    Venmo               Weekly  \n",
       "3899                    Venmo            Quarterly  \n",
       "\n",
       "[3900 rows x 19 columns]"
      ]
     },
     "execution_count": 301,
     "metadata": {},
     "output_type": "execute_result"
    }
   ],
   "source": [
    "df.columns=['ID','Edad','Genero','Objeto Comprado','Categoria','Precio (USD)','Localizacion','Talla','Color','Estacion','Calificacion de la reseña','Estado de la subscripcion','Metodo de pago','Tipo de envio','Descuento aplicado','Uso codigo promocional','Compras anteriores','Metodo de pago preferido','Frecuencia de compra']\n",
    "\n",
    "df"
   ]
  },
  {
   "cell_type": "markdown",
   "metadata": {},
   "source": []
  },
  {
   "cell_type": "code",
   "execution_count": 302,
   "metadata": {},
   "outputs": [
    {
     "data": {
      "text/html": [
       "<div>\n",
       "<style scoped>\n",
       "    .dataframe tbody tr th:only-of-type {\n",
       "        vertical-align: middle;\n",
       "    }\n",
       "\n",
       "    .dataframe tbody tr th {\n",
       "        vertical-align: top;\n",
       "    }\n",
       "\n",
       "    .dataframe thead th {\n",
       "        text-align: right;\n",
       "    }\n",
       "</style>\n",
       "<table border=\"1\" class=\"dataframe\">\n",
       "  <thead>\n",
       "    <tr style=\"text-align: right;\">\n",
       "      <th></th>\n",
       "      <th>ID</th>\n",
       "      <th>Edad</th>\n",
       "      <th>Precio (USD)</th>\n",
       "      <th>Calificacion de la reseña</th>\n",
       "      <th>Compras anteriores</th>\n",
       "    </tr>\n",
       "  </thead>\n",
       "  <tbody>\n",
       "    <tr>\n",
       "      <th>count</th>\n",
       "      <td>3900.000000</td>\n",
       "      <td>3900.000000</td>\n",
       "      <td>3900.000000</td>\n",
       "      <td>3900.000000</td>\n",
       "      <td>3900.000000</td>\n",
       "    </tr>\n",
       "    <tr>\n",
       "      <th>mean</th>\n",
       "      <td>1950.500000</td>\n",
       "      <td>44.068462</td>\n",
       "      <td>59.764359</td>\n",
       "      <td>3.749949</td>\n",
       "      <td>25.351538</td>\n",
       "    </tr>\n",
       "    <tr>\n",
       "      <th>std</th>\n",
       "      <td>1125.977353</td>\n",
       "      <td>15.207589</td>\n",
       "      <td>23.685392</td>\n",
       "      <td>0.716223</td>\n",
       "      <td>14.447125</td>\n",
       "    </tr>\n",
       "    <tr>\n",
       "      <th>min</th>\n",
       "      <td>1.000000</td>\n",
       "      <td>18.000000</td>\n",
       "      <td>20.000000</td>\n",
       "      <td>2.500000</td>\n",
       "      <td>1.000000</td>\n",
       "    </tr>\n",
       "    <tr>\n",
       "      <th>25%</th>\n",
       "      <td>975.750000</td>\n",
       "      <td>31.000000</td>\n",
       "      <td>39.000000</td>\n",
       "      <td>3.100000</td>\n",
       "      <td>13.000000</td>\n",
       "    </tr>\n",
       "    <tr>\n",
       "      <th>50%</th>\n",
       "      <td>1950.500000</td>\n",
       "      <td>44.000000</td>\n",
       "      <td>60.000000</td>\n",
       "      <td>3.700000</td>\n",
       "      <td>25.000000</td>\n",
       "    </tr>\n",
       "    <tr>\n",
       "      <th>75%</th>\n",
       "      <td>2925.250000</td>\n",
       "      <td>57.000000</td>\n",
       "      <td>81.000000</td>\n",
       "      <td>4.400000</td>\n",
       "      <td>38.000000</td>\n",
       "    </tr>\n",
       "    <tr>\n",
       "      <th>max</th>\n",
       "      <td>3900.000000</td>\n",
       "      <td>70.000000</td>\n",
       "      <td>100.000000</td>\n",
       "      <td>5.000000</td>\n",
       "      <td>50.000000</td>\n",
       "    </tr>\n",
       "  </tbody>\n",
       "</table>\n",
       "</div>"
      ],
      "text/plain": [
       "                ID         Edad  Precio (USD)  Calificacion de la reseña  \\\n",
       "count  3900.000000  3900.000000   3900.000000                3900.000000   \n",
       "mean   1950.500000    44.068462     59.764359                   3.749949   \n",
       "std    1125.977353    15.207589     23.685392                   0.716223   \n",
       "min       1.000000    18.000000     20.000000                   2.500000   \n",
       "25%     975.750000    31.000000     39.000000                   3.100000   \n",
       "50%    1950.500000    44.000000     60.000000                   3.700000   \n",
       "75%    2925.250000    57.000000     81.000000                   4.400000   \n",
       "max    3900.000000    70.000000    100.000000                   5.000000   \n",
       "\n",
       "       Compras anteriores  \n",
       "count         3900.000000  \n",
       "mean            25.351538  \n",
       "std             14.447125  \n",
       "min              1.000000  \n",
       "25%             13.000000  \n",
       "50%             25.000000  \n",
       "75%             38.000000  \n",
       "max             50.000000  "
      ]
     },
     "execution_count": 302,
     "metadata": {},
     "output_type": "execute_result"
    }
   ],
   "source": [
    "df.describe()\n"
   ]
  },
  {
   "cell_type": "markdown",
   "metadata": {},
   "source": [
    "### 🔎 Buscnar valores nulos"
   ]
  },
  {
   "cell_type": "code",
   "execution_count": 303,
   "metadata": {},
   "outputs": [
    {
     "data": {
      "text/plain": [
       "ID                           0\n",
       "Edad                         0\n",
       "Genero                       0\n",
       "Objeto Comprado              0\n",
       "Categoria                    0\n",
       "Precio (USD)                 0\n",
       "Localizacion                 0\n",
       "Talla                        0\n",
       "Color                        0\n",
       "Estacion                     0\n",
       "Calificacion de la reseña    0\n",
       "Estado de la subscripcion    0\n",
       "Metodo de pago               0\n",
       "Tipo de envio                0\n",
       "Descuento aplicado           0\n",
       "Uso codigo promocional       0\n",
       "Compras anteriores           0\n",
       "Metodo de pago preferido     0\n",
       "Frecuencia de compra         0\n",
       "dtype: int64"
      ]
     },
     "execution_count": 303,
     "metadata": {},
     "output_type": "execute_result"
    }
   ],
   "source": [
    "df.isnull().sum()\n"
   ]
  },
  {
   "cell_type": "markdown",
   "metadata": {},
   "source": [
    "### Buscar valores duplicados"
   ]
  },
  {
   "cell_type": "code",
   "execution_count": 304,
   "metadata": {},
   "outputs": [
    {
     "data": {
      "text/plain": [
       "np.int64(0)"
      ]
     },
     "execution_count": 304,
     "metadata": {},
     "output_type": "execute_result"
    }
   ],
   "source": [
    "df.duplicated().sum()\n"
   ]
  },
  {
   "cell_type": "markdown",
   "metadata": {},
   "source": [
    "### Procesar datos (Encodear y Estandarizar los datos)"
   ]
  },
  {
   "cell_type": "code",
   "execution_count": 305,
   "metadata": {},
   "outputs": [
    {
     "data": {
      "text/html": [
       "<div>\n",
       "<style scoped>\n",
       "    .dataframe tbody tr th:only-of-type {\n",
       "        vertical-align: middle;\n",
       "    }\n",
       "\n",
       "    .dataframe tbody tr th {\n",
       "        vertical-align: top;\n",
       "    }\n",
       "\n",
       "    .dataframe thead th {\n",
       "        text-align: right;\n",
       "    }\n",
       "</style>\n",
       "<table border=\"1\" class=\"dataframe\">\n",
       "  <thead>\n",
       "    <tr style=\"text-align: right;\">\n",
       "      <th></th>\n",
       "      <th>Edad</th>\n",
       "      <th>Precio (USD)</th>\n",
       "      <th>Compras anteriores</th>\n",
       "    </tr>\n",
       "  </thead>\n",
       "  <tbody>\n",
       "    <tr>\n",
       "      <th>0</th>\n",
       "      <td>55</td>\n",
       "      <td>53</td>\n",
       "      <td>14</td>\n",
       "    </tr>\n",
       "    <tr>\n",
       "      <th>1</th>\n",
       "      <td>19</td>\n",
       "      <td>64</td>\n",
       "      <td>2</td>\n",
       "    </tr>\n",
       "    <tr>\n",
       "      <th>2</th>\n",
       "      <td>50</td>\n",
       "      <td>73</td>\n",
       "      <td>23</td>\n",
       "    </tr>\n",
       "    <tr>\n",
       "      <th>3</th>\n",
       "      <td>21</td>\n",
       "      <td>90</td>\n",
       "      <td>49</td>\n",
       "    </tr>\n",
       "    <tr>\n",
       "      <th>4</th>\n",
       "      <td>45</td>\n",
       "      <td>49</td>\n",
       "      <td>31</td>\n",
       "    </tr>\n",
       "    <tr>\n",
       "      <th>...</th>\n",
       "      <td>...</td>\n",
       "      <td>...</td>\n",
       "      <td>...</td>\n",
       "    </tr>\n",
       "    <tr>\n",
       "      <th>3895</th>\n",
       "      <td>40</td>\n",
       "      <td>28</td>\n",
       "      <td>32</td>\n",
       "    </tr>\n",
       "    <tr>\n",
       "      <th>3896</th>\n",
       "      <td>52</td>\n",
       "      <td>49</td>\n",
       "      <td>41</td>\n",
       "    </tr>\n",
       "    <tr>\n",
       "      <th>3897</th>\n",
       "      <td>46</td>\n",
       "      <td>33</td>\n",
       "      <td>24</td>\n",
       "    </tr>\n",
       "    <tr>\n",
       "      <th>3898</th>\n",
       "      <td>44</td>\n",
       "      <td>77</td>\n",
       "      <td>24</td>\n",
       "    </tr>\n",
       "    <tr>\n",
       "      <th>3899</th>\n",
       "      <td>52</td>\n",
       "      <td>81</td>\n",
       "      <td>33</td>\n",
       "    </tr>\n",
       "  </tbody>\n",
       "</table>\n",
       "<p>3900 rows × 3 columns</p>\n",
       "</div>"
      ],
      "text/plain": [
       "      Edad  Precio (USD)  Compras anteriores\n",
       "0       55            53                  14\n",
       "1       19            64                   2\n",
       "2       50            73                  23\n",
       "3       21            90                  49\n",
       "4       45            49                  31\n",
       "...    ...           ...                 ...\n",
       "3895    40            28                  32\n",
       "3896    52            49                  41\n",
       "3897    46            33                  24\n",
       "3898    44            77                  24\n",
       "3899    52            81                  33\n",
       "\n",
       "[3900 rows x 3 columns]"
      ]
     },
     "execution_count": 305,
     "metadata": {},
     "output_type": "execute_result"
    }
   ],
   "source": [
    "\n",
    "\n",
    "# Inicializar el LabelEncoder y el StandardScaler\n",
    "label_encoder = LabelEncoder()\n",
    "scaler = StandardScaler()\n",
    "\n",
    "# Codificar 'Precio (USD)' y normalizar las columnas relevantes\n",
    "# df['Precio (USD)'] = label_encoder.fit_transform(df['Precio (USD)'])\n",
    "# df_reducido = df[['Edad', 'Precio (USD)', 'Compras anteriores']]\n",
    "\n",
    "# Normalizar las columnas seleccionadas\n",
    "df_reducido = df[['Edad', 'Precio (USD)', 'Compras anteriores']].copy() \n",
    "# df_reducido[['Edad', 'Precio (USD)', 'Compras anteriores']] = scaler.fit_transform(df_reducido[['Edad', 'Precio (USD)', 'Compras anteriores']])\n",
    "\n",
    "# Mostrar el DataFrame reducido con los cambios\n",
    "df_reducido\n"
   ]
  },
  {
   "cell_type": "markdown",
   "metadata": {},
   "source": [
    "### Método Elbow"
   ]
  },
  {
   "cell_type": "code",
   "execution_count": 306,
   "metadata": {},
   "outputs": [
    {
     "data": {
      "image/png": "[encoded data removed]",
      "text/plain": [
       "<Figure size 800x550 with 1 Axes>"
      ]
     },
     "metadata": {},
     "output_type": "display_data"
    },
    {
     "data": {
      "text/plain": [
       "<Axes: title={'center': 'Distortion Score Elbow for KMeans Clustering'}, xlabel='k', ylabel='distortion score'>"
      ]
     },
     "execution_count": 306,
     "metadata": {},
     "output_type": "execute_result"
    }
   ],
   "source": [
    "# Crear el modelo K-Means\n",
    "model = KMeans(init='k-means++', random_state=42)\n",
    "\n",
    "# Visualizador del codo\n",
    "visualizer = KElbowVisualizer(model, k=(2,10), metric='distortion', timings=False)\n",
    "\n",
    "# Ajustar y mostrar el gráfico\n",
    "visualizer.fit(df_reducido)\n",
    "visualizer.show()"
   ]
  },
  {
   "cell_type": "code",
   "execution_count": 307,
   "metadata": {},
   "outputs": [],
   "source": [
    "kmeans = KMeans(n_clusters=5, random_state=42, init='k-means++', n_init=10)\n"
   ]
  },
  {
   "cell_type": "code",
   "execution_count": 308,
   "metadata": {},
   "outputs": [
    {
     "data": {
      "image/png": "[encoded data removed]",
      "text/plain": [
       "<Figure size 600x600 with 1 Axes>"
      ]
     },
     "metadata": {},
     "output_type": "display_data"
    },
    {
     "data": {
      "text/plain": [
       "<Axes: title={'center': 'Silhouette Plot of KMeans Clustering for 3900 Samples in 5 Centers'}, xlabel='silhouette coefficient values', ylabel='cluster label'>"
      ]
     },
     "execution_count": 308,
     "metadata": {},
     "output_type": "execute_result"
    }
   ],
   "source": [
    "\n",
    "# Crear la figura\n",
    "fig, ax = plt.subplots(figsize=(6,6))\n",
    "\n",
    "# Inicializar y ajustar el visualizador de silueta\n",
    "visualizer = SilhouetteVisualizer(kmeans, ax=ax)\n",
    "visualizer.fit(df_reducido.values)  # Convertir a NumPy array para evitar el warning\n",
    "visualizer.show()"
   ]
  },
  {
   "cell_type": "code",
   "execution_count": 309,
   "metadata": {},
   "outputs": [
    {
     "data": {
      "text/html": [
       "<div>\n",
       "<style scoped>\n",
       "    .dataframe tbody tr th:only-of-type {\n",
       "        vertical-align: middle;\n",
       "    }\n",
       "\n",
       "    .dataframe tbody tr th {\n",
       "        vertical-align: top;\n",
       "    }\n",
       "\n",
       "    .dataframe thead th {\n",
       "        text-align: right;\n",
       "    }\n",
       "</style>\n",
       "<table border=\"1\" class=\"dataframe\">\n",
       "  <thead>\n",
       "    <tr style=\"text-align: right;\">\n",
       "      <th></th>\n",
       "      <th>Edad</th>\n",
       "      <th>Precio (USD)</th>\n",
       "      <th>Compras anteriores</th>\n",
       "      <th>Cluster</th>\n",
       "    </tr>\n",
       "  </thead>\n",
       "  <tbody>\n",
       "    <tr>\n",
       "      <th>0</th>\n",
       "      <td>55</td>\n",
       "      <td>53</td>\n",
       "      <td>14</td>\n",
       "      <td>3</td>\n",
       "    </tr>\n",
       "    <tr>\n",
       "      <th>1</th>\n",
       "      <td>19</td>\n",
       "      <td>64</td>\n",
       "      <td>2</td>\n",
       "      <td>2</td>\n",
       "    </tr>\n",
       "    <tr>\n",
       "      <th>2</th>\n",
       "      <td>50</td>\n",
       "      <td>73</td>\n",
       "      <td>23</td>\n",
       "      <td>1</td>\n",
       "    </tr>\n",
       "    <tr>\n",
       "      <th>3</th>\n",
       "      <td>21</td>\n",
       "      <td>90</td>\n",
       "      <td>49</td>\n",
       "      <td>4</td>\n",
       "    </tr>\n",
       "    <tr>\n",
       "      <th>4</th>\n",
       "      <td>45</td>\n",
       "      <td>49</td>\n",
       "      <td>31</td>\n",
       "      <td>3</td>\n",
       "    </tr>\n",
       "    <tr>\n",
       "      <th>...</th>\n",
       "      <td>...</td>\n",
       "      <td>...</td>\n",
       "      <td>...</td>\n",
       "      <td>...</td>\n",
       "    </tr>\n",
       "    <tr>\n",
       "      <th>3895</th>\n",
       "      <td>40</td>\n",
       "      <td>28</td>\n",
       "      <td>32</td>\n",
       "      <td>0</td>\n",
       "    </tr>\n",
       "    <tr>\n",
       "      <th>3896</th>\n",
       "      <td>52</td>\n",
       "      <td>49</td>\n",
       "      <td>41</td>\n",
       "      <td>3</td>\n",
       "    </tr>\n",
       "    <tr>\n",
       "      <th>3897</th>\n",
       "      <td>46</td>\n",
       "      <td>33</td>\n",
       "      <td>24</td>\n",
       "      <td>3</td>\n",
       "    </tr>\n",
       "    <tr>\n",
       "      <th>3898</th>\n",
       "      <td>44</td>\n",
       "      <td>77</td>\n",
       "      <td>24</td>\n",
       "      <td>2</td>\n",
       "    </tr>\n",
       "    <tr>\n",
       "      <th>3899</th>\n",
       "      <td>52</td>\n",
       "      <td>81</td>\n",
       "      <td>33</td>\n",
       "      <td>1</td>\n",
       "    </tr>\n",
       "  </tbody>\n",
       "</table>\n",
       "<p>3900 rows × 4 columns</p>\n",
       "</div>"
      ],
      "text/plain": [
       "      Edad  Precio (USD)  Compras anteriores  Cluster\n",
       "0       55            53                  14        3\n",
       "1       19            64                   2        2\n",
       "2       50            73                  23        1\n",
       "3       21            90                  49        4\n",
       "4       45            49                  31        3\n",
       "...    ...           ...                 ...      ...\n",
       "3895    40            28                  32        0\n",
       "3896    52            49                  41        3\n",
       "3897    46            33                  24        3\n",
       "3898    44            77                  24        2\n",
       "3899    52            81                  33        1\n",
       "\n",
       "[3900 rows x 4 columns]"
      ]
     },
     "execution_count": 309,
     "metadata": {},
     "output_type": "execute_result"
    }
   ],
   "source": [
    "df_reducido = df_reducido[['Edad', 'Precio (USD)', 'Compras anteriores']].copy() \n",
    "df_reducido['Cluster'] = kmeans.fit_predict(df_reducido)\n",
    "\n",
    "\n",
    "df_reducido"
   ]
  },
  {
   "cell_type": "code",
   "execution_count": 310,
   "metadata": {},
   "outputs": [
    {
     "data": {
      "application/vnd.plotly.v1+json": {
       "config": {
        "plotlyServerURL": "https://plot.ly"
       },
       "data": [
        {
         "marker": {
          "color": {
           "bdata": "AwAAAAIAAAABAAAABAAAAAMAAAAAAAAAAQAAAAAAAAACAAAAAwAAAAMAAAACAAAAAQAAAAMAAAADAAAAAgAAAAAAAAADAAAAAwAAAAEAAAAEAAAABAAAAAMAAAAEAAAAAAAAAAAAAAAAAAAAAwAAAAEAAAAAAAAAAwAAAAQAAAAEAAAAAwAAAAQAAAADAAAABAAAAAAAAAAAAAAAAwAAAAEAAAADAAAAAgAAAAQAAAAEAAAAAwAAAAMAAAADAAAABAAAAAMAAAADAAAAAgAAAAAAAAAAAAAAAQAAAAAAAAAEAAAABAAAAAMAAAACAAAAAwAAAAEAAAAAAAAABAAAAAEAAAADAAAAAgAAAAMAAAADAAAAAgAAAAAAAAAAAAAAAAAAAAEAAAACAAAAAQAAAAMAAAAEAAAAAQAAAAQAAAAEAAAAAQAAAAAAAAAAAAAAAwAAAAIAAAAAAAAAAwAAAAAAAAACAAAAAAAAAAIAAAACAAAABAAAAAEAAAAEAAAABAAAAAQAAAAEAAAAAAAAAAEAAAAEAAAAAQAAAAEAAAADAAAAAgAAAAMAAAAEAAAAAQAAAAEAAAADAAAAAgAAAAQAAAAAAAAAAQAAAAEAAAACAAAAAwAAAAMAAAAEAAAAAQAAAAIAAAAAAAAAAQAAAAEAAAADAAAAAwAAAAQAAAAAAAAABAAAAAAAAAAAAAAABAAAAAEAAAACAAAAAgAAAAIAAAADAAAAAwAAAAEAAAADAAAAAwAAAAQAAAAAAAAAAAAAAAQAAAADAAAAAQAAAAQAAAACAAAAAgAAAAAAAAAEAAAAAwAAAAIAAAABAAAAAAAAAAIAAAAEAAAAAwAAAAAAAAADAAAAAQAAAAIAAAACAAAAAgAAAAMAAAAAAAAAAgAAAAAAAAADAAAAAAAAAAEAAAAAAAAAAAAAAAIAAAABAAAAAAAAAAMAAAADAAAAAgAAAAIAAAACAAAAAwAAAAAAAAADAAAABAAAAAIAAAADAAAAAgAAAAEAAAABAAAAAAAAAAQAAAACAAAAAwAAAAQAAAABAAAAAwAAAAEAAAAEAAAAAwAAAAMAAAADAAAABAAAAAEAAAAAAAAAAQAAAAMAAAABAAAAAAAAAAEAAAACAAAAAgAAAAAAAAABAAAAAgAAAAAAAAAAAAAAAgAAAAQAAAACAAAAAgAAAAAAAAACAAAAAAAAAAIAAAABAAAAAgAAAAMAAAABAAAAAAAAAAMAAAAEAAAAAAAAAAEAAAAEAAAAAQAAAAMAAAADAAAAAwAAAAQAAAABAAAAAgAAAAMAAAADAAAAAgAAAAIAAAABAAAAAwAAAAAAAAAAAAAAAAAAAAIAAAADAAAAAAAAAAMAAAAAAAAAAQAAAAAAAAACAAAABAAAAAAAAAAAAAAAAgAAAAAAAAABAAAAAwAAAAMAAAADAAAAAAAAAAEAAAADAAAAAwAAAAMAAAACAAAAAAAAAAAAAAABAAAABAAAAAIAAAAEAAAAAgAAAAAAAAADAAAAAAAAAAAAAAADAAAABAAAAAEAAAADAAAAAwAAAAEAAAADAAAAAwAAAAMAAAAEAAAAAAAAAAMAAAAEAAAAAgAAAAEAAAAAAAAABAAAAAQAAAADAAAAAAAAAAAAAAADAAAAAwAAAAEAAAADAAAAAgAAAAQAAAAAAAAAAwAAAAAAAAABAAAAAgAAAAIAAAABAAAAAwAAAAEAAAABAAAABAAAAAEAAAADAAAAAwAAAAMAAAADAAAAAwAAAAQAAAACAAAAAgAAAAAAAAAEAAAAAgAAAAAAAAABAAAAAAAAAAAAAAAAAAAAAwAAAAAAAAAEAAAAAwAAAAMAAAAAAAAAAwAAAAIAAAAEAAAABAAAAAIAAAABAAAAAQAAAAAAAAABAAAAAAAAAAMAAAAEAAAAAwAAAAEAAAACAAAAAQAAAAIAAAABAAAAAwAAAAMAAAAAAAAAAAAAAAMAAAAEAAAAAgAAAAAAAAABAAAAAwAAAAMAAAADAAAAAQAAAAAAAAACAAAAAwAAAAQAAAACAAAAAwAAAAEAAAADAAAAAQAAAAIAAAAAAAAABAAAAAIAAAAEAAAAAgAAAAAAAAACAAAAAgAAAAAAAAAEAAAAAwAAAAIAAAACAAAABAAAAAAAAAACAAAAAgAAAAMAAAACAAAABAAAAAAAAAAAAAAAAwAAAAIAAAABAAAABAAAAAMAAAAAAAAABAAAAAQAAAACAAAAAAAAAAAAAAAEAAAAAAAAAAMAAAACAAAAAgAAAAIAAAACAAAAAgAAAAAAAAAEAAAAAQAAAAEAAAADAAAAAwAAAAAAAAADAAAAAwAAAAMAAAAEAAAABAAAAAQAAAAEAAAAAwAAAAAAAAAEAAAAAgAAAAAAAAAAAAAAAAAAAAMAAAADAAAAAwAAAAIAAAABAAAAAQAAAAQAAAABAAAAAwAAAAEAAAAEAAAAAQAAAAQAAAAEAAAAAQAAAAAAAAAAAAAAAAAAAAAAAAACAAAAAQAAAAAAAAAAAAAAAQAAAAQAAAACAAAABAAAAAAAAAAEAAAAAQAAAAIAAAAAAAAAAgAAAAEAAAADAAAABAAAAAIAAAADAAAAAQAAAAMAAAABAAAAAgAAAAAAAAAEAAAAAAAAAAQAAAAAAAAABAAAAAIAAAAAAAAAAwAAAAMAAAADAAAAAAAAAAIAAAAAAAAAAwAAAAAAAAACAAAABAAAAAMAAAAAAAAABAAAAAEAAAACAAAAAAAAAAMAAAACAAAAAAAAAAIAAAAAAAAAAQAAAAAAAAADAAAAAwAAAAMAAAAAAAAABAAAAAIAAAADAAAAAwAAAAQAAAADAAAAAgAAAAMAAAACAAAAAwAAAAAAAAADAAAAAwAAAAMAAAAEAAAAAgAAAAQAAAAAAAAAAQAAAAAAAAAEAAAAAAAAAAIAAAAEAAAAAgAAAAMAAAADAAAAAwAAAAIAAAAEAAAAAQAAAAMAAAAAAAAAAQAAAAEAAAABAAAAAwAAAAMAAAACAAAAAAAAAAEAAAADAAAAAQAAAAEAAAABAAAAAQAAAAEAAAABAAAAAgAAAAQAAAABAAAAAwAAAAIAAAACAAAAAgAAAAQAAAABAAAAAwAAAAAAAAAEAAAAAgAAAAQAAAADAAAAAAAAAAMAAAADAAAAAgAAAAQAAAAAAAAAAQAAAAQAAAADAAAABAAAAAAAAAACAAAAAAAAAAIAAAAAAAAABAAAAAMAAAAAAAAAAwAAAAEAAAAAAAAAAwAAAAMAAAABAAAAAQAAAAQAAAACAAAAAQAAAAAAAAACAAAAAwAAAAEAAAAEAAAAAQAAAAIAAAACAAAAAAAAAAEAAAACAAAAAQAAAAEAAAAAAAAAAwAAAAQAAAAEAAAAAAAAAAAAAAADAAAAAwAAAAEAAAACAAAAAwAAAAAAAAABAAAAAwAAAAMAAAABAAAAAAAAAAEAAAAAAAAAAAAAAAMAAAAEAAAABAAAAAAAAAAAAAAAAgAAAAMAAAADAAAAAQAAAAEAAAAEAAAAAQAAAAEAAAAEAAAAAAAAAAQAAAABAAAAAQAAAAMAAAAAAAAAAwAAAAQAAAADAAAAAgAAAAQAAAABAAAABAAAAAEAAAADAAAABAAAAAAAAAAAAAAAAQAAAAEAAAADAAAAAAAAAAQAAAAEAAAABAAAAAMAAAAEAAAAAwAAAAAAAAACAAAAAwAAAAEAAAADAAAAAwAAAAIAAAACAAAAAgAAAAEAAAACAAAABAAAAAMAAAADAAAAAAAAAAEAAAAEAAAAAwAAAAQAAAAEAAAABAAAAAQAAAAAAAAAAgAAAAAAAAADAAAABAAAAAQAAAAAAAAABAAAAAQAAAABAAAAAgAAAAEAAAACAAAABAAAAAMAAAAAAAAABAAAAAAAAAABAAAAAwAAAAQAAAADAAAAAwAAAAMAAAAEAAAABAAAAAMAAAAEAAAAAQAAAAIAAAAAAAAAAgAAAAAAAAACAAAAAgAAAAIAAAACAAAAAwAAAAAAAAADAAAAAQAAAAAAAAABAAAAAwAAAAAAAAABAAAAAwAAAAMAAAADAAAAAgAAAAMAAAACAAAAAQAAAAIAAAAAAAAABAAAAAAAAAACAAAAAAAAAAMAAAACAAAAAwAAAAAAAAABAAAAAAAAAAAAAAAAAAAAAQAAAAQAAAAEAAAAAwAAAAEAAAADAAAAAgAAAAAAAAADAAAAAAAAAAAAAAADAAAAAAAAAAQAAAAEAAAAAAAAAAMAAAAAAAAAAAAAAAAAAAAAAAAAAAAAAAAAAAADAAAAAgAAAAEAAAABAAAAAQAAAAAAAAADAAAAAwAAAAIAAAAEAAAAAAAAAAAAAAABAAAAAwAAAAMAAAADAAAABAAAAAMAAAABAAAAAgAAAAEAAAAAAAAABAAAAAIAAAACAAAAAQAAAAEAAAACAAAAAgAAAAAAAAAEAAAAAAAAAAAAAAADAAAAAAAAAAEAAAABAAAAAgAAAAMAAAAAAAAAAQAAAAMAAAABAAAABAAAAAMAAAACAAAABAAAAAMAAAAAAAAAAQAAAAMAAAAEAAAAAAAAAAIAAAACAAAAAQAAAAIAAAADAAAAAgAAAAMAAAABAAAAAAAAAAIAAAAAAAAAAgAAAAMAAAADAAAAAQAAAAIAAAAAAAAAAAAAAAEAAAAEAAAAAQAAAAQAAAACAAAAAwAAAAAAAAABAAAAAQAAAAQAAAADAAAAAQAAAAEAAAADAAAAAAAAAAQAAAAAAAAAAgAAAAQAAAADAAAABAAAAAIAAAADAAAAAQAAAAEAAAAAAAAAAAAAAAEAAAACAAAAAAAAAAAAAAACAAAAAwAAAAMAAAACAAAABAAAAAAAAAAEAAAAAAAAAAMAAAABAAAAAwAAAAIAAAAEAAAAAwAAAAMAAAADAAAAAQAAAAIAAAACAAAAAgAAAAMAAAABAAAABAAAAAAAAAADAAAAAQAAAAMAAAADAAAABAAAAAAAAAACAAAABAAAAAMAAAAAAAAABAAAAAIAAAABAAAAAAAAAAAAAAADAAAAAgAAAAAAAAADAAAAAwAAAAQAAAADAAAAAQAAAAIAAAAEAAAAAAAAAAMAAAACAAAAAAAAAAEAAAAEAAAABAAAAAAAAAAAAAAAAwAAAAAAAAABAAAAAAAAAAIAAAACAAAAAQAAAAEAAAABAAAAAwAAAAQAAAAAAAAAAwAAAAMAAAABAAAAAAAAAAQAAAAAAAAAAgAAAAIAAAABAAAAAwAAAAEAAAADAAAAAgAAAAQAAAABAAAAAQAAAAIAAAACAAAABAAAAAMAAAABAAAAAwAAAAAAAAACAAAAAgAAAAIAAAAEAAAAAgAAAAQAAAACAAAABAAAAAAAAAADAAAAAAAAAAAAAAABAAAABAAAAAMAAAAAAAAAAAAAAAEAAAAEAAAABAAAAAMAAAADAAAAAQAAAAQAAAABAAAAAQAAAAIAAAAAAAAAAAAAAAEAAAAAAAAAAwAAAAQAAAADAAAAAQAAAAMAAAADAAAAAgAAAAAAAAADAAAAAAAAAAEAAAAEAAAAAAAAAAIAAAAAAAAAAAAAAAIAAAAAAAAAAgAAAAMAAAADAAAAAgAAAAQAAAADAAAABAAAAAMAAAAAAAAAAAAAAAAAAAACAAAAAQAAAAMAAAAAAAAAAwAAAAIAAAAAAAAAAQAAAAQAAAABAAAAAQAAAAEAAAAEAAAAAQAAAAMAAAAEAAAAAwAAAAQAAAAAAAAAAwAAAAMAAAABAAAABAAAAAAAAAAEAAAAAQAAAAIAAAAAAAAABAAAAAQAAAACAAAAAwAAAAMAAAAAAAAAAAAAAAMAAAADAAAAAQAAAAQAAAADAAAABAAAAAEAAAAAAAAAAAAAAAIAAAACAAAAAQAAAAAAAAACAAAABAAAAAIAAAABAAAAAgAAAAMAAAAEAAAAAQAAAAQAAAACAAAAAAAAAAQAAAADAAAAAwAAAAQAAAAAAAAAAgAAAAQAAAADAAAAAwAAAAQAAAADAAAAAQAAAAEAAAAAAAAAAgAAAAEAAAAEAAAAAgAAAAAAAAADAAAAAAAAAAAAAAABAAAAAwAAAAAAAAAEAAAAAwAAAAMAAAACAAAAAAAAAAAAAAACAAAAAwAAAAAAAAABAAAAAwAAAAAAAAACAAAAAQAAAAMAAAAAAAAAAwAAAAIAAAAAAAAAAQAAAAIAAAADAAAAAQAAAAEAAAACAAAAAQAAAAAAAAABAAAABAAAAAAAAAAEAAAABAAAAAMAAAAAAAAAAAAAAAAAAAABAAAAAAAAAAAAAAABAAAABAAAAAEAAAABAAAAAwAAAAEAAAADAAAABAAAAAMAAAAAAAAAAwAAAAQAAAACAAAAAQAAAAAAAAACAAAAAAAAAAQAAAADAAAAAgAAAAEAAAABAAAAAAAAAAEAAAACAAAAAgAAAAIAAAACAAAAAgAAAAMAAAACAAAAAwAAAAMAAAACAAAAAQAAAAAAAAABAAAAAgAAAAEAAAADAAAAAwAAAAIAAAACAAAAAAAAAAIAAAAEAAAABAAAAAEAAAADAAAAAQAAAAIAAAAAAAAABAAAAAQAAAACAAAAAwAAAAQAAAADAAAAAwAAAAAAAAACAAAAAAAAAAQAAAABAAAAAwAAAAMAAAADAAAAAQAAAAAAAAAAAAAAAgAAAAQAAAAAAAAAAQAAAAEAAAABAAAAAQAAAAAAAAAEAAAAAgAAAAIAAAAEAAAAAAAAAAEAAAAEAAAABAAAAAEAAAADAAAAAgAAAAAAAAABAAAAAwAAAAEAAAACAAAABAAAAAMAAAAEAAAAAgAAAAQAAAABAAAAAQAAAAEAAAAAAAAAAAAAAAEAAAAAAAAAAwAAAAEAAAAEAAAABAAAAAQAAAAEAAAAAwAAAAEAAAACAAAAAAAAAAEAAAAAAAAAAAAAAAAAAAABAAAAAAAAAAMAAAAAAAAAAwAAAAAAAAAEAAAAAgAAAAEAAAADAAAABAAAAAEAAAAAAAAAAAAAAAIAAAADAAAAAwAAAAEAAAAEAAAAAgAAAAIAAAACAAAAAAAAAAMAAAAEAAAAAQAAAAQAAAACAAAAAwAAAAIAAAADAAAAAwAAAAQAAAACAAAAAwAAAAIAAAACAAAAAAAAAAMAAAADAAAAAwAAAAAAAAACAAAAAQAAAAAAAAAAAAAAAgAAAAAAAAABAAAAAgAAAAMAAAABAAAAAQAAAAQAAAAAAAAABAAAAAMAAAADAAAAAAAAAAQAAAACAAAABAAAAAAAAAABAAAAAAAAAAQAAAAEAAAABAAAAAEAAAAAAAAAAgAAAAAAAAABAAAABAAAAAAAAAAEAAAAAwAAAAQAAAADAAAAAgAAAAIAAAACAAAAAwAAAAQAAAADAAAAAgAAAAAAAAADAAAAAAAAAAIAAAAAAAAAAwAAAAAAAAABAAAAAAAAAAQAAAAAAAAAAgAAAAMAAAAAAAAAAAAAAAQAAAAAAAAAAgAAAAMAAAAAAAAAAQAAAAAAAAAEAAAAAgAAAAAAAAACAAAAAwAAAAMAAAAEAAAAAgAAAAQAAAABAAAAAAAAAAIAAAADAAAAAwAAAAMAAAACAAAABAAAAAAAAAAAAAAABAAAAAAAAAABAAAAAQAAAAEAAAACAAAAAQAAAAMAAAAAAAAAAgAAAAAAAAABAAAAAwAAAAAAAAADAAAAAwAAAAQAAAACAAAAAAAAAAAAAAADAAAAAwAAAAQAAAADAAAAAgAAAAEAAAADAAAAAAAAAAAAAAABAAAAAQAAAAIAAAADAAAAAgAAAAQAAAACAAAAAAAAAAMAAAAEAAAAAAAAAAQAAAAAAAAAAQAAAAIAAAAEAAAAAAAAAAAAAAAAAAAAAgAAAAQAAAADAAAABAAAAAIAAAADAAAAAAAAAAQAAAAAAAAAAAAAAAAAAAADAAAAAAAAAAMAAAADAAAAAgAAAAAAAAACAAAAAwAAAAMAAAAEAAAAAQAAAAAAAAACAAAAAwAAAAIAAAADAAAAAAAAAAIAAAACAAAABAAAAAMAAAAEAAAAAwAAAAAAAAACAAAABAAAAAIAAAADAAAAAQAAAAEAAAAEAAAABAAAAAIAAAABAAAAAgAAAAAAAAAAAAAABAAAAAEAAAAEAAAAAwAAAAIAAAADAAAAAgAAAAEAAAACAAAABAAAAAEAAAABAAAAAAAAAAIAAAAEAAAAAwAAAAEAAAAAAAAAAwAAAAMAAAADAAAAAwAAAAAAAAADAAAAAwAAAAMAAAAAAAAAAwAAAAMAAAADAAAAAAAAAAQAAAACAAAAAgAAAAMAAAAEAAAAAwAAAAAAAAABAAAAAgAAAAAAAAACAAAABAAAAAAAAAACAAAAAgAAAAAAAAAAAAAAAwAAAAEAAAADAAAAAgAAAAIAAAABAAAAAQAAAAAAAAACAAAAAQAAAAAAAAAEAAAAAQAAAAAAAAAEAAAAAgAAAAQAAAACAAAAAQAAAAAAAAAAAAAAAAAAAAAAAAACAAAAAwAAAAAAAAADAAAAAwAAAAIAAAAEAAAAAwAAAAMAAAABAAAAAAAAAAIAAAAAAAAAAAAAAAQAAAAAAAAAAAAAAAEAAAAAAAAABAAAAAEAAAABAAAAAAAAAAMAAAAAAAAAAQAAAAAAAAAAAAAAAAAAAAMAAAACAAAAAgAAAAMAAAADAAAAAAAAAAEAAAAAAAAAAwAAAAMAAAAAAAAAAwAAAAQAAAADAAAAAwAAAAQAAAACAAAAAQAAAAMAAAABAAAAAgAAAAQAAAACAAAAAwAAAAEAAAADAAAABAAAAAAAAAACAAAAAAAAAAMAAAAEAAAAAwAAAAMAAAABAAAAAwAAAAAAAAAEAAAAAAAAAAEAAAADAAAAAwAAAAQAAAAEAAAAAAAAAAQAAAAEAAAAAAAAAAIAAAAAAAAAAwAAAAQAAAADAAAAAwAAAAIAAAABAAAABAAAAAQAAAAAAAAABAAAAAIAAAAAAAAABAAAAAAAAAACAAAAAQAAAAEAAAAEAAAAAgAAAAIAAAAEAAAAAAAAAAQAAAABAAAAAwAAAAEAAAAAAAAAAwAAAAAAAAACAAAABAAAAAIAAAACAAAAAAAAAAIAAAACAAAAAwAAAAIAAAAEAAAAAwAAAAAAAAACAAAAAAAAAAQAAAAAAAAAAwAAAAMAAAACAAAAAwAAAAMAAAADAAAAAAAAAAAAAAAAAAAAAgAAAAMAAAABAAAAAgAAAAMAAAABAAAAAQAAAAEAAAAEAAAAAwAAAAAAAAACAAAAAgAAAAEAAAAAAAAAAwAAAAMAAAAEAAAABAAAAAQAAAADAAAAAAAAAAAAAAABAAAAAwAAAAMAAAAEAAAAAAAAAAMAAAAAAAAABAAAAAAAAAAEAAAAAwAAAAEAAAADAAAAAQAAAAAAAAAEAAAAAwAAAAIAAAADAAAAAgAAAAIAAAAAAAAAAgAAAAAAAAACAAAABAAAAAEAAAAAAAAAAQAAAAAAAAAAAAAAAwAAAAAAAAAAAAAAAwAAAAMAAAADAAAAAQAAAAQAAAABAAAAAwAAAAMAAAADAAAAAwAAAAIAAAAAAAAABAAAAAQAAAABAAAAAQAAAAAAAAAEAAAAAQAAAAAAAAACAAAAAgAAAAAAAAAEAAAAAgAAAAQAAAACAAAAAQAAAAIAAAAAAAAAAwAAAAEAAAAEAAAAAwAAAAIAAAADAAAAAwAAAAQAAAAEAAAAAAAAAAQAAAAEAAAAAgAAAAIAAAADAAAAAAAAAAMAAAABAAAAAwAAAAIAAAAAAAAABAAAAAEAAAAAAAAAAgAAAAQAAAADAAAAAQAAAAMAAAABAAAABAAAAAAAAAABAAAAAgAAAAQAAAACAAAABAAAAAIAAAADAAAAAQAAAAIAAAADAAAAAgAAAAQAAAADAAAAAAAAAAQAAAACAAAAAAAAAAMAAAAEAAAABAAAAAEAAAACAAAABAAAAAMAAAADAAAAAgAAAAMAAAACAAAAAAAAAAMAAAAAAAAAAwAAAAMAAAAEAAAAAAAAAAAAAAAEAAAAAwAAAAEAAAADAAAAAgAAAAEAAAAAAAAAAAAAAAEAAAACAAAAAwAAAAIAAAABAAAAAAAAAAEAAAABAAAAAAAAAAEAAAAEAAAAAwAAAAAAAAABAAAABAAAAAIAAAAAAAAAAQAAAAAAAAADAAAABAAAAAEAAAAAAAAABAAAAAAAAAAAAAAAAQAAAAMAAAACAAAAAwAAAAQAAAADAAAAAgAAAAAAAAACAAAAAwAAAAMAAAADAAAAAwAAAAEAAAAAAAAABAAAAAEAAAAAAAAAAwAAAAMAAAABAAAAAQAAAAMAAAAEAAAAAAAAAAAAAAADAAAAAwAAAAMAAAACAAAAAgAAAAAAAAABAAAAAAAAAAIAAAADAAAAAwAAAAMAAAAEAAAAAgAAAAEAAAAEAAAAAAAAAAMAAAAEAAAAAQAAAAIAAAACAAAAAQAAAAMAAAACAAAAAwAAAAMAAAAAAAAAAAAAAAIAAAAEAAAAAAAAAAIAAAABAAAAAQAAAAEAAAAEAAAAAQAAAAQAAAACAAAAAwAAAAMAAAABAAAAAAAAAAIAAAAAAAAABAAAAAIAAAAEAAAAAQAAAAMAAAAAAAAAAAAAAAIAAAAAAAAAAgAAAAQAAAABAAAAAgAAAAQAAAACAAAAAAAAAAMAAAACAAAAAAAAAAIAAAADAAAABAAAAAMAAAACAAAAAwAAAAMAAAABAAAABAAAAAAAAAADAAAAAwAAAAQAAAADAAAAAAAAAAAAAAABAAAAAgAAAAAAAAABAAAAAAAAAAAAAAADAAAAAwAAAAEAAAAEAAAAAgAAAAEAAAAAAAAAAwAAAAMAAAAAAAAAAwAAAAIAAAAAAAAAAAAAAAEAAAAEAAAAAwAAAAIAAAABAAAAAwAAAAQAAAADAAAAAAAAAAMAAAADAAAAAgAAAAMAAAAEAAAABAAAAAIAAAABAAAAAgAAAAAAAAABAAAAAwAAAAEAAAACAAAAAgAAAAEAAAAEAAAAAAAAAAQAAAADAAAAAwAAAAMAAAADAAAAAAAAAAAAAAAEAAAAAQAAAAQAAAAEAAAAAwAAAAEAAAACAAAABAAAAAQAAAACAAAABAAAAAAAAAACAAAAAwAAAAIAAAAAAAAAAAAAAAMAAAAEAAAAAwAAAAMAAAAAAAAAAgAAAAEAAAADAAAAAwAAAAEAAAADAAAAAwAAAAEAAAACAAAAAgAAAAMAAAAAAAAAAgAAAAMAAAAAAAAAAwAAAAMAAAABAAAABAAAAAAAAAABAAAAAwAAAAEAAAADAAAAAwAAAAMAAAACAAAABAAAAAAAAAACAAAAAAAAAAMAAAACAAAAAQAAAAAAAAADAAAAAQAAAAEAAAAEAAAAAwAAAAEAAAADAAAABAAAAAMAAAAAAAAAAAAAAAAAAAADAAAAAwAAAAAAAAAEAAAAAQAAAAQAAAAEAAAABAAAAAIAAAAEAAAAAgAAAAIAAAADAAAAAQAAAAAAAAAEAAAABAAAAAAAAAAEAAAAAAAAAAAAAAACAAAAAgAAAAQAAAAAAAAAAwAAAAQAAAACAAAABAAAAAIAAAAAAAAABAAAAAIAAAAAAAAAAAAAAAAAAAADAAAAAgAAAAAAAAAEAAAABAAAAAQAAAAAAAAAAgAAAAMAAAACAAAABAAAAAQAAAABAAAAAAAAAAMAAAAAAAAAAAAAAAEAAAAAAAAABAAAAAMAAAADAAAAAAAAAAAAAAAAAAAAAQAAAAEAAAACAAAAAgAAAAQAAAAAAAAAAAAAAAEAAAACAAAABAAAAAQAAAAEAAAAAgAAAAAAAAACAAAABAAAAAQAAAADAAAAAQAAAAMAAAAAAAAAAQAAAAAAAAAEAAAABAAAAAIAAAADAAAAAgAAAAEAAAABAAAAAgAAAAIAAAADAAAAAAAAAAEAAAABAAAAAAAAAAEAAAAAAAAAAgAAAAIAAAACAAAAAwAAAAQAAAADAAAAAAAAAAAAAAAEAAAAAQAAAAIAAAACAAAAAwAAAAMAAAABAAAAAgAAAAAAAAAAAAAAAwAAAAMAAAACAAAABAAAAAAAAAACAAAAAwAAAAAAAAAEAAAAAAAAAAMAAAABAAAAAAAAAAAAAAACAAAAAwAAAAQAAAAEAAAAAwAAAAMAAAAEAAAAAQAAAAAAAAAAAAAAAAAAAAIAAAABAAAAAwAAAAEAAAACAAAAAgAAAAMAAAAEAAAAAAAAAAAAAAABAAAAAgAAAAEAAAACAAAABAAAAAIAAAACAAAAAgAAAAAAAAAAAAAAAwAAAAIAAAABAAAAAAAAAAMAAAADAAAAAwAAAAAAAAADAAAAAgAAAAQAAAADAAAABAAAAAEAAAAEAAAAAwAAAAEAAAABAAAAAgAAAAAAAAACAAAAAgAAAAAAAAACAAAAAgAAAAEAAAAEAAAAAwAAAAMAAAACAAAAAwAAAAIAAAAAAAAABAAAAAQAAAACAAAAAwAAAAMAAAAAAAAAAwAAAAEAAAABAAAAAAAAAAMAAAABAAAAAQAAAAQAAAABAAAABAAAAAAAAAABAAAAAgAAAAEAAAAEAAAAAQAAAAAAAAAAAAAAAQAAAAMAAAADAAAAAAAAAAEAAAABAAAAAgAAAAIAAAAEAAAAAgAAAAQAAAADAAAABAAAAAEAAAAAAAAAAAAAAAAAAAACAAAAAgAAAAIAAAABAAAABAAAAAQAAAABAAAAAAAAAAEAAAACAAAAAAAAAAEAAAADAAAAAgAAAAIAAAABAAAAAwAAAAAAAAACAAAAAwAAAAMAAAAEAAAAAAAAAAMAAAABAAAAAwAAAAEAAAAAAAAAAAAAAAEAAAAAAAAABAAAAAAAAAAEAAAAAAAAAAQAAAACAAAAAwAAAAMAAAADAAAAAAAAAAMAAAADAAAABAAAAAQAAAABAAAAAgAAAAAAAAAAAAAAAwAAAAQAAAAAAAAAAwAAAAQAAAAAAAAAAQAAAAAAAAACAAAAAQAAAAIAAAADAAAAAwAAAAQAAAACAAAABAAAAAEAAAACAAAABAAAAAQAAAACAAAAAwAAAAEAAAADAAAAAwAAAAIAAAABAAAAAwAAAAIAAAAEAAAABAAAAAQAAAADAAAAAQAAAAEAAAACAAAABAAAAAEAAAAEAAAAAwAAAAMAAAAAAAAAAgAAAAIAAAACAAAAAQAAAAEAAAACAAAAAQAAAAQAAAADAAAAAwAAAAEAAAADAAAAAgAAAAMAAAABAAAAAAAAAAAAAAAAAAAAAQAAAAAAAAAAAAAAAgAAAAEAAAABAAAAAwAAAAIAAAABAAAABAAAAAEAAAADAAAAAgAAAAAAAAAAAAAAAwAAAAIAAAADAAAAAwAAAAQAAAABAAAAAwAAAAAAAAACAAAAAwAAAAAAAAAAAAAAAAAAAAMAAAACAAAAAwAAAAAAAAADAAAABAAAAAQAAAAAAAAAAgAAAAMAAAAAAAAAAQAAAAMAAAADAAAAAAAAAAQAAAAAAAAAAAAAAAMAAAAEAAAABAAAAAAAAAADAAAAAgAAAAQAAAACAAAAAwAAAAAAAAADAAAAAwAAAAEAAAAEAAAAAgAAAAMAAAADAAAAAgAAAAMAAAAAAAAAAQAAAAIAAAACAAAAAAAAAAAAAAAAAAAAAQAAAAIAAAAAAAAAAwAAAAMAAAACAAAABAAAAAIAAAAAAAAAAwAAAAMAAAADAAAAAAAAAAEAAAACAAAAAQAAAAAAAAADAAAAAAAAAAMAAAADAAAAAwAAAAEAAAAEAAAAAAAAAAAAAAABAAAAAAAAAAEAAAADAAAAAQAAAAEAAAACAAAAAwAAAAMAAAADAAAAAgAAAAEAAAABAAAAAAAAAAQAAAABAAAAAQAAAAIAAAADAAAAAgAAAAQAAAACAAAAAwAAAAQAAAABAAAAAwAAAAAAAAADAAAAAQAAAAEAAAAEAAAAAAAAAAMAAAADAAAABAAAAAMAAAACAAAAAwAAAAAAAAABAAAAAAAAAAEAAAAAAAAAAAAAAAAAAAAAAAAABAAAAAQAAAAEAAAAAwAAAAIAAAAEAAAAAAAAAAMAAAACAAAAAAAAAAAAAAADAAAAAAAAAAMAAAACAAAAAgAAAAEAAAACAAAAAwAAAAAAAAAEAAAAAgAAAAQAAAADAAAABAAAAAIAAAACAAAAAwAAAAIAAAAAAAAAAAAAAAQAAAADAAAAAwAAAAAAAAAAAAAAAgAAAAAAAAAEAAAAAgAAAAAAAAAAAAAAAgAAAAMAAAADAAAAAwAAAAQAAAACAAAAAgAAAAAAAAAAAAAAAwAAAAIAAAABAAAAAwAAAAIAAAADAAAAAwAAAAMAAAAEAAAABAAAAAMAAAADAAAAAwAAAAMAAAACAAAAAAAAAAIAAAABAAAAAAAAAAMAAAAAAAAAAgAAAAAAAAADAAAABAAAAAMAAAAEAAAAAgAAAAIAAAADAAAABAAAAAQAAAADAAAAAgAAAAIAAAACAAAABAAAAAAAAAAEAAAAAAAAAAMAAAAEAAAABAAAAAEAAAAAAAAAAwAAAAEAAAABAAAABAAAAAQAAAABAAAABAAAAAEAAAAEAAAABAAAAAAAAAAEAAAAAgAAAAMAAAABAAAABAAAAAEAAAABAAAAAwAAAAEAAAAAAAAAAgAAAAIAAAABAAAABAAAAAIAAAADAAAAAAAAAAMAAAABAAAAAQAAAAQAAAADAAAAAgAAAAMAAAADAAAAAgAAAAQAAAADAAAAAAAAAAIAAAADAAAAAwAAAAIAAAAEAAAAAwAAAAAAAAAAAAAAAgAAAAIAAAADAAAAAgAAAAIAAAAEAAAABAAAAAIAAAADAAAABAAAAAAAAAAAAAAAAQAAAAMAAAADAAAAAgAAAAEAAAADAAAABAAAAAMAAAABAAAABAAAAAMAAAACAAAABAAAAAEAAAAAAAAAAQAAAAIAAAADAAAAAAAAAAQAAAADAAAAAgAAAAIAAAADAAAAAgAAAAQAAAADAAAABAAAAAQAAAABAAAAAAAAAAIAAAAEAAAAAQAAAAEAAAAAAAAAAAAAAAAAAAAAAAAAAgAAAAMAAAABAAAAAwAAAAEAAAAAAAAAAAAAAAQAAAADAAAABAAAAAQAAAADAAAAAwAAAAQAAAADAAAAAQAAAAEAAAAEAAAAAAAAAAAAAAAEAAAAAwAAAAEAAAAEAAAAAAAAAAAAAAADAAAAAgAAAAAAAAADAAAABAAAAAIAAAAEAAAAAwAAAAMAAAADAAAAAwAAAAMAAAAAAAAAAAAAAAIAAAACAAAAAAAAAAEAAAADAAAABAAAAAIAAAADAAAAAAAAAAMAAAACAAAAAAAAAAAAAAADAAAAAwAAAAAAAAACAAAAAAAAAAMAAAAAAAAAAQAAAAIAAAACAAAAAAAAAAIAAAAEAAAAAwAAAAAAAAAAAAAAAAAAAAMAAAADAAAABAAAAAIAAAAEAAAAAAAAAAAAAAADAAAAAgAAAAIAAAAAAAAAAgAAAAMAAAAEAAAAAQAAAAIAAAAAAAAAAgAAAAIAAAAEAAAAAQAAAAIAAAAAAAAAAgAAAAQAAAAAAAAAAAAAAAIAAAAAAAAAAAAAAAMAAAAAAAAAAAAAAAAAAAAAAAAAAgAAAAQAAAABAAAAAAAAAAIAAAAAAAAABAAAAAEAAAABAAAAAgAAAAQAAAACAAAAAwAAAAIAAAAAAAAABAAAAAEAAAACAAAAAQAAAAAAAAADAAAAAAAAAAMAAAABAAAAAAAAAAMAAAADAAAAAAAAAAAAAAAEAAAABAAAAAIAAAAAAAAAAgAAAAEAAAABAAAABAAAAAAAAAADAAAAAgAAAAEAAAAAAAAAAAAAAAMAAAADAAAAAwAAAAEAAAADAAAAAwAAAAAAAAABAAAAAgAAAAQAAAAAAAAAAQAAAAQAAAACAAAAAAAAAAAAAAAAAAAAAgAAAAAAAAADAAAAAwAAAAIAAAACAAAAAgAAAAQAAAACAAAAAgAAAAMAAAAEAAAAAgAAAAAAAAAEAAAAAAAAAAAAAAABAAAAAAAAAAAAAAAEAAAAAQAAAAMAAAADAAAAAQAAAAIAAAACAAAAAwAAAAIAAAACAAAAAAAAAAEAAAAEAAAAAAAAAAMAAAABAAAAAgAAAAMAAAADAAAAAwAAAAAAAAABAAAAAwAAAAIAAAACAAAAAAAAAAMAAAACAAAAAQAAAAQAAAAEAAAABAAAAAMAAAACAAAABAAAAAAAAAADAAAAAwAAAAIAAAAEAAAAAgAAAAQAAAABAAAAAAAAAAQAAAACAAAAAwAAAAMAAAAAAAAAAQAAAAMAAAAAAAAABAAAAAIAAAAEAAAAAQAAAAMAAAABAAAAAgAAAAAAAAADAAAAAwAAAAEAAAAAAAAAAwAAAAAAAAABAAAAAQAAAAQAAAADAAAAAAAAAAEAAAADAAAABAAAAAAAAAADAAAAAQAAAAMAAAABAAAAAgAAAAIAAAACAAAAAQAAAAAAAAAEAAAAAwAAAAMAAAADAAAAAgAAAAEAAAAAAAAABAAAAAQAAAACAAAABAAAAAAAAAACAAAAAAAAAAEAAAABAAAAAQAAAAMAAAAAAAAAAQAAAAMAAAAAAAAAAQAAAAEAAAADAAAAAwAAAAMAAAACAAAAAgAAAAEAAAAEAAAAAQAAAAMAAAAAAAAAAQAAAAIAAAAAAAAAAAAAAAAAAAADAAAAAgAAAAMAAAAEAAAAAgAAAAAAAAAAAAAAAwAAAAEAAAACAAAAAQAAAAQAAAAEAAAAAAAAAAAAAAAEAAAAAgAAAAQAAAABAAAAAQAAAAEAAAAAAAAAAQAAAAQAAAACAAAAAAAAAAIAAAADAAAAAwAAAAMAAAADAAAAAwAAAAAAAAAAAAAAAwAAAAMAAAACAAAABAAAAAAAAAACAAAAAwAAAAMAAAACAAAABAAAAAEAAAAEAAAABAAAAAIAAAABAAAABAAAAAEAAAAAAAAAAwAAAAQAAAAEAAAAAQAAAAMAAAADAAAAAwAAAAMAAAADAAAAAQAAAAAAAAAEAAAAAwAAAAMAAAADAAAABAAAAAIAAAAAAAAABAAAAAIAAAACAAAAAgAAAAQAAAAAAAAAAwAAAAAAAAAEAAAAAgAAAAEAAAACAAAAAQAAAAEAAAAEAAAAAgAAAAEAAAADAAAAAgAAAAAAAAACAAAAAgAAAAQAAAACAAAAAwAAAAQAAAAAAAAAAwAAAAMAAAACAAAAAgAAAAEAAAABAAAAAQAAAAIAAAAEAAAABAAAAAIAAAAAAAAAAwAAAAIAAAAAAAAAAwAAAAMAAAABAAAAAAAAAAIAAAAAAAAAAwAAAAAAAAABAAAAAAAAAAEAAAABAAAAAAAAAAIAAAAEAAAAAwAAAAAAAAABAAAAAwAAAAAAAAACAAAAAQAAAAIAAAABAAAAAwAAAAIAAAAEAAAAAgAAAAAAAAABAAAAAwAAAAIAAAAEAAAAAwAAAAAAAAACAAAAAAAAAAMAAAAEAAAAAwAAAAMAAAAAAAAAAQAAAAIAAAAAAAAABAAAAAQAAAAEAAAAAgAAAAQAAAAAAAAAAwAAAAAAAAABAAAAAwAAAAAAAAAAAAAAAQAAAAMAAAACAAAAAgAAAAAAAAAEAAAAAAAAAAAAAAADAAAAAgAAAAEAAAACAAAAAAAAAAIAAAACAAAAAgAAAAAAAAAAAAAABAAAAAMAAAAAAAAAAwAAAAMAAAABAAAAAAAAAAAAAAAEAAAABAAAAAMAAAADAAAAAQAAAAAAAAADAAAAAgAAAAQAAAAEAAAAAgAAAAQAAAAAAAAAAAAAAAIAAAAEAAAAAAAAAAAAAAAAAAAABAAAAAMAAAAEAAAABAAAAAMAAAABAAAAAwAAAAMAAAAEAAAABAAAAAAAAAAAAAAAAwAAAAAAAAABAAAAAwAAAAMAAAAAAAAAAgAAAAAAAAAAAAAAAgAAAAMAAAAAAAAAAQAAAAAAAAAAAAAAAAAAAAEAAAAEAAAAAgAAAAQAAAAEAAAABAAAAAIAAAACAAAAAQAAAAIAAAAAAAAAAAAAAAAAAAABAAAABAAAAAAAAAAEAAAAAgAAAAIAAAADAAAABAAAAAEAAAADAAAAAgAAAAIAAAABAAAABAAAAAEAAAACAAAAAgAAAAIAAAAAAAAAAwAAAAMAAAAAAAAABAAAAAMAAAACAAAABAAAAAQAAAAAAAAAAwAAAAAAAAAEAAAABAAAAAEAAAADAAAAAAAAAAEAAAACAAAAAQAAAAEAAAAEAAAABAAAAAIAAAACAAAAAQAAAAIAAAADAAAAAgAAAAIAAAADAAAAAwAAAAAAAAADAAAABAAAAAIAAAAAAAAABAAAAAIAAAACAAAAAAAAAAEAAAADAAAAAwAAAAIAAAADAAAABAAAAAAAAAACAAAAAAAAAAMAAAAAAAAABAAAAAIAAAAEAAAABAAAAAAAAAADAAAAAgAAAAIAAAABAAAAAQAAAAQAAAAEAAAABAAAAAEAAAABAAAAAAAAAAIAAAADAAAAAgAAAAAAAAADAAAAAwAAAAEAAAAAAAAABAAAAAEAAAADAAAAAAAAAAAAAAAAAAAAAAAAAAAAAAAAAAAAAQAAAAQAAAAEAAAAAwAAAAMAAAAAAAAABAAAAAMAAAADAAAAAgAAAAEAAAAAAAAABAAAAAAAAAAEAAAABAAAAAQAAAABAAAAAgAAAAQAAAADAAAAAgAAAAMAAAABAAAAAwAAAAIAAAACAAAABAAAAAMAAAADAAAAAwAAAAIAAAABAAAAAgAAAAMAAAADAAAAAQAAAAEAAAAAAAAAAgAAAAEAAAADAAAAAQAAAAMAAAADAAAAAQAAAAMAAAADAAAAAAAAAAEAAAADAAAAAgAAAAEAAAAAAAAAAAAAAAEAAAADAAAAAQAAAAAAAAACAAAAAwAAAAAAAAACAAAAAwAAAAMAAAACAAAAAAAAAAIAAAACAAAABAAAAAMAAAAAAAAABAAAAAQAAAABAAAAAAAAAAMAAAAAAAAAAgAAAAIAAAAEAAAAAAAAAAEAAAAEAAAAAAAAAAAAAAAEAAAABAAAAAQAAAACAAAAAQAAAAEAAAABAAAABAAAAAAAAAAEAAAAAgAAAAQAAAAAAAAAAQAAAAAAAAADAAAAAAAAAAEAAAADAAAABAAAAAIAAAAAAAAAAAAAAAQAAAABAAAAAwAAAAMAAAAAAAAAAAAAAAAAAAADAAAABAAAAAQAAAABAAAAAAAAAAAAAAACAAAABAAAAAEAAAABAAAABAAAAAEAAAADAAAAAQAAAAMAAAACAAAAAAAAAAMAAAADAAAAAwAAAAQAAAAAAAAAAAAAAAMAAAADAAAAAgAAAAEAAAAAAAAABAAAAAEAAAADAAAABAAAAAMAAAACAAAAAAAAAAAAAAADAAAAAgAAAAAAAAACAAAAAgAAAAQAAAAEAAAAAgAAAAMAAAABAAAAAQAAAAIAAAACAAAAAwAAAAMAAAABAAAABAAAAAAAAAABAAAAAgAAAAAAAAAEAAAAAgAAAAIAAAAAAAAAAwAAAAIAAAAAAAAABAAAAAQAAAACAAAABAAAAAMAAAABAAAAAAAAAAIAAAAAAAAAAAAAAAMAAAADAAAAAwAAAAAAAAAAAAAAAwAAAAEAAAAAAAAAAwAAAAIAAAAEAAAAAQAAAAQAAAABAAAAAgAAAAAAAAACAAAAAQAAAAAAAAADAAAAAQAAAAEAAAABAAAAAAAAAAMAAAADAAAAAQAAAAAAAAACAAAAAAAAAAMAAAAAAAAAAAAAAAIAAAACAAAAAQAAAAIAAAADAAAABAAAAAIAAAABAAAABAAAAAAAAAAEAAAAAAAAAAIAAAAAAAAAAAAAAAAAAAACAAAAAQAAAAEAAAADAAAAAAAAAAMAAAABAAAAAAAAAAAAAAAEAAAAAgAAAAIAAAAEAAAAAAAAAAAAAAABAAAAAQAAAAMAAAADAAAABAAAAAEAAAADAAAAAQAAAAAAAAAAAAAAAAAAAAEAAAADAAAAAwAAAAEAAAAAAAAABAAAAAMAAAAEAAAAAQAAAAQAAAAAAAAAAgAAAAQAAAABAAAAAwAAAAEAAAAAAAAAAgAAAAMAAAACAAAAAAAAAAQAAAAEAAAAAgAAAAAAAAAAAAAAAgAAAAMAAAABAAAAAgAAAAQAAAADAAAAAQAAAAMAAAAAAAAABAAAAAIAAAADAAAABAAAAAMAAAAEAAAAAAAAAAAAAAADAAAAAQAAAAAAAAACAAAAAQAAAAEAAAAAAAAABAAAAAEAAAADAAAABAAAAAQAAAAAAAAAAwAAAAMAAAADAAAAAwAAAAMAAAABAAAAAgAAAAMAAAAAAAAAAgAAAAMAAAACAAAAAgAAAAMAAAABAAAAAQAAAAMAAAADAAAAAAAAAAMAAAAEAAAAAQAAAAQAAAADAAAAAwAAAAMAAAAEAAAABAAAAAQAAAABAAAAAQAAAAEAAAADAAAABAAAAAIAAAAAAAAABAAAAAEAAAABAAAAAwAAAAMAAAAAAAAAAgAAAAAAAAADAAAAAwAAAAAAAAAEAAAAAwAAAAEAAAACAAAAAAAAAAMAAAADAAAAAgAAAAQAAAADAAAAAgAAAAAAAAADAAAAAgAAAAAAAAAAAAAAAQAAAAQAAAAAAAAAAgAAAAEAAAAEAAAAAAAAAAIAAAAEAAAAAQAAAAAAAAADAAAAAwAAAAIAAAABAAAA",
           "dtype": "i4"
          },
          "line": {
           "color": {
            "bdata": "AwAAAAIAAAABAAAABAAAAAMAAAAAAAAAAQAAAAAAAAACAAAAAwAAAAMAAAACAAAAAQAAAAMAAAADAAAAAgAAAAAAAAADAAAAAwAAAAEAAAAEAAAABAAAAAMAAAAEAAAAAAAAAAAAAAAAAAAAAwAAAAEAAAAAAAAAAwAAAAQAAAAEAAAAAwAAAAQAAAADAAAABAAAAAAAAAAAAAAAAwAAAAEAAAADAAAAAgAAAAQAAAAEAAAAAwAAAAMAAAADAAAABAAAAAMAAAADAAAAAgAAAAAAAAAAAAAAAQAAAAAAAAAEAAAABAAAAAMAAAACAAAAAwAAAAEAAAAAAAAABAAAAAEAAAADAAAAAgAAAAMAAAADAAAAAgAAAAAAAAAAAAAAAAAAAAEAAAACAAAAAQAAAAMAAAAEAAAAAQAAAAQAAAAEAAAAAQAAAAAAAAAAAAAAAwAAAAIAAAAAAAAAAwAAAAAAAAACAAAAAAAAAAIAAAACAAAABAAAAAEAAAAEAAAABAAAAAQAAAAEAAAAAAAAAAEAAAAEAAAAAQAAAAEAAAADAAAAAgAAAAMAAAAEAAAAAQAAAAEAAAADAAAAAgAAAAQAAAAAAAAAAQAAAAEAAAACAAAAAwAAAAMAAAAEAAAAAQAAAAIAAAAAAAAAAQAAAAEAAAADAAAAAwAAAAQAAAAAAAAABAAAAAAAAAAAAAAABAAAAAEAAAACAAAAAgAAAAIAAAADAAAAAwAAAAEAAAADAAAAAwAAAAQAAAAAAAAAAAAAAAQAAAADAAAAAQAAAAQAAAACAAAAAgAAAAAAAAAEAAAAAwAAAAIAAAABAAAAAAAAAAIAAAAEAAAAAwAAAAAAAAADAAAAAQAAAAIAAAACAAAAAgAAAAMAAAAAAAAAAgAAAAAAAAADAAAAAAAAAAEAAAAAAAAAAAAAAAIAAAABAAAAAAAAAAMAAAADAAAAAgAAAAIAAAACAAAAAwAAAAAAAAADAAAABAAAAAIAAAADAAAAAgAAAAEAAAABAAAAAAAAAAQAAAACAAAAAwAAAAQAAAABAAAAAwAAAAEAAAAEAAAAAwAAAAMAAAADAAAABAAAAAEAAAAAAAAAAQAAAAMAAAABAAAAAAAAAAEAAAACAAAAAgAAAAAAAAABAAAAAgAAAAAAAAAAAAAAAgAAAAQAAAACAAAAAgAAAAAAAAACAAAAAAAAAAIAAAABAAAAAgAAAAMAAAABAAAAAAAAAAMAAAAEAAAAAAAAAAEAAAAEAAAAAQAAAAMAAAADAAAAAwAAAAQAAAABAAAAAgAAAAMAAAADAAAAAgAAAAIAAAABAAAAAwAAAAAAAAAAAAAAAAAAAAIAAAADAAAAAAAAAAMAAAAAAAAAAQAAAAAAAAACAAAABAAAAAAAAAAAAAAAAgAAAAAAAAABAAAAAwAAAAMAAAADAAAAAAAAAAEAAAADAAAAAwAAAAMAAAACAAAAAAAAAAAAAAABAAAABAAAAAIAAAAEAAAAAgAAAAAAAAADAAAAAAAAAAAAAAADAAAABAAAAAEAAAADAAAAAwAAAAEAAAADAAAAAwAAAAMAAAAEAAAAAAAAAAMAAAAEAAAAAgAAAAEAAAAAAAAABAAAAAQAAAADAAAAAAAAAAAAAAADAAAAAwAAAAEAAAADAAAAAgAAAAQAAAAAAAAAAwAAAAAAAAABAAAAAgAAAAIAAAABAAAAAwAAAAEAAAABAAAABAAAAAEAAAADAAAAAwAAAAMAAAADAAAAAwAAAAQAAAACAAAAAgAAAAAAAAAEAAAAAgAAAAAAAAABAAAAAAAAAAAAAAAAAAAAAwAAAAAAAAAEAAAAAwAAAAMAAAAAAAAAAwAAAAIAAAAEAAAABAAAAAIAAAABAAAAAQAAAAAAAAABAAAAAAAAAAMAAAAEAAAAAwAAAAEAAAACAAAAAQAAAAIAAAABAAAAAwAAAAMAAAAAAAAAAAAAAAMAAAAEAAAAAgAAAAAAAAABAAAAAwAAAAMAAAADAAAAAQAAAAAAAAACAAAAAwAAAAQAAAACAAAAAwAAAAEAAAADAAAAAQAAAAIAAAAAAAAABAAAAAIAAAAEAAAAAgAAAAAAAAACAAAAAgAAAAAAAAAEAAAAAwAAAAIAAAACAAAABAAAAAAAAAACAAAAAgAAAAMAAAACAAAABAAAAAAAAAAAAAAAAwAAAAIAAAABAAAABAAAAAMAAAAAAAAABAAAAAQAAAACAAAAAAAAAAAAAAAEAAAAAAAAAAMAAAACAAAAAgAAAAIAAAACAAAAAgAAAAAAAAAEAAAAAQAAAAEAAAADAAAAAwAAAAAAAAADAAAAAwAAAAMAAAAEAAAABAAAAAQAAAAEAAAAAwAAAAAAAAAEAAAAAgAAAAAAAAAAAAAAAAAAAAMAAAADAAAAAwAAAAIAAAABAAAAAQAAAAQAAAABAAAAAwAAAAEAAAAEAAAAAQAAAAQAAAAEAAAAAQAAAAAAAAAAAAAAAAAAAAAAAAACAAAAAQAAAAAAAAAAAAAAAQAAAAQAAAACAAAABAAAAAAAAAAEAAAAAQAAAAIAAAAAAAAAAgAAAAEAAAADAAAABAAAAAIAAAADAAAAAQAAAAMAAAABAAAAAgAAAAAAAAAEAAAAAAAAAAQAAAAAAAAABAAAAAIAAAAAAAAAAwAAAAMAAAADAAAAAAAAAAIAAAAAAAAAAwAAAAAAAAACAAAABAAAAAMAAAAAAAAABAAAAAEAAAACAAAAAAAAAAMAAAACAAAAAAAAAAIAAAAAAAAAAQAAAAAAAAADAAAAAwAAAAMAAAAAAAAABAAAAAIAAAADAAAAAwAAAAQAAAADAAAAAgAAAAMAAAACAAAAAwAAAAAAAAADAAAAAwAAAAMAAAAEAAAAAgAAAAQAAAAAAAAAAQAAAAAAAAAEAAAAAAAAAAIAAAAEAAAAAgAAAAMAAAADAAAAAwAAAAIAAAAEAAAAAQAAAAMAAAAAAAAAAQAAAAEAAAABAAAAAwAAAAMAAAACAAAAAAAAAAEAAAADAAAAAQAAAAEAAAABAAAAAQAAAAEAAAABAAAAAgAAAAQAAAABAAAAAwAAAAIAAAACAAAAAgAAAAQAAAABAAAAAwAAAAAAAAAEAAAAAgAAAAQAAAADAAAAAAAAAAMAAAADAAAAAgAAAAQAAAAAAAAAAQAAAAQAAAADAAAABAAAAAAAAAACAAAAAAAAAAIAAAAAAAAABAAAAAMAAAAAAAAAAwAAAAEAAAAAAAAAAwAAAAMAAAABAAAAAQAAAAQAAAACAAAAAQAAAAAAAAACAAAAAwAAAAEAAAAEAAAAAQAAAAIAAAACAAAAAAAAAAEAAAACAAAAAQAAAAEAAAAAAAAAAwAAAAQAAAAEAAAAAAAAAAAAAAADAAAAAwAAAAEAAAACAAAAAwAAAAAAAAABAAAAAwAAAAMAAAABAAAAAAAAAAEAAAAAAAAAAAAAAAMAAAAEAAAABAAAAAAAAAAAAAAAAgAAAAMAAAADAAAAAQAAAAEAAAAEAAAAAQAAAAEAAAAEAAAAAAAAAAQAAAABAAAAAQAAAAMAAAAAAAAAAwAAAAQAAAADAAAAAgAAAAQAAAABAAAABAAAAAEAAAADAAAABAAAAAAAAAAAAAAAAQAAAAEAAAADAAAAAAAAAAQAAAAEAAAABAAAAAMAAAAEAAAAAwAAAAAAAAACAAAAAwAAAAEAAAADAAAAAwAAAAIAAAACAAAAAgAAAAEAAAACAAAABAAAAAMAAAADAAAAAAAAAAEAAAAEAAAAAwAAAAQAAAAEAAAABAAAAAQAAAAAAAAAAgAAAAAAAAADAAAABAAAAAQAAAAAAAAABAAAAAQAAAABAAAAAgAAAAEAAAACAAAABAAAAAMAAAAAAAAABAAAAAAAAAABAAAAAwAAAAQAAAADAAAAAwAAAAMAAAAEAAAABAAAAAMAAAAEAAAAAQAAAAIAAAAAAAAAAgAAAAAAAAACAAAAAgAAAAIAAAACAAAAAwAAAAAAAAADAAAAAQAAAAAAAAABAAAAAwAAAAAAAAABAAAAAwAAAAMAAAADAAAAAgAAAAMAAAACAAAAAQAAAAIAAAAAAAAABAAAAAAAAAACAAAAAAAAAAMAAAACAAAAAwAAAAAAAAABAAAAAAAAAAAAAAAAAAAAAQAAAAQAAAAEAAAAAwAAAAEAAAADAAAAAgAAAAAAAAADAAAAAAAAAAAAAAADAAAAAAAAAAQAAAAEAAAAAAAAAAMAAAAAAAAAAAAAAAAAAAAAAAAAAAAAAAAAAAADAAAAAgAAAAEAAAABAAAAAQAAAAAAAAADAAAAAwAAAAIAAAAEAAAAAAAAAAAAAAABAAAAAwAAAAMAAAADAAAABAAAAAMAAAABAAAAAgAAAAEAAAAAAAAABAAAAAIAAAACAAAAAQAAAAEAAAACAAAAAgAAAAAAAAAEAAAAAAAAAAAAAAADAAAAAAAAAAEAAAABAAAAAgAAAAMAAAAAAAAAAQAAAAMAAAABAAAABAAAAAMAAAACAAAABAAAAAMAAAAAAAAAAQAAAAMAAAAEAAAAAAAAAAIAAAACAAAAAQAAAAIAAAADAAAAAgAAAAMAAAABAAAAAAAAAAIAAAAAAAAAAgAAAAMAAAADAAAAAQAAAAIAAAAAAAAAAAAAAAEAAAAEAAAAAQAAAAQAAAACAAAAAwAAAAAAAAABAAAAAQAAAAQAAAADAAAAAQAAAAEAAAADAAAAAAAAAAQAAAAAAAAAAgAAAAQAAAADAAAABAAAAAIAAAADAAAAAQAAAAEAAAAAAAAAAAAAAAEAAAACAAAAAAAAAAAAAAACAAAAAwAAAAMAAAACAAAABAAAAAAAAAAEAAAAAAAAAAMAAAABAAAAAwAAAAIAAAAEAAAAAwAAAAMAAAADAAAAAQAAAAIAAAACAAAAAgAAAAMAAAABAAAABAAAAAAAAAADAAAAAQAAAAMAAAADAAAABAAAAAAAAAACAAAABAAAAAMAAAAAAAAABAAAAAIAAAABAAAAAAAAAAAAAAADAAAAAgAAAAAAAAADAAAAAwAAAAQAAAADAAAAAQAAAAIAAAAEAAAAAAAAAAMAAAACAAAAAAAAAAEAAAAEAAAABAAAAAAAAAAAAAAAAwAAAAAAAAABAAAAAAAAAAIAAAACAAAAAQAAAAEAAAABAAAAAwAAAAQAAAAAAAAAAwAAAAMAAAABAAAAAAAAAAQAAAAAAAAAAgAAAAIAAAABAAAAAwAAAAEAAAADAAAAAgAAAAQAAAABAAAAAQAAAAIAAAACAAAABAAAAAMAAAABAAAAAwAAAAAAAAACAAAAAgAAAAIAAAAEAAAAAgAAAAQAAAACAAAABAAAAAAAAAADAAAAAAAAAAAAAAABAAAABAAAAAMAAAAAAAAAAAAAAAEAAAAEAAAABAAAAAMAAAADAAAAAQAAAAQAAAABAAAAAQAAAAIAAAAAAAAAAAAAAAEAAAAAAAAAAwAAAAQAAAADAAAAAQAAAAMAAAADAAAAAgAAAAAAAAADAAAAAAAAAAEAAAAEAAAAAAAAAAIAAAAAAAAAAAAAAAIAAAAAAAAAAgAAAAMAAAADAAAAAgAAAAQAAAADAAAABAAAAAMAAAAAAAAAAAAAAAAAAAACAAAAAQAAAAMAAAAAAAAAAwAAAAIAAAAAAAAAAQAAAAQAAAABAAAAAQAAAAEAAAAEAAAAAQAAAAMAAAAEAAAAAwAAAAQAAAAAAAAAAwAAAAMAAAABAAAABAAAAAAAAAAEAAAAAQAAAAIAAAAAAAAABAAAAAQAAAACAAAAAwAAAAMAAAAAAAAAAAAAAAMAAAADAAAAAQAAAAQAAAADAAAABAAAAAEAAAAAAAAAAAAAAAIAAAACAAAAAQAAAAAAAAACAAAABAAAAAIAAAABAAAAAgAAAAMAAAAEAAAAAQAAAAQAAAACAAAAAAAAAAQAAAADAAAAAwAAAAQAAAAAAAAAAgAAAAQAAAADAAAAAwAAAAQAAAADAAAAAQAAAAEAAAAAAAAAAgAAAAEAAAAEAAAAAgAAAAAAAAADAAAAAAAAAAAAAAABAAAAAwAAAAAAAAAEAAAAAwAAAAMAAAACAAAAAAAAAAAAAAACAAAAAwAAAAAAAAABAAAAAwAAAAAAAAACAAAAAQAAAAMAAAAAAAAAAwAAAAIAAAAAAAAAAQAAAAIAAAADAAAAAQAAAAEAAAACAAAAAQAAAAAAAAABAAAABAAAAAAAAAAEAAAABAAAAAMAAAAAAAAAAAAAAAAAAAABAAAAAAAAAAAAAAABAAAABAAAAAEAAAABAAAAAwAAAAEAAAADAAAABAAAAAMAAAAAAAAAAwAAAAQAAAACAAAAAQAAAAAAAAACAAAAAAAAAAQAAAADAAAAAgAAAAEAAAABAAAAAAAAAAEAAAACAAAAAgAAAAIAAAACAAAAAgAAAAMAAAACAAAAAwAAAAMAAAACAAAAAQAAAAAAAAABAAAAAgAAAAEAAAADAAAAAwAAAAIAAAACAAAAAAAAAAIAAAAEAAAABAAAAAEAAAADAAAAAQAAAAIAAAAAAAAABAAAAAQAAAACAAAAAwAAAAQAAAADAAAAAwAAAAAAAAACAAAAAAAAAAQAAAABAAAAAwAAAAMAAAADAAAAAQAAAAAAAAAAAAAAAgAAAAQAAAAAAAAAAQAAAAEAAAABAAAAAQAAAAAAAAAEAAAAAgAAAAIAAAAEAAAAAAAAAAEAAAAEAAAABAAAAAEAAAADAAAAAgAAAAAAAAABAAAAAwAAAAEAAAACAAAABAAAAAMAAAAEAAAAAgAAAAQAAAABAAAAAQAAAAEAAAAAAAAAAAAAAAEAAAAAAAAAAwAAAAEAAAAEAAAABAAAAAQAAAAEAAAAAwAAAAEAAAACAAAAAAAAAAEAAAAAAAAAAAAAAAAAAAABAAAAAAAAAAMAAAAAAAAAAwAAAAAAAAAEAAAAAgAAAAEAAAADAAAABAAAAAEAAAAAAAAAAAAAAAIAAAADAAAAAwAAAAEAAAAEAAAAAgAAAAIAAAACAAAAAAAAAAMAAAAEAAAAAQAAAAQAAAACAAAAAwAAAAIAAAADAAAAAwAAAAQAAAACAAAAAwAAAAIAAAACAAAAAAAAAAMAAAADAAAAAwAAAAAAAAACAAAAAQAAAAAAAAAAAAAAAgAAAAAAAAABAAAAAgAAAAMAAAABAAAAAQAAAAQAAAAAAAAABAAAAAMAAAADAAAAAAAAAAQAAAACAAAABAAAAAAAAAABAAAAAAAAAAQAAAAEAAAABAAAAAEAAAAAAAAAAgAAAAAAAAABAAAABAAAAAAAAAAEAAAAAwAAAAQAAAADAAAAAgAAAAIAAAACAAAAAwAAAAQAAAADAAAAAgAAAAAAAAADAAAAAAAAAAIAAAAAAAAAAwAAAAAAAAABAAAAAAAAAAQAAAAAAAAAAgAAAAMAAAAAAAAAAAAAAAQAAAAAAAAAAgAAAAMAAAAAAAAAAQAAAAAAAAAEAAAAAgAAAAAAAAACAAAAAwAAAAMAAAAEAAAAAgAAAAQAAAABAAAAAAAAAAIAAAADAAAAAwAAAAMAAAACAAAABAAAAAAAAAAAAAAABAAAAAAAAAABAAAAAQAAAAEAAAACAAAAAQAAAAMAAAAAAAAAAgAAAAAAAAABAAAAAwAAAAAAAAADAAAAAwAAAAQAAAACAAAAAAAAAAAAAAADAAAAAwAAAAQAAAADAAAAAgAAAAEAAAADAAAAAAAAAAAAAAABAAAAAQAAAAIAAAADAAAAAgAAAAQAAAACAAAAAAAAAAMAAAAEAAAAAAAAAAQAAAAAAAAAAQAAAAIAAAAEAAAAAAAAAAAAAAAAAAAAAgAAAAQAAAADAAAABAAAAAIAAAADAAAAAAAAAAQAAAAAAAAAAAAAAAAAAAADAAAAAAAAAAMAAAADAAAAAgAAAAAAAAACAAAAAwAAAAMAAAAEAAAAAQAAAAAAAAACAAAAAwAAAAIAAAADAAAAAAAAAAIAAAACAAAABAAAAAMAAAAEAAAAAwAAAAAAAAACAAAABAAAAAIAAAADAAAAAQAAAAEAAAAEAAAABAAAAAIAAAABAAAAAgAAAAAAAAAAAAAABAAAAAEAAAAEAAAAAwAAAAIAAAADAAAAAgAAAAEAAAACAAAABAAAAAEAAAABAAAAAAAAAAIAAAAEAAAAAwAAAAEAAAAAAAAAAwAAAAMAAAADAAAAAwAAAAAAAAADAAAAAwAAAAMAAAAAAAAAAwAAAAMAAAADAAAAAAAAAAQAAAACAAAAAgAAAAMAAAAEAAAAAwAAAAAAAAABAAAAAgAAAAAAAAACAAAABAAAAAAAAAACAAAAAgAAAAAAAAAAAAAAAwAAAAEAAAADAAAAAgAAAAIAAAABAAAAAQAAAAAAAAACAAAAAQAAAAAAAAAEAAAAAQAAAAAAAAAEAAAAAgAAAAQAAAACAAAAAQAAAAAAAAAAAAAAAAAAAAAAAAACAAAAAwAAAAAAAAADAAAAAwAAAAIAAAAEAAAAAwAAAAMAAAABAAAAAAAAAAIAAAAAAAAAAAAAAAQAAAAAAAAAAAAAAAEAAAAAAAAABAAAAAEAAAABAAAAAAAAAAMAAAAAAAAAAQAAAAAAAAAAAAAAAAAAAAMAAAACAAAAAgAAAAMAAAADAAAAAAAAAAEAAAAAAAAAAwAAAAMAAAAAAAAAAwAAAAQAAAADAAAAAwAAAAQAAAACAAAAAQAAAAMAAAABAAAAAgAAAAQAAAACAAAAAwAAAAEAAAADAAAABAAAAAAAAAACAAAAAAAAAAMAAAAEAAAAAwAAAAMAAAABAAAAAwAAAAAAAAAEAAAAAAAAAAEAAAADAAAAAwAAAAQAAAAEAAAAAAAAAAQAAAAEAAAAAAAAAAIAAAAAAAAAAwAAAAQAAAADAAAAAwAAAAIAAAABAAAABAAAAAQAAAAAAAAABAAAAAIAAAAAAAAABAAAAAAAAAACAAAAAQAAAAEAAAAEAAAAAgAAAAIAAAAEAAAAAAAAAAQAAAABAAAAAwAAAAEAAAAAAAAAAwAAAAAAAAACAAAABAAAAAIAAAACAAAAAAAAAAIAAAACAAAAAwAAAAIAAAAEAAAAAwAAAAAAAAACAAAAAAAAAAQAAAAAAAAAAwAAAAMAAAACAAAAAwAAAAMAAAADAAAAAAAAAAAAAAAAAAAAAgAAAAMAAAABAAAAAgAAAAMAAAABAAAAAQAAAAEAAAAEAAAAAwAAAAAAAAACAAAAAgAAAAEAAAAAAAAAAwAAAAMAAAAEAAAABAAAAAQAAAADAAAAAAAAAAAAAAABAAAAAwAAAAMAAAAEAAAAAAAAAAMAAAAAAAAABAAAAAAAAAAEAAAAAwAAAAEAAAADAAAAAQAAAAAAAAAEAAAAAwAAAAIAAAADAAAAAgAAAAIAAAAAAAAAAgAAAAAAAAACAAAABAAAAAEAAAAAAAAAAQAAAAAAAAAAAAAAAwAAAAAAAAAAAAAAAwAAAAMAAAADAAAAAQAAAAQAAAABAAAAAwAAAAMAAAADAAAAAwAAAAIAAAAAAAAABAAAAAQAAAABAAAAAQAAAAAAAAAEAAAAAQAAAAAAAAACAAAAAgAAAAAAAAAEAAAAAgAAAAQAAAACAAAAAQAAAAIAAAAAAAAAAwAAAAEAAAAEAAAAAwAAAAIAAAADAAAAAwAAAAQAAAAEAAAAAAAAAAQAAAAEAAAAAgAAAAIAAAADAAAAAAAAAAMAAAABAAAAAwAAAAIAAAAAAAAABAAAAAEAAAAAAAAAAgAAAAQAAAADAAAAAQAAAAMAAAABAAAABAAAAAAAAAABAAAAAgAAAAQAAAACAAAABAAAAAIAAAADAAAAAQAAAAIAAAADAAAAAgAAAAQAAAADAAAAAAAAAAQAAAACAAAAAAAAAAMAAAAEAAAABAAAAAEAAAACAAAABAAAAAMAAAADAAAAAgAAAAMAAAACAAAAAAAAAAMAAAAAAAAAAwAAAAMAAAAEAAAAAAAAAAAAAAAEAAAAAwAAAAEAAAADAAAAAgAAAAEAAAAAAAAAAAAAAAEAAAACAAAAAwAAAAIAAAABAAAAAAAAAAEAAAABAAAAAAAAAAEAAAAEAAAAAwAAAAAAAAABAAAABAAAAAIAAAAAAAAAAQAAAAAAAAADAAAABAAAAAEAAAAAAAAABAAAAAAAAAAAAAAAAQAAAAMAAAACAAAAAwAAAAQAAAADAAAAAgAAAAAAAAACAAAAAwAAAAMAAAADAAAAAwAAAAEAAAAAAAAABAAAAAEAAAAAAAAAAwAAAAMAAAABAAAAAQAAAAMAAAAEAAAAAAAAAAAAAAADAAAAAwAAAAMAAAACAAAAAgAAAAAAAAABAAAAAAAAAAIAAAADAAAAAwAAAAMAAAAEAAAAAgAAAAEAAAAEAAAAAAAAAAMAAAAEAAAAAQAAAAIAAAACAAAAAQAAAAMAAAACAAAAAwAAAAMAAAAAAAAAAAAAAAIAAAAEAAAAAAAAAAIAAAABAAAAAQAAAAEAAAAEAAAAAQAAAAQAAAACAAAAAwAAAAMAAAABAAAAAAAAAAIAAAAAAAAABAAAAAIAAAAEAAAAAQAAAAMAAAAAAAAAAAAAAAIAAAAAAAAAAgAAAAQAAAABAAAAAgAAAAQAAAACAAAAAAAAAAMAAAACAAAAAAAAAAIAAAADAAAABAAAAAMAAAACAAAAAwAAAAMAAAABAAAABAAAAAAAAAADAAAAAwAAAAQAAAADAAAAAAAAAAAAAAABAAAAAgAAAAAAAAABAAAAAAAAAAAAAAADAAAAAwAAAAEAAAAEAAAAAgAAAAEAAAAAAAAAAwAAAAMAAAAAAAAAAwAAAAIAAAAAAAAAAAAAAAEAAAAEAAAAAwAAAAIAAAABAAAAAwAAAAQAAAADAAAAAAAAAAMAAAADAAAAAgAAAAMAAAAEAAAABAAAAAIAAAABAAAAAgAAAAAAAAABAAAAAwAAAAEAAAACAAAAAgAAAAEAAAAEAAAAAAAAAAQAAAADAAAAAwAAAAMAAAADAAAAAAAAAAAAAAAEAAAAAQAAAAQAAAAEAAAAAwAAAAEAAAACAAAABAAAAAQAAAACAAAABAAAAAAAAAACAAAAAwAAAAIAAAAAAAAAAAAAAAMAAAAEAAAAAwAAAAMAAAAAAAAAAgAAAAEAAAADAAAAAwAAAAEAAAADAAAAAwAAAAEAAAACAAAAAgAAAAMAAAAAAAAAAgAAAAMAAAAAAAAAAwAAAAMAAAABAAAABAAAAAAAAAABAAAAAwAAAAEAAAADAAAAAwAAAAMAAAACAAAABAAAAAAAAAACAAAAAAAAAAMAAAACAAAAAQAAAAAAAAADAAAAAQAAAAEAAAAEAAAAAwAAAAEAAAADAAAABAAAAAMAAAAAAAAAAAAAAAAAAAADAAAAAwAAAAAAAAAEAAAAAQAAAAQAAAAEAAAABAAAAAIAAAAEAAAAAgAAAAIAAAADAAAAAQAAAAAAAAAEAAAABAAAAAAAAAAEAAAAAAAAAAAAAAACAAAAAgAAAAQAAAAAAAAAAwAAAAQAAAACAAAABAAAAAIAAAAAAAAABAAAAAIAAAAAAAAAAAAAAAAAAAADAAAAAgAAAAAAAAAEAAAABAAAAAQAAAAAAAAAAgAAAAMAAAACAAAABAAAAAQAAAABAAAAAAAAAAMAAAAAAAAAAAAAAAEAAAAAAAAABAAAAAMAAAADAAAAAAAAAAAAAAAAAAAAAQAAAAEAAAACAAAAAgAAAAQAAAAAAAAAAAAAAAEAAAACAAAABAAAAAQAAAAEAAAAAgAAAAAAAAACAAAABAAAAAQAAAADAAAAAQAAAAMAAAAAAAAAAQAAAAAAAAAEAAAABAAAAAIAAAADAAAAAgAAAAEAAAABAAAAAgAAAAIAAAADAAAAAAAAAAEAAAABAAAAAAAAAAEAAAAAAAAAAgAAAAIAAAACAAAAAwAAAAQAAAADAAAAAAAAAAAAAAAEAAAAAQAAAAIAAAACAAAAAwAAAAMAAAABAAAAAgAAAAAAAAAAAAAAAwAAAAMAAAACAAAABAAAAAAAAAACAAAAAwAAAAAAAAAEAAAAAAAAAAMAAAABAAAAAAAAAAAAAAACAAAAAwAAAAQAAAAEAAAAAwAAAAMAAAAEAAAAAQAAAAAAAAAAAAAAAAAAAAIAAAABAAAAAwAAAAEAAAACAAAAAgAAAAMAAAAEAAAAAAAAAAAAAAABAAAAAgAAAAEAAAACAAAABAAAAAIAAAACAAAAAgAAAAAAAAAAAAAAAwAAAAIAAAABAAAAAAAAAAMAAAADAAAAAwAAAAAAAAADAAAAAgAAAAQAAAADAAAABAAAAAEAAAAEAAAAAwAAAAEAAAABAAAAAgAAAAAAAAACAAAAAgAAAAAAAAACAAAAAgAAAAEAAAAEAAAAAwAAAAMAAAACAAAAAwAAAAIAAAAAAAAABAAAAAQAAAACAAAAAwAAAAMAAAAAAAAAAwAAAAEAAAABAAAAAAAAAAMAAAABAAAAAQAAAAQAAAABAAAABAAAAAAAAAABAAAAAgAAAAEAAAAEAAAAAQAAAAAAAAAAAAAAAQAAAAMAAAADAAAAAAAAAAEAAAABAAAAAgAAAAIAAAAEAAAAAgAAAAQAAAADAAAABAAAAAEAAAAAAAAAAAAAAAAAAAACAAAAAgAAAAIAAAABAAAABAAAAAQAAAABAAAAAAAAAAEAAAACAAAAAAAAAAEAAAADAAAAAgAAAAIAAAABAAAAAwAAAAAAAAACAAAAAwAAAAMAAAAEAAAAAAAAAAMAAAABAAAAAwAAAAEAAAAAAAAAAAAAAAEAAAAAAAAABAAAAAAAAAAEAAAAAAAAAAQAAAACAAAAAwAAAAMAAAADAAAAAAAAAAMAAAADAAAABAAAAAQAAAABAAAAAgAAAAAAAAAAAAAAAwAAAAQAAAAAAAAAAwAAAAQAAAAAAAAAAQAAAAAAAAACAAAAAQAAAAIAAAADAAAAAwAAAAQAAAACAAAABAAAAAEAAAACAAAABAAAAAQAAAACAAAAAwAAAAEAAAADAAAAAwAAAAIAAAABAAAAAwAAAAIAAAAEAAAABAAAAAQAAAADAAAAAQAAAAEAAAACAAAABAAAAAEAAAAEAAAAAwAAAAMAAAAAAAAAAgAAAAIAAAACAAAAAQAAAAEAAAACAAAAAQAAAAQAAAADAAAAAwAAAAEAAAADAAAAAgAAAAMAAAABAAAAAAAAAAAAAAAAAAAAAQAAAAAAAAAAAAAAAgAAAAEAAAABAAAAAwAAAAIAAAABAAAABAAAAAEAAAADAAAAAgAAAAAAAAAAAAAAAwAAAAIAAAADAAAAAwAAAAQAAAABAAAAAwAAAAAAAAACAAAAAwAAAAAAAAAAAAAAAAAAAAMAAAACAAAAAwAAAAAAAAADAAAABAAAAAQAAAAAAAAAAgAAAAMAAAAAAAAAAQAAAAMAAAADAAAAAAAAAAQAAAAAAAAAAAAAAAMAAAAEAAAABAAAAAAAAAADAAAAAgAAAAQAAAACAAAAAwAAAAAAAAADAAAAAwAAAAEAAAAEAAAAAgAAAAMAAAADAAAAAgAAAAMAAAAAAAAAAQAAAAIAAAACAAAAAAAAAAAAAAAAAAAAAQAAAAIAAAAAAAAAAwAAAAMAAAACAAAABAAAAAIAAAAAAAAAAwAAAAMAAAADAAAAAAAAAAEAAAACAAAAAQAAAAAAAAADAAAAAAAAAAMAAAADAAAAAwAAAAEAAAAEAAAAAAAAAAAAAAABAAAAAAAAAAEAAAADAAAAAQAAAAEAAAACAAAAAwAAAAMAAAADAAAAAgAAAAEAAAABAAAAAAAAAAQAAAABAAAAAQAAAAIAAAADAAAAAgAAAAQAAAACAAAAAwAAAAQAAAABAAAAAwAAAAAAAAADAAAAAQAAAAEAAAAEAAAAAAAAAAMAAAADAAAABAAAAAMAAAACAAAAAwAAAAAAAAABAAAAAAAAAAEAAAAAAAAAAAAAAAAAAAAAAAAABAAAAAQAAAAEAAAAAwAAAAIAAAAEAAAAAAAAAAMAAAACAAAAAAAAAAAAAAADAAAAAAAAAAMAAAACAAAAAgAAAAEAAAACAAAAAwAAAAAAAAAEAAAAAgAAAAQAAAADAAAABAAAAAIAAAACAAAAAwAAAAIAAAAAAAAAAAAAAAQAAAADAAAAAwAAAAAAAAAAAAAAAgAAAAAAAAAEAAAAAgAAAAAAAAAAAAAAAgAAAAMAAAADAAAAAwAAAAQAAAACAAAAAgAAAAAAAAAAAAAAAwAAAAIAAAABAAAAAwAAAAIAAAADAAAAAwAAAAMAAAAEAAAABAAAAAMAAAADAAAAAwAAAAMAAAACAAAAAAAAAAIAAAABAAAAAAAAAAMAAAAAAAAAAgAAAAAAAAADAAAABAAAAAMAAAAEAAAAAgAAAAIAAAADAAAABAAAAAQAAAADAAAAAgAAAAIAAAACAAAABAAAAAAAAAAEAAAAAAAAAAMAAAAEAAAABAAAAAEAAAAAAAAAAwAAAAEAAAABAAAABAAAAAQAAAABAAAABAAAAAEAAAAEAAAABAAAAAAAAAAEAAAAAgAAAAMAAAABAAAABAAAAAEAAAABAAAAAwAAAAEAAAAAAAAAAgAAAAIAAAABAAAABAAAAAIAAAADAAAAAAAAAAMAAAABAAAAAQAAAAQAAAADAAAAAgAAAAMAAAADAAAAAgAAAAQAAAADAAAAAAAAAAIAAAADAAAAAwAAAAIAAAAEAAAAAwAAAAAAAAAAAAAAAgAAAAIAAAADAAAAAgAAAAIAAAAEAAAABAAAAAIAAAADAAAABAAAAAAAAAAAAAAAAQAAAAMAAAADAAAAAgAAAAEAAAADAAAABAAAAAMAAAABAAAABAAAAAMAAAACAAAABAAAAAEAAAAAAAAAAQAAAAIAAAADAAAAAAAAAAQAAAADAAAAAgAAAAIAAAADAAAAAgAAAAQAAAADAAAABAAAAAQAAAABAAAAAAAAAAIAAAAEAAAAAQAAAAEAAAAAAAAAAAAAAAAAAAAAAAAAAgAAAAMAAAABAAAAAwAAAAEAAAAAAAAAAAAAAAQAAAADAAAABAAAAAQAAAADAAAAAwAAAAQAAAADAAAAAQAAAAEAAAAEAAAAAAAAAAAAAAAEAAAAAwAAAAEAAAAEAAAAAAAAAAAAAAADAAAAAgAAAAAAAAADAAAABAAAAAIAAAAEAAAAAwAAAAMAAAADAAAAAwAAAAMAAAAAAAAAAAAAAAIAAAACAAAAAAAAAAEAAAADAAAABAAAAAIAAAADAAAAAAAAAAMAAAACAAAAAAAAAAAAAAADAAAAAwAAAAAAAAACAAAAAAAAAAMAAAAAAAAAAQAAAAIAAAACAAAAAAAAAAIAAAAEAAAAAwAAAAAAAAAAAAAAAAAAAAMAAAADAAAABAAAAAIAAAAEAAAAAAAAAAAAAAADAAAAAgAAAAIAAAAAAAAAAgAAAAMAAAAEAAAAAQAAAAIAAAAAAAAAAgAAAAIAAAAEAAAAAQAAAAIAAAAAAAAAAgAAAAQAAAAAAAAAAAAAAAIAAAAAAAAAAAAAAAMAAAAAAAAAAAAAAAAAAAAAAAAAAgAAAAQAAAABAAAAAAAAAAIAAAAAAAAABAAAAAEAAAABAAAAAgAAAAQAAAACAAAAAwAAAAIAAAAAAAAABAAAAAEAAAACAAAAAQAAAAAAAAADAAAAAAAAAAMAAAABAAAAAAAAAAMAAAADAAAAAAAAAAAAAAAEAAAABAAAAAIAAAAAAAAAAgAAAAEAAAABAAAABAAAAAAAAAADAAAAAgAAAAEAAAAAAAAAAAAAAAMAAAADAAAAAwAAAAEAAAADAAAAAwAAAAAAAAABAAAAAgAAAAQAAAAAAAAAAQAAAAQAAAACAAAAAAAAAAAAAAAAAAAAAgAAAAAAAAADAAAAAwAAAAIAAAACAAAAAgAAAAQAAAACAAAAAgAAAAMAAAAEAAAAAgAAAAAAAAAEAAAAAAAAAAAAAAABAAAAAAAAAAAAAAAEAAAAAQAAAAMAAAADAAAAAQAAAAIAAAACAAAAAwAAAAIAAAACAAAAAAAAAAEAAAAEAAAAAAAAAAMAAAABAAAAAgAAAAMAAAADAAAAAwAAAAAAAAABAAAAAwAAAAIAAAACAAAAAAAAAAMAAAACAAAAAQAAAAQAAAAEAAAABAAAAAMAAAACAAAABAAAAAAAAAADAAAAAwAAAAIAAAAEAAAAAgAAAAQAAAABAAAAAAAAAAQAAAACAAAAAwAAAAMAAAAAAAAAAQAAAAMAAAAAAAAABAAAAAIAAAAEAAAAAQAAAAMAAAABAAAAAgAAAAAAAAADAAAAAwAAAAEAAAAAAAAAAwAAAAAAAAABAAAAAQAAAAQAAAADAAAAAAAAAAEAAAADAAAABAAAAAAAAAADAAAAAQAAAAMAAAABAAAAAgAAAAIAAAACAAAAAQAAAAAAAAAEAAAAAwAAAAMAAAADAAAAAgAAAAEAAAAAAAAABAAAAAQAAAACAAAABAAAAAAAAAACAAAAAAAAAAEAAAABAAAAAQAAAAMAAAAAAAAAAQAAAAMAAAAAAAAAAQAAAAEAAAADAAAAAwAAAAMAAAACAAAAAgAAAAEAAAAEAAAAAQAAAAMAAAAAAAAAAQAAAAIAAAAAAAAAAAAAAAAAAAADAAAAAgAAAAMAAAAEAAAAAgAAAAAAAAAAAAAAAwAAAAEAAAACAAAAAQAAAAQAAAAEAAAAAAAAAAAAAAAEAAAAAgAAAAQAAAABAAAAAQAAAAEAAAAAAAAAAQAAAAQAAAACAAAAAAAAAAIAAAADAAAAAwAAAAMAAAADAAAAAwAAAAAAAAAAAAAAAwAAAAMAAAACAAAABAAAAAAAAAACAAAAAwAAAAMAAAACAAAABAAAAAEAAAAEAAAABAAAAAIAAAABAAAABAAAAAEAAAAAAAAAAwAAAAQAAAAEAAAAAQAAAAMAAAADAAAAAwAAAAMAAAADAAAAAQAAAAAAAAAEAAAAAwAAAAMAAAADAAAABAAAAAIAAAAAAAAABAAAAAIAAAACAAAAAgAAAAQAAAAAAAAAAwAAAAAAAAAEAAAAAgAAAAEAAAACAAAAAQAAAAEAAAAEAAAAAgAAAAEAAAADAAAAAgAAAAAAAAACAAAAAgAAAAQAAAACAAAAAwAAAAQAAAAAAAAAAwAAAAMAAAACAAAAAgAAAAEAAAABAAAAAQAAAAIAAAAEAAAABAAAAAIAAAAAAAAAAwAAAAIAAAAAAAAAAwAAAAMAAAABAAAAAAAAAAIAAAAAAAAAAwAAAAAAAAABAAAAAAAAAAEAAAABAAAAAAAAAAIAAAAEAAAAAwAAAAAAAAABAAAAAwAAAAAAAAACAAAAAQAAAAIAAAABAAAAAwAAAAIAAAAEAAAAAgAAAAAAAAABAAAAAwAAAAIAAAAEAAAAAwAAAAAAAAACAAAAAAAAAAMAAAAEAAAAAwAAAAMAAAAAAAAAAQAAAAIAAAAAAAAABAAAAAQAAAAEAAAAAgAAAAQAAAAAAAAAAwAAAAAAAAABAAAAAwAAAAAAAAAAAAAAAQAAAAMAAAACAAAAAgAAAAAAAAAEAAAAAAAAAAAAAAADAAAAAgAAAAEAAAACAAAAAAAAAAIAAAACAAAAAgAAAAAAAAAAAAAABAAAAAMAAAAAAAAAAwAAAAMAAAABAAAAAAAAAAAAAAAEAAAABAAAAAMAAAADAAAAAQAAAAAAAAADAAAAAgAAAAQAAAAEAAAAAgAAAAQAAAAAAAAAAAAAAAIAAAAEAAAAAAAAAAAAAAAAAAAABAAAAAMAAAAEAAAABAAAAAMAAAABAAAAAwAAAAMAAAAEAAAABAAAAAAAAAAAAAAAAwAAAAAAAAABAAAAAwAAAAMAAAAAAAAAAgAAAAAAAAAAAAAAAgAAAAMAAAAAAAAAAQAAAAAAAAAAAAAAAAAAAAEAAAAEAAAAAgAAAAQAAAAEAAAABAAAAAIAAAACAAAAAQAAAAIAAAAAAAAAAAAAAAAAAAABAAAABAAAAAAAAAAEAAAAAgAAAAIAAAADAAAABAAAAAEAAAADAAAAAgAAAAIAAAABAAAABAAAAAEAAAACAAAAAgAAAAIAAAAAAAAAAwAAAAMAAAAAAAAABAAAAAMAAAACAAAABAAAAAQAAAAAAAAAAwAAAAAAAAAEAAAABAAAAAEAAAADAAAAAAAAAAEAAAACAAAAAQAAAAEAAAAEAAAABAAAAAIAAAACAAAAAQAAAAIAAAADAAAAAgAAAAIAAAADAAAAAwAAAAAAAAADAAAABAAAAAIAAAAAAAAABAAAAAIAAAACAAAAAAAAAAEAAAADAAAAAwAAAAIAAAADAAAABAAAAAAAAAACAAAAAAAAAAMAAAAAAAAABAAAAAIAAAAEAAAABAAAAAAAAAADAAAAAgAAAAIAAAABAAAAAQAAAAQAAAAEAAAABAAAAAEAAAABAAAAAAAAAAIAAAADAAAAAgAAAAAAAAADAAAAAwAAAAEAAAAAAAAABAAAAAEAAAADAAAAAAAAAAAAAAAAAAAAAAAAAAAAAAAAAAAAAQAAAAQAAAAEAAAAAwAAAAMAAAAAAAAABAAAAAMAAAADAAAAAgAAAAEAAAAAAAAABAAAAAAAAAAEAAAABAAAAAQAAAABAAAAAgAAAAQAAAADAAAAAgAAAAMAAAABAAAAAwAAAAIAAAACAAAABAAAAAMAAAADAAAAAwAAAAIAAAABAAAAAgAAAAMAAAADAAAAAQAAAAEAAAAAAAAAAgAAAAEAAAADAAAAAQAAAAMAAAADAAAAAQAAAAMAAAADAAAAAAAAAAEAAAADAAAAAgAAAAEAAAAAAAAAAAAAAAEAAAADAAAAAQAAAAAAAAACAAAAAwAAAAAAAAACAAAAAwAAAAMAAAACAAAAAAAAAAIAAAACAAAABAAAAAMAAAAAAAAABAAAAAQAAAABAAAAAAAAAAMAAAAAAAAAAgAAAAIAAAAEAAAAAAAAAAEAAAAEAAAAAAAAAAAAAAAEAAAABAAAAAQAAAACAAAAAQAAAAEAAAABAAAABAAAAAAAAAAEAAAAAgAAAAQAAAAAAAAAAQAAAAAAAAADAAAAAAAAAAEAAAADAAAABAAAAAIAAAAAAAAAAAAAAAQAAAABAAAAAwAAAAMAAAAAAAAAAAAAAAAAAAADAAAABAAAAAQAAAABAAAAAAAAAAAAAAACAAAABAAAAAEAAAABAAAABAAAAAEAAAADAAAAAQAAAAMAAAACAAAAAAAAAAMAAAADAAAAAwAAAAQAAAAAAAAAAAAAAAMAAAADAAAAAgAAAAEAAAAAAAAABAAAAAEAAAADAAAABAAAAAMAAAACAAAAAAAAAAAAAAADAAAAAgAAAAAAAAACAAAAAgAAAAQAAAAEAAAAAgAAAAMAAAABAAAAAQAAAAIAAAACAAAAAwAAAAMAAAABAAAABAAAAAAAAAABAAAAAgAAAAAAAAAEAAAAAgAAAAIAAAAAAAAAAwAAAAIAAAAAAAAABAAAAAQAAAACAAAABAAAAAMAAAABAAAAAAAAAAIAAAAAAAAAAAAAAAMAAAADAAAAAwAAAAAAAAAAAAAAAwAAAAEAAAAAAAAAAwAAAAIAAAAEAAAAAQAAAAQAAAABAAAAAgAAAAAAAAACAAAAAQAAAAAAAAADAAAAAQAAAAEAAAABAAAAAAAAAAMAAAADAAAAAQAAAAAAAAACAAAAAAAAAAMAAAAAAAAAAAAAAAIAAAACAAAAAQAAAAIAAAADAAAABAAAAAIAAAABAAAABAAAAAAAAAAEAAAAAAAAAAIAAAAAAAAAAAAAAAAAAAACAAAAAQAAAAEAAAADAAAAAAAAAAMAAAABAAAAAAAAAAAAAAAEAAAAAgAAAAIAAAAEAAAAAAAAAAAAAAABAAAAAQAAAAMAAAADAAAABAAAAAEAAAADAAAAAQAAAAAAAAAAAAAAAAAAAAEAAAADAAAAAwAAAAEAAAAAAAAABAAAAAMAAAAEAAAAAQAAAAQAAAAAAAAAAgAAAAQAAAABAAAAAwAAAAEAAAAAAAAAAgAAAAMAAAACAAAAAAAAAAQAAAAEAAAAAgAAAAAAAAAAAAAAAgAAAAMAAAABAAAAAgAAAAQAAAADAAAAAQAAAAMAAAAAAAAABAAAAAIAAAADAAAABAAAAAMAAAAEAAAAAAAAAAAAAAADAAAAAQAAAAAAAAACAAAAAQAAAAEAAAAAAAAABAAAAAEAAAADAAAABAAAAAQAAAAAAAAAAwAAAAMAAAADAAAAAwAAAAMAAAABAAAAAgAAAAMAAAAAAAAAAgAAAAMAAAACAAAAAgAAAAMAAAABAAAAAQAAAAMAAAADAAAAAAAAAAMAAAAEAAAAAQAAAAQAAAADAAAAAwAAAAMAAAAEAAAABAAAAAQAAAABAAAAAQAAAAEAAAADAAAABAAAAAIAAAAAAAAABAAAAAEAAAABAAAAAwAAAAMAAAAAAAAAAgAAAAAAAAADAAAAAwAAAAAAAAAEAAAAAwAAAAEAAAACAAAAAAAAAAMAAAADAAAAAgAAAAQAAAADAAAAAgAAAAAAAAADAAAAAgAAAAAAAAAAAAAAAQAAAAQAAAAAAAAAAgAAAAEAAAAEAAAAAAAAAAIAAAAEAAAAAQAAAAAAAAADAAAAAwAAAAIAAAABAAAA",
            "dtype": "i4"
           },
           "width": 12
          },
          "opacity": 0.8,
          "size": 10
         },
         "mode": "markers",
         "type": "scatter3d",
         "x": {
          "bdata": "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",
          "dtype": "i1"
         },
         "y": {
          "bdata": "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",
          "dtype": "i1"
         },
         "z": {
          "bdata": "DgIXMR8OMRMIBBoKJR8iCCwkES4yFiAoEA4NBykOEC0lLSYwLAosEh8oDxMtGS0kJiInBxojIzEuER0EERUfKxIsAzEVBSAiFSsDFSAkMisYJBUiKgIvLCMPHRINLhwwKyUUIR8yIxYBBB8uICsaCRwUCTAMHRssIAssLjItMBoVMQ0uKhkZDAQmKh4yLSEZGSwVHy8OEQMqFhUVKAEyJyIdHwgFBx4OBQMuBCoeJQIeLxUJDAQKGigiHwEFBDAdDB0PIikpJyAdDyESIxkGEREsBi0HCykYFRgIDDAGDiIMCwUZCxsrEiAbGB8nJAUvHSsoBCctFA4hEgkiIQ8EGRQFEA0LFQYdDxEgKhUJEColIBwNCyQXJRUWCRAEAwYSIhoyKBghExgTBAscGBkbMS0aBAMtFTITBjIRGC4qCgEcMC8dJSYwJAkiKy4FDx4sEBAQFScoMBouGwUrEQMvGAwjKgEbECQeEi0BKgcyJRIdLQ0vBwsnBgInFy4TAy8GBgwoJgocExkmBgcCGBoZCg4VGgwLDw0FJCABDwMwHigYMBsOEjAgFSoEEwYCFSghGhcnKikpDB8iIB8YHxIPByMjExonFg4yITAwGxsUMB0tGRklEB4GJAMdDxICMTArHgoLDBwkJRYgKC8YCxMqBh8fGxgjFQgaGgkwIR8RFggCLS8HEywQERQyJQUsKRMvKAYZKiMRBBgQDisxIS0jCx4wLRopJQwbEg8iJRUfKxYMGSgQHgoBGCQuFCUaFxQmBSkWMAoMAiYUBQkwCSgeBioJBi8kEx4bGQUKGgsRLCwVMRsTIS4VFyYCFQEKLSwwFQEKGB0LIRsTMi4cDi4pMhwXDgolDxMXIyEMKRstFxMGBhQIJycnFykyHiAjLSUtHRskCSYpGSUDGDEDKiAhLiwjLSUoHiYPMSgoBQUFARUSMRsVExcaDSQnKCUJBxkqEykyKyQhFCUMLhweHBQnMCAcGxoWFxUkKgQvDQgLBQERGwMWGBInGQYaKwYGDQ0LLQgIIigOCwgIJRcmJgwPJiklEBkSBAwjLRAKIismMB8UDAIeHCguDyYeICQgDggbGB4iHBsfFwswESQhGw4FLxwLEhUWITEKEhwZBiweKh4hGA0TFyMWDi8yIQcDIw0qBRcLFwIhBi0ZGAoHAS0lDhkSJR4iMTAhLDIvGCsOAyEmLhMUKiIFAy4QFSIJJBYCIB0bIRALCxElEg0HJQgLCB8aFBgtIRUCHBIVGA8mJg0nCAQGCzEeIhwkEgQqCx8MFCUaDgwKEwQwJQQPIR4XAjIiISInLyUoCAwkMC8CGCgyGRQKIB8wFwEEAwMsBTICHQslIBsfJCIPDi4hKScHHRIPJwsEISUgLCksIA0wAycHCy8cEQsMBxMYEycBCjAYKhQxGRUMFSMqAwsWLyEyLiIhLSAvBTEwFi0eKzAXGwcCIRsGFC4ZHjAvGy0CJxgICAYMGjICHwQgCy8lJxgLJCgZDCYoCi8WIy4eFBkdAiAlECAqBhcbKxkeBxEKKDIYCAYsLwYLKS4JJQ0YLxUWECUDIQ8qKhMaJxgXLCIrLQQTHRslCxwfMioSBiENGhEDBy4OFxQmEDAIEAUOEg4FDwMMKyMkAxsVEhASEwEnMSsfKAIuIyoDIDAiDxYCHhsSCDAYKwgxAiYEHyItHgIsAQEbDikZLxQqECAlASUFHxInCBQXJi0sFCIKAxcqHhUyECAOKi8VJQoSAigrDikmDBMXMR0OExMwEy0RDwsBESUoMhQIEAkMGiwTKwUFHwsiDioPLxcXARwlBBUyIhQZGgQnHS8FEgoZAjApKiwGBQgYKhgmKTAQBAgBBBQoCComIg4nKDEhGTAWAS8UCicPCyYpEg0rDAMMLhUXBC0YAwwiJyMIKgYDHSAtFSkXDhgZDQMqAhoYBhkLFBkjCykRAR4vIhIhKgIBFyoDEC4fDzALFAYYEgENAhofKwwWAxcaJSoPCgMsFwYJEC4YFg0ULgonLAcDLB8wEhsBIgUMDignMgUjBhYbIS8wFggFEBoIETIWEw4jKxgRMREoKxMoDRQVEiwaIhgXAwIXCB4wFQkIHQMLEBkgHCQHAgYeLicILigVIQMwCBgKGQMtDyIVFhghDREZDwQrDAMBBhoGFi0yMicyGyYlMigDLQgHDR0HMiEeKDEgEjINARAGFSQUCBYDLioBHQ4EKQQvLCUVLgEjMS8YHBYUGQ8xChUiKR4YBg4lJRwrGQQNIAEEIS0UAQcwLiIkLDAMEzEZGQETBxMJJQ8eHhAOCCgYDicVIC0TAQwaDCQWEB8rMiUXChQSAxcbLCkpJCYiDhcSLQ4wEQEnGCkcIikbLgItIgkBEQYMCgQIKTExKB4EFhYKFysfJhYtFQkiGgEvHjAfIScuGCUHBhAhEhgYMAQULzIfHQQoHyksHy0yBwUwEyctIwgLIC4HASAfJwkxIiMyBCALMQkeIQgdBBMKJxUMCRQsEBsOGDEOBhQDBS4IDRknDyMuAzAbBTAMCjADEwsZKiIyFSUuDhgkEwwNIAUdKCwDIyEUKA0JByosBggKLhoGLxwXLSwLJxQwLhYtMQkpAicMGiAyAwMlFBovBygtFAsyGQUEGQsEATAJAgQrIAEmGSogFRoGDgQaJw8BHBEYHRIKExoZAhMgDR4CCBsaAwQFGS8IFCoUFxowEBwnKy0yCigmAg0hGysuByMfKg4jMREaHiAjDwoOHhAOHB0FETIXFg8gBQYsFywDDiUWAiwxFhooEBEwHBorJiQBMSkVGBsEEwEbBRQyJAwXFS8mKCMEHCQPBx0MEDILHCQmICoWFh8cKBUMIQkPDSMBGRQkISQgFTAZIC0EEwEMEisfIS4pKQkiFQUgLC4qMiEgICUJBiQBMCwJIA4rIBoCEDIGFAkvIS4JCDACHygjKBsKFyAGGxkLFywjLRYSFBwPKhQQLyIeBSYSHCoFMiEBDjAaLBIfEikSAwUNFi0nEhMdExYVFiwqIQYsGBAMMioyCiAlDxsHMSwNJgoZEgYjHykIIhQmIwYyLxcNHxAoLTIBCjAmFSYfCS8IHhYDDwoTJAwxBxweHQkbFSQTLyYWHSovCgoBBwoLBRUYJRYQLA4XLi4QKBUZGRkbDBsoJiwbHhgmBCAgHAYYJhwJFR8SBRYlFiQXLBkoDA4OChEYHyQmFy8UKSwfCxkfKBcFGgssLy4jCB4OHhogLwscAi0HHCIaLSIvKhsrECgdJiIeLS8FMhgPMgcKJh8HGy0NIRkFFxEOHBMfGQQUJRwGGx0BHxwTJBwdCRoHIy4IMiUGEB4yBQ8iBhoiJRwmAiAeEQUfKxMgBQkwARQqLSkkCh8VEBIUFRcUHiEfMBwHBDEWJy0eIRgLDRseJwoEECILHigNHDEXBBEYFREWGwEbCCsYHQoMMCgBGgkTJQMoDTAECRoTAR0mHyMoDQkZAyMNHzAGKwEIBiAuJjASGQQbDiQGLh0MLxwVDyYTHx4oKhkUAw4gFCIGAiMhLRQwJQQYBBkODi4bLhgEAh0HJy4sFCwXJQQOHwkfGikNBA8mAwYiBxURBRUqMSEMEi8SMBIuIgoMJCIxJBInIiMBMBMsCQMyBxQQHRUTCgQtERYDCwQLLxEgJSwbLg0CLSMnJyIpLxEoLBUVEA8aMh4wFRIpCwgqKQMKIwIYLx8cDRYMCi0qEAYcGA4dIR4aDA0pBAIcGA4LGwcxFQolCQ4eKh8wMDIKLRsKEwEnDigtBgwTBSUhLzEcFwshLw0EKBMRBxUsAh4pHzApKicPAxwbJCoeCRkhHyMuHTEbBRIfGxMhKhAxKAUIAg4FIg0fKwYXCi8OHQwZFRcKLywpHQICHRYXLhMYKw4HMg8oKSIbDAEnDTIkHwMLEAwlKwkPESoOMQMcKQsuDw8iDRslJQQBHTImDywOBQsPLh4CHAkvFSocDRkmKBkULAkLAyIwHBQxDgklBAEkFRAqHwYYBxkSDioGDh4KBxwTDRcFER8TCA8SEA0mGx8YFQ8wLxcELwcGLwcBFx4YCRkSBwIkHwobDhEKBBkDLykcMQcWIgUPGgMqARQnGDEHDQIEESsGLgciFQ0hGAQFCxQcKwoaHSMXDy4OEQkNFCcyFQMJHSopERQSBy8CGRoCLQkBBB8VIBAiKAQDHCsUKCILGh0vMB0OKAQlLwEaDBATFQ8JBy8RLiAiEgUsBCUrHCQQJiUJDgMKGh4gIxonHxwMLhsEDh4GKxwnHgUqFCMKJBUdJxAgIiYOFzIxDionKwwVIQYKEi4xJxAcFiQSHyYqGxgmCRMLEBIIBCUeJR4RCyoUJQwpIA8nMAgLJDInCwUHMhUfJxwhKgUZMB4iIg4CKQMSAQUpBQoUCwQmExACCxIvDw8vLwYSKB8fBCQfBgEdEwwSLS0IBAUeDxEtAysEKRAKAgsBKScBAxUwGC0uIy8jLQYUAx4cDx0PEgcTDwMNJRodLy8wLgctLwYdKi4cDgwpCBgSBigGGwInCRAkAhUnJgYGMgkPBQ0sJBInCwEiLxgUCwMmLR8QAw8LFiMFIxsJFRcDHywUIhEULhwGMikyIRkCDwwcDAMUAyAjHw0DMA8NFR0YFQUvIi0MHysFJAwfHw8LEgkLJiopLSkjFQ0XBicHICsPMCMpDhYQAg0mKxonMigMITErDhUfHSAQJiIeDiEjDR4eLwEBISslFwweBxQKKBURBRYFEioWJRcvCyAUAyAFLSsBCQ0FJwcIKCMOGg4JIA8ZGycxDA0WEwMyDywwBAwhKCYTJhIYHQ4sEhMEGQMoBREkKRQCHxceGigTBCEdLzIcBQwEFiAgMCMsHRoDARERJCAyJxEnBS8SHycMLSEDBRcnCgQSARIuDQULMQELLxQSKwQUBx8pAxArHQUeIS4RLxERHAgIBBgdCgsSGicEGAIkJBckAhETKRsgIRgfIwIqLywIDQoBARICJBEBMgMtHAYhHQIrMCsaGjIkGgIxIAMmBQgrFgoaKiEXHiQDDSYTDisKIh8iHCMpMC0KCR4tKSgqEQQGFi4bEh8BAi4bAy8UFw0MJAEOLR8pJAYcHQ4HHxoMLSgqLSIiERsfLxkvCCAhEBsRERwmIRgOBQgqMCguKB8nJBkYEzEEJAgdGi8sMQkcARwhHAkcExQDFiEVBy4YBigRGBYDJygBDjEhBgUdLCApGBgh",
          "dtype": "i1"
         }
        }
       ],
       "layout": {
        "scene": {
         "xaxis": {
          "title": {
           "text": "Edad"
          }
         },
         "yaxis": {
          "title": {
           "text": "Precio (USD)"
          }
         },
         "zaxis": {
          "title": {
           "text": "Compras anteriores"
          }
         }
        },
        "template": {
         "data": {
          "bar": [
           {
            "error_x": {
             "color": "#2a3f5f"
            },
            "error_y": {
             "color": "#2a3f5f"
            },
            "marker": {
             "line": {
              "color": "#E5ECF6",
              "width": 0.5
             },
             "pattern": {
              "fillmode": "overlay",
              "size": 10,
              "solidity": 0.2
             }
            },
            "type": "bar"
           }
          ],
          "barpolar": [
           {
            "marker": {
             "line": {
              "color": "#E5ECF6",
              "width": 0.5
             },
             "pattern": {
              "fillmode": "overlay",
              "size": 10,
              "solidity": 0.2
             }
            },
            "type": "barpolar"
           }
          ],
          "carpet": [
           {
            "aaxis": {
             "endlinecolor": "#2a3f5f",
             "gridcolor": "white",
             "linecolor": "white",
             "minorgridcolor": "white",
             "startlinecolor": "#2a3f5f"
            },
            "baxis": {
             "endlinecolor": "#2a3f5f",
             "gridcolor": "white",
             "linecolor": "white",
             "minorgridcolor": "white",
             "startlinecolor": "#2a3f5f"
            },
            "type": "carpet"
           }
          ],
          "choropleth": [
           {
            "colorbar": {
             "outlinewidth": 0,
             "ticks": ""
            },
            "type": "choropleth"
           }
          ],
          "contour": [
           {
            "colorbar": {
             "outlinewidth": 0,
             "ticks": ""
            },
            "colorscale": [
             [
              0,
              "#0d0887"
             ],
             [
              0.1111111111111111,
              "#46039f"
             ],
             [
              0.2222222222222222,
              "#7201a8"
             ],
             [
              0.3333333333333333,
              "#9c179e"
             ],
             [
              0.4444444444444444,
              "#bd3786"
             ],
             [
              0.5555555555555556,
              "#d8576b"
             ],
             [
              0.6666666666666666,
              "#ed7953"
             ],
             [
              0.7777777777777778,
              "#fb9f3a"
             ],
             [
              0.8888888888888888,
              "#fdca26"
             ],
             [
              1,
              "#f0f921"
             ]
            ],
            "type": "contour"
           }
          ],
          "contourcarpet": [
           {
            "colorbar": {
             "outlinewidth": 0,
             "ticks": ""
            },
            "type": "contourcarpet"
           }
          ],
          "heatmap": [
           {
            "colorbar": {
             "outlinewidth": 0,
             "ticks": ""
            },
            "colorscale": [
             [
              0,
              "#0d0887"
             ],
             [
              0.1111111111111111,
              "#46039f"
             ],
             [
              0.2222222222222222,
              "#7201a8"
             ],
             [
              0.3333333333333333,
              "#9c179e"
             ],
             [
              0.4444444444444444,
              "#bd3786"
             ],
             [
              0.5555555555555556,
              "#d8576b"
             ],
             [
              0.6666666666666666,
              "#ed7953"
             ],
             [
              0.7777777777777778,
              "#fb9f3a"
             ],
             [
              0.8888888888888888,
              "#fdca26"
             ],
             [
              1,
              "#f0f921"
             ]
            ],
            "type": "heatmap"
           }
          ],
          "histogram": [
           {
            "marker": {
             "pattern": {
              "fillmode": "overlay",
              "size": 10,
              "solidity": 0.2
             }
            },
            "type": "histogram"
           }
          ],
          "histogram2d": [
           {
            "colorbar": {
             "outlinewidth": 0,
             "ticks": ""
            },
            "colorscale": [
             [
              0,
              "#0d0887"
             ],
             [
              0.1111111111111111,
              "#46039f"
             ],
             [
              0.2222222222222222,
              "#7201a8"
             ],
             [
              0.3333333333333333,
              "#9c179e"
             ],
             [
              0.4444444444444444,
              "#bd3786"
             ],
             [
              0.5555555555555556,
              "#d8576b"
             ],
             [
              0.6666666666666666,
              "#ed7953"
             ],
             [
              0.7777777777777778,
              "#fb9f3a"
             ],
             [
              0.8888888888888888,
              "#fdca26"
             ],
             [
              1,
              "#f0f921"
             ]
            ],
            "type": "histogram2d"
           }
          ],
          "histogram2dcontour": [
           {
            "colorbar": {
             "outlinewidth": 0,
             "ticks": ""
            },
            "colorscale": [
             [
              0,
              "#0d0887"
             ],
             [
              0.1111111111111111,
              "#46039f"
             ],
             [
              0.2222222222222222,
              "#7201a8"
             ],
             [
              0.3333333333333333,
              "#9c179e"
             ],
             [
              0.4444444444444444,
              "#bd3786"
             ],
             [
              0.5555555555555556,
              "#d8576b"
             ],
             [
              0.6666666666666666,
              "#ed7953"
             ],
             [
              0.7777777777777778,
              "#fb9f3a"
             ],
             [
              0.8888888888888888,
              "#fdca26"
             ],
             [
              1,
              "#f0f921"
             ]
            ],
            "type": "histogram2dcontour"
           }
          ],
          "mesh3d": [
           {
            "colorbar": {
             "outlinewidth": 0,
             "ticks": ""
            },
            "type": "mesh3d"
           }
          ],
          "parcoords": [
           {
            "line": {
             "colorbar": {
              "outlinewidth": 0,
              "ticks": ""
             }
            },
            "type": "parcoords"
           }
          ],
          "pie": [
           {
            "automargin": true,
            "type": "pie"
           }
          ],
          "scatter": [
           {
            "fillpattern": {
             "fillmode": "overlay",
             "size": 10,
             "solidity": 0.2
            },
            "type": "scatter"
           }
          ],
          "scatter3d": [
           {
            "line": {
             "colorbar": {
              "outlinewidth": 0,
              "ticks": ""
             }
            },
            "marker": {
             "colorbar": {
              "outlinewidth": 0,
              "ticks": ""
             }
            },
            "type": "scatter3d"
           }
          ],
          "scattercarpet": [
           {
            "marker": {
             "colorbar": {
              "outlinewidth": 0,
              "ticks": ""
             }
            },
            "type": "scattercarpet"
           }
          ],
          "scattergeo": [
           {
            "marker": {
             "colorbar": {
              "outlinewidth": 0,
              "ticks": ""
             }
            },
            "type": "scattergeo"
           }
          ],
          "scattergl": [
           {
            "marker": {
             "colorbar": {
              "outlinewidth": 0,
              "ticks": ""
             }
            },
            "type": "scattergl"
           }
          ],
          "scattermap": [
           {
            "marker": {
             "colorbar": {
              "outlinewidth": 0,
              "ticks": ""
             }
            },
            "type": "scattermap"
           }
          ],
          "scattermapbox": [
           {
            "marker": {
             "colorbar": {
              "outlinewidth": 0,
              "ticks": ""
             }
            },
            "type": "scattermapbox"
           }
          ],
          "scatterpolar": [
           {
            "marker": {
             "colorbar": {
              "outlinewidth": 0,
              "ticks": ""
             }
            },
            "type": "scatterpolar"
           }
          ],
          "scatterpolargl": [
           {
            "marker": {
             "colorbar": {
              "outlinewidth": 0,
              "ticks": ""
             }
            },
            "type": "scatterpolargl"
           }
          ],
          "scatterternary": [
           {
            "marker": {
             "colorbar": {
              "outlinewidth": 0,
              "ticks": ""
             }
            },
            "type": "scatterternary"
           }
          ],
          "surface": [
           {
            "colorbar": {
             "outlinewidth": 0,
             "ticks": ""
            },
            "colorscale": [
             [
              0,
              "#0d0887"
             ],
             [
              0.1111111111111111,
              "#46039f"
             ],
             [
              0.2222222222222222,
              "#7201a8"
             ],
             [
              0.3333333333333333,
              "#9c179e"
             ],
             [
              0.4444444444444444,
              "#bd3786"
             ],
             [
              0.5555555555555556,
              "#d8576b"
             ],
             [
              0.6666666666666666,
              "#ed7953"
             ],
             [
              0.7777777777777778,
              "#fb9f3a"
             ],
             [
              0.8888888888888888,
              "#fdca26"
             ],
             [
              1,
              "#f0f921"
             ]
            ],
            "type": "surface"
           }
          ],
          "table": [
           {
            "cells": {
             "fill": {
              "color": "#EBF0F8"
             },
             "line": {
              "color": "white"
             }
            },
            "header": {
             "fill": {
              "color": "#C8D4E3"
             },
             "line": {
              "color": "white"
             }
            },
            "type": "table"
           }
          ]
         },
         "layout": {
          "annotationdefaults": {
           "arrowcolor": "#2a3f5f",
           "arrowhead": 0,
           "arrowwidth": 1
          },
          "autotypenumbers": "strict",
          "coloraxis": {
           "colorbar": {
            "outlinewidth": 0,
            "ticks": ""
           }
          },
          "colorscale": {
           "diverging": [
            [
             0,
             "#8e0152"
            ],
            [
             0.1,
             "#c51b7d"
            ],
            [
             0.2,
             "#de77ae"
            ],
            [
             0.3,
             "#f1b6da"
            ],
            [
             0.4,
             "#fde0ef"
            ],
            [
             0.5,
             "#f7f7f7"
            ],
            [
             0.6,
             "#e6f5d0"
            ],
            [
             0.7,
             "#b8e186"
            ],
            [
             0.8,
             "#7fbc41"
            ],
            [
             0.9,
             "#4d9221"
            ],
            [
             1,
             "#276419"
            ]
           ],
           "sequential": [
            [
             0,
             "#0d0887"
            ],
            [
             0.1111111111111111,
             "#46039f"
            ],
            [
             0.2222222222222222,
             "#7201a8"
            ],
            [
             0.3333333333333333,
             "#9c179e"
            ],
            [
             0.4444444444444444,
             "#bd3786"
            ],
            [
             0.5555555555555556,
             "#d8576b"
            ],
            [
             0.6666666666666666,
             "#ed7953"
            ],
            [
             0.7777777777777778,
             "#fb9f3a"
            ],
            [
             0.8888888888888888,
             "#fdca26"
            ],
            [
             1,
             "#f0f921"
            ]
           ],
           "sequentialminus": [
            [
             0,
             "#0d0887"
            ],
            [
             0.1111111111111111,
             "#46039f"
            ],
            [
             0.2222222222222222,
             "#7201a8"
            ],
            [
             0.3333333333333333,
             "#9c179e"
            ],
            [
             0.4444444444444444,
             "#bd3786"
            ],
            [
             0.5555555555555556,
             "#d8576b"
            ],
            [
             0.6666666666666666,
             "#ed7953"
            ],
            [
             0.7777777777777778,
             "#fb9f3a"
            ],
            [
             0.8888888888888888,
             "#fdca26"
            ],
            [
             1,
             "#f0f921"
            ]
           ]
          },
          "colorway": [
           "#636efa",
           "#EF553B",
           "#00cc96",
           "#ab63fa",
           "#FFA15A",
           "#19d3f3",
           "#FF6692",
           "#B6E880",
           "#FF97FF",
           "#FECB52"
          ],
          "font": {
           "color": "#2a3f5f"
          },
          "geo": {
           "bgcolor": "white",
           "lakecolor": "white",
           "landcolor": "#E5ECF6",
           "showlakes": true,
           "showland": true,
           "subunitcolor": "white"
          },
          "hoverlabel": {
           "align": "left"
          },
          "hovermode": "closest",
          "mapbox": {
           "style": "light"
          },
          "paper_bgcolor": "white",
          "plot_bgcolor": "#E5ECF6",
          "polar": {
           "angularaxis": {
            "gridcolor": "white",
            "linecolor": "white",
            "ticks": ""
           },
           "bgcolor": "#E5ECF6",
           "radialaxis": {
            "gridcolor": "white",
            "linecolor": "white",
            "ticks": ""
           }
          },
          "scene": {
           "xaxis": {
            "backgroundcolor": "#E5ECF6",
            "gridcolor": "white",
            "gridwidth": 2,
            "linecolor": "white",
            "showbackground": true,
            "ticks": "",
            "zerolinecolor": "white"
           },
           "yaxis": {
            "backgroundcolor": "#E5ECF6",
            "gridcolor": "white",
            "gridwidth": 2,
            "linecolor": "white",
            "showbackground": true,
            "ticks": "",
            "zerolinecolor": "white"
           },
           "zaxis": {
            "backgroundcolor": "#E5ECF6",
            "gridcolor": "white",
            "gridwidth": 2,
            "linecolor": "white",
            "showbackground": true,
            "ticks": "",
            "zerolinecolor": "white"
           }
          },
          "shapedefaults": {
           "line": {
            "color": "#2a3f5f"
           }
          },
          "ternary": {
           "aaxis": {
            "gridcolor": "white",
            "linecolor": "white",
            "ticks": ""
           },
           "baxis": {
            "gridcolor": "white",
            "linecolor": "white",
            "ticks": ""
           },
           "bgcolor": "#E5ECF6",
           "caxis": {
            "gridcolor": "white",
            "linecolor": "white",
            "ticks": ""
           }
          },
          "title": {
           "x": 0.05
          },
          "xaxis": {
           "automargin": true,
           "gridcolor": "white",
           "linecolor": "white",
           "ticks": "",
           "title": {
            "standoff": 15
           },
           "zerolinecolor": "white",
           "zerolinewidth": 2
          },
          "yaxis": {
           "automargin": true,
           "gridcolor": "white",
           "linecolor": "white",
           "ticks": "",
           "title": {
            "standoff": 15
           },
           "zerolinecolor": "white",
           "zerolinewidth": 2
          }
         }
        },
        "title": {
         "text": "Clusters wrt Age, Gender, and Previous Purchases"
        }
       }
      }
     },
     "metadata": {},
     "output_type": "display_data"
    }
   ],
   "source": [
    "\n",
    "# Asignar los clusters al DataFrame original\n",
    "df['Cluster'] = df_reducido['Cluster']\n",
    "\n",
    "# Visualización 3D\n",
    "trace1 = go.Scatter3d(\n",
    "    x=df['Edad'],\n",
    "    y=df['Precio (USD)'],\n",
    "    z=df['Compras anteriores'],\n",
    "    mode='markers',\n",
    "    marker=dict(\n",
    "        color=df['Cluster'],\n",
    "        size=10,\n",
    "        line=dict(color=df['Cluster'], width=12),\n",
    "        opacity=0.8\n",
    "    )\n",
    ")\n",
    "\n",
    "layout = go.Layout(\n",
    "    title='Clusters wrt Age, Gender, and Previous Purchases',\n",
    "    scene=dict(\n",
    "        xaxis=dict(title='Edad'),\n",
    "        yaxis=dict(title='Precio (USD)'),\n",
    "        zaxis=dict(title='Compras anteriores')\n",
    "    )\n",
    ")\n",
    "\n",
    "fig = go.Figure(data=[trace1], layout=layout)\n",
    "fig.show()\n"
   ]
  },
  {
   "cell_type": "code",
   "execution_count": 311,
   "metadata": {},
   "outputs": [
    {
     "name": "stdout",
     "output_type": "stream",
     "text": [
      "Media de los datos de los Clusters:\n",
      "              Edad  Precio (USD)  Compras anteriores\n",
      "Cluster                                             \n",
      "0        31.617813     36.718151           22.298760\n",
      "1        58.326778     81.888048           33.877458\n",
      "2        41.672065     80.597841            9.983806\n",
      "3        57.780514     39.108137           26.989293\n",
      "4        30.165436     74.053176           35.587888\n"
     ]
    }
   ],
   "source": [
    "media_clusters = df[['Edad', 'Precio (USD)', 'Compras anteriores','Cluster']].groupby('Cluster').mean()\n",
    "print(\"Media de los datos de los Clusters:\")\n",
    "print(media_clusters)"
   ]
  },
  {
   "cell_type": "code",
   "execution_count": 320,
   "metadata": {},
   "outputs": [
    {
     "data": {
      "image/png": "[encoded data removed]",
      "text/plain": [
       "<Figure size 1500x500 with 3 Axes>"
      ]
     },
     "metadata": {},
     "output_type": "display_data"
    }
   ],
   "source": [
    "plt.figure(figsize=(15, 5))\n",
    "\n",
    "# Excluir la columna 'Cluster' de la iteración\n",
    "features = ['Edad', 'Precio (USD)', 'Compras anteriores']\n",
    "\n",
    "for i, feature in enumerate(features):  \n",
    "    plt.subplot(1, len(features), i+1)  # Ajustar según el número de características\n",
    "    sns.boxplot(x='Cluster', y=feature, data=df_reducido)\n",
    "    plt.title(f'Distribución de {feature} por Cluster')\n",
    "\n",
    "plt.tight_layout()\n",
    "plt.show()\n"
   ]
  },
  {
   "cell_type": "markdown",
   "metadata": {},
   "source": [
    "## Análisis de Clusters\n",
    "\n",
    "**Cluster 0:** Jóvenes (31.6 años) con compras moderadas (22.3) y bajo gasto (36.7 USD).  \n",
    "**Cluster 1:** Adultos mayores (58.3 años) con alta frecuencia de compra (33.9) y alto gasto (81.9 USD).  \n",
    "**Cluster 2:** Adultos de mediana edad (41.7 años) que gastan mucho (80.6 USD) pero compran poco (9.98).  \n",
    "**Cluster 3:** Adultos mayores (57.8 años) con compras regulares (26.9) y bajo gasto (39.1 USD).  \n",
    "**Cluster 4:** Jóvenes (30.1 años) con compras muy frecuentes (35.6) y alto gasto (74.0 USD).  \n"
   ]
  }
 ],
 "metadata": {
  "kernelspec": {
   "display_name": "IAbigdata",
   "language": "python",
   "name": "python3"
  },
  "language_info": {
   "codemirror_mode": {
    "name": "ipython",
    "version": 3
   },
   "file_extension": ".py",
   "mimetype": "text/x-python",
   "name": "python",
   "nbconvert_exporter": "python",
   "pygments_lexer": "ipython3",
   "version": "3.11.11"
  }
 },
 "nbformat": 4,
 "nbformat_minor": 2
}
