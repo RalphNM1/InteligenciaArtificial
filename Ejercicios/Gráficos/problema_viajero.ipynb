{
 "cells": [
  {
   "cell_type": "markdown",
   "metadata": {},
   "source": [
    "## Problema del viajero"
   ]
  },
  {
   "cell_type": "markdown",
   "metadata": {},
   "source": [
    "<p>El problema del viajero (TSP - Traveling Salesman Problem) es un clásico de optimización combinatoria. El objetivo es encontrar la ruta más corta que visite un conjunto de ciudades exactamente una vez y regrese a la ciudad de origen. Es un problema NP-hard, lo que significa que no existe un algoritmo eficiente conocido para resolverlo de manera óptima en todos los casos a medida que aumenta el número de ciudades.  \n",
    "\n",
    "En Python, el TSP se puede resolver de varias maneras, dependiendo del enfoque que quieras usar:  \n",
    "Enfoques Comunes:  \n",
    "Fuerza bruta (backtracking):  \n",
    "Probar todas las permutaciones posibles y elegir la mínima. Es ineficiente para un número grande de ciudades.  \n",
    "\n",
    "Programación dinámica (algoritmo de Held-Karp):  \n",
    "Más eficiente que el enfoque de fuerza bruta, pero sigue siendo exponencial.  \n",
    "\n",
    "Algoritmos heurísticos/metaheurísticos:  \n",
    "Algoritmos como Algoritmos Genéticos, Recocido Simulado (Simulated Annealing) o Colonia de Hormigas (Ant Colony Optimization) para obtener soluciones aproximadas en un tiempo razonable.  \n",
    "\n",
    "Librerías especializadas:  \n",
    "Puedes usar networkx, scipy, o ortools de Google para resolverlo de manera más sencilla.  <p>\n",
    "\n"
   ]
  },
  {
   "cell_type": "markdown",
   "metadata": {},
   "source": [
    "### Fuerza Bruta (Backtracking)"
   ]
  },
  {
   "cell_type": "code",
   "execution_count": 1,
   "metadata": {},
   "outputs": [
    {
     "name": "stdout",
     "output_type": "stream",
     "text": [
      "Mejor ruta: (0, 1, 3, 2)\n",
      "Distancia mínima: 80\n"
     ]
    }
   ],
   "source": [
    "from itertools import permutations\n",
    "import matplotlib.pyplot as plt\n",
    "\n",
    "# Matriz de distancias\n",
    "distancias = [\n",
    "    [0, 10, 15, 20],\n",
    "    [10, 0, 35, 25],\n",
    "    [15, 35, 0, 30],\n",
    "    [20, 25, 30, 0]\n",
    "]\n",
    "\n",
    "n = len(distancias)\n",
    "ciudades = range(n)\n",
    "\n",
    "# Calcular la distancia para una ruta dada\n",
    "def calcular_distancia(ruta):\n",
    "    distancia_total = sum(distancias[ruta[i]][ruta[i+1]] for i in range(n - 1))\n",
    "    distancia_total += distancias[ruta[-1]][ruta[0]]  # Regreso al inicio\n",
    "    return distancia_total\n",
    "\n",
    "# Probar todas las rutas posibles\n",
    "mejor_ruta = None\n",
    "distancia_minima = float('inf')\n",
    "\n",
    "for perm in permutations(ciudades):\n",
    "    if perm[0] == 0:  # Fijamos el punto de partida\n",
    "        distancia = calcular_distancia(perm)\n",
    "        if distancia < distancia_minima:\n",
    "            distancia_minima = distancia\n",
    "            mejor_ruta = perm\n",
    "\n",
    "print(f\"Mejor ruta: {mejor_ruta}\")\n",
    "print(f\"Distancia mínima: {distancia_minima}\")"
   ]
  },
  {
   "cell_type": "markdown",
   "metadata": {},
   "source": [
    "### Programación Dinámica (Held-Karp)"
   ]
  },
  {
   "cell_type": "code",
   "execution_count": 2,
   "metadata": {},
   "outputs": [
    {
     "name": "stdout",
     "output_type": "stream",
     "text": [
      "Distancia mínima: 80\n",
      "Mejor ruta: [0, 1, 3, 2, 0]\n"
     ]
    }
   ],
   "source": [
    "from functools import lru_cache\n",
    "\n",
    "# Matriz de distancias\n",
    "distancias = [\n",
    "    [0, 10, 15, 20],\n",
    "    [10, 0, 35, 25],\n",
    "    [15, 35, 0, 30],\n",
    "    [20, 25, 30, 0]\n",
    "]\n",
    "\n",
    "n = len(distancias)\n",
    "\n",
    "# Diccionario para rastrear la mejor ruta\n",
    "ruta_memoria = {}\n",
    "\n",
    "@lru_cache(None)\n",
    "def tsp(mask, pos):\n",
    "    # Si todas las ciudades fueron visitadas, volver al origen\n",
    "    if mask == (1 << n) - 1:\n",
    "        return distancias[pos][0]\n",
    "\n",
    "    mejor = float('inf')\n",
    "    siguiente_ciudad = None\n",
    "\n",
    "    for ciudad in range(n):\n",
    "        # Si no hemos visitado esta ciudad\n",
    "        if not (mask & (1 << ciudad)):\n",
    "            costo = distancias[pos][ciudad] + tsp(mask | (1 << ciudad), ciudad)\n",
    "            if costo < mejor:\n",
    "                mejor = costo\n",
    "                siguiente_ciudad = ciudad\n",
    "\n",
    "    # Guardamos la mejor opción para reconstruir la ruta\n",
    "    ruta_memoria[(mask, pos)] = siguiente_ciudad\n",
    "    return mejor\n",
    "\n",
    "# Calcular la distancia mínima\n",
    "distancia_minima = tsp(1, 0)  # Empezamos en la ciudad 0\n",
    "\n",
    "# Reconstruir la ruta\n",
    "ruta = [0]\n",
    "mask, pos = 1, 0\n",
    "while len(ruta) < n:\n",
    "    siguiente = ruta_memoria[(mask, pos)]\n",
    "    ruta.append(siguiente)\n",
    "    mask |= (1 << siguiente)\n",
    "    pos = siguiente\n",
    "ruta.append(0)  # Volver a la ciudad inicial\n",
    "\n",
    "# Mostrar resultados\n",
    "print(f\"Distancia mínima: {distancia_minima}\")\n",
    "print(f\"Mejor ruta: {ruta}\")\n"
   ]
  },
  {
   "cell_type": "markdown",
   "metadata": {},
   "source": [
    "### Algoritmo Metaheurístico (Recocido Simulado)"
   ]
  },
  {
   "cell_type": "code",
   "execution_count": 3,
   "metadata": {},
   "outputs": [
    {
     "name": "stdout",
     "output_type": "stream",
     "text": [
      "Mejor ruta: [1, 0, 2, 3]\n",
      "Distancia mínima: 80\n"
     ]
    }
   ],
   "source": [
    "import random\n",
    "import math\n",
    "\n",
    "# Matriz de distancias\n",
    "distancias = [\n",
    "    [0, 10, 15, 20],\n",
    "    [10, 0, 35, 25],\n",
    "    [15, 35, 0, 30],\n",
    "    [20, 25, 30, 0]\n",
    "]\n",
    "\n",
    "n = len(distancias)\n",
    "\n",
    "# Función para calcular distancia de una ruta\n",
    "def calcular_distancia(ruta):\n",
    "    distancia = sum(distancias[ruta[i]][ruta[i+1]] for i in range(n - 1))\n",
    "    distancia += distancias[ruta[-1]][ruta[0]]  # Regresar al inicio\n",
    "    return distancia\n",
    "\n",
    "# Recocido Simulado\n",
    "def recocido_simulado():\n",
    "    temperatura = 10000\n",
    "    enfriamiento = 0.99\n",
    "    ruta_actual = list(range(n))\n",
    "    random.shuffle(ruta_actual)\n",
    "    distancia_actual = calcular_distancia(ruta_actual)\n",
    "\n",
    "    while temperatura > 1:\n",
    "        # Generar vecino intercambiando dos ciudades\n",
    "        i, j = random.sample(range(n), 2)\n",
    "        nueva_ruta = ruta_actual[:]\n",
    "        nueva_ruta[i], nueva_ruta[j] = nueva_ruta[j], nueva_ruta[i]\n",
    "        nueva_distancia = calcular_distancia(nueva_ruta)\n",
    "\n",
    "        # Aceptar mejor solución o con probabilidad basada en temperatura\n",
    "        if nueva_distancia < distancia_actual or random.random() < math.exp((distancia_actual - nueva_distancia) / temperatura):\n",
    "            ruta_actual = nueva_ruta\n",
    "            distancia_actual = nueva_distancia\n",
    "\n",
    "        temperatura *= enfriamiento\n",
    "\n",
    "    return ruta_actual, distancia_actual\n",
    "\n",
    "mejor_ruta, mejor_distancia = recocido_simulado()\n",
    "print(f\"Mejor ruta: {mejor_ruta}\")\n",
    "print(f\"Distancia mínima: {mejor_distancia}\")"
   ]
  },
  {
   "cell_type": "markdown",
   "metadata": {},
   "source": [
    "### Enfoque con NetworkX"
   ]
  },
  {
   "cell_type": "code",
   "execution_count": 6,
   "metadata": {},
   "outputs": [
    {
     "name": "stdout",
     "output_type": "stream",
     "text": [
      "Mejor ruta aproximada: [0, 2, 3, 1, 0]\n",
      "Distancia mínima aproximada: 80\n"
     ]
    },
    {
     "data": {
      "image/png": "[encoded data removed]",
      "text/plain": [
       "<Figure size 800x600 with 1 Axes>"
      ]
     },
     "metadata": {},
     "output_type": "display_data"
    }
   ],
   "source": [
    "import networkx as nx\n",
    "import matplotlib.pyplot as plt\n",
    "\n",
    "# Crear un grafo completo con 4 ciudades\n",
    "G = nx.Graph()\n",
    "\n",
    "# Matriz de distancias\n",
    "distancias_matriz = [\n",
    "    [0, 10, 15, 20],\n",
    "    [10, 0, 35, 25],\n",
    "    [15, 35, 0, 30],\n",
    "    [20, 25, 30, 0]\n",
    "]\n",
    "\n",
    "# Agregar aristas con pesos\n",
    "n = len(distancias_matriz)\n",
    "for i in range(n):\n",
    "    for j in range(i + 1, n):\n",
    "        peso = distancias_matriz[i][j]\n",
    "        if peso != 0:\n",
    "            G.add_edge(i, j, weight=peso)\n",
    "\n",
    "# Resolver el TSP usando una heurística aproximada\n",
    "ruta = nx.approximation.traveling_salesman_problem(G, cycle=True, weight='weight')\n",
    "\n",
    "# Calcular la distancia total de la ruta\n",
    "distancia_total = 0\n",
    "for i in range(len(ruta) - 1):\n",
    "    u, v = ruta[i], ruta[i + 1]\n",
    "    if G.has_edge(u, v):\n",
    "        distancia_total += G[u][v]['weight']\n",
    "    else:\n",
    "        print(f\"No existe una arista entre {u} y {v}\")\n",
    "\n",
    "print(f\"Mejor ruta aproximada: {ruta}\")\n",
    "print(f\"Distancia mínima aproximada: {distancia_total}\")\n",
    "\n",
    "# Obtener las posiciones de los nodos para dibujar el grafo\n",
    "pos = nx.spring_layout(G)  # Calcular posiciones en 2D\n",
    "\n",
    "# Dibuja el grafo\n",
    "plt.figure(figsize=(8, 6))\n",
    "nx.draw(G, pos, with_labels=True, node_size=500, node_color='skyblue', font_size=15, font_weight='bold', edge_color='gray')\n",
    "\n",
    "# Resaltar la ruta del TSP\n",
    "ruta_edges = [(ruta[i], ruta[i + 1]) for i in range(len(ruta) - 1)]\n",
    "ruta_edges.append((ruta[-1], ruta[0]))  # Volver al punto inicial\n",
    "nx.draw_networkx_edges(G, pos, edgelist=ruta_edges, edge_color='r', width=2)\n",
    "\n",
    "# Agregar las distancias (pesos) a los bordes\n",
    "edge_labels = nx.get_edge_attributes(G, 'weight')\n",
    "nx.draw_networkx_edge_labels(G, pos, edge_labels=edge_labels, font_size=12)\n",
    "\n",
    "# Mostrar el gráfico\n",
    "plt.title(\"TSP - Ruta Aproximada (matriz de distancias)\")\n",
    "plt.show()\n"
   ]
  },
  {
   "cell_type": "markdown",
   "metadata": {},
   "source": [
    "###  **Resumen de Enfoques**\n",
    "\n",
    "| Método                     | Complejidad | Exactitud      | Escalabilidad |\n",
    "|----------------------------|------------|----------------|--------------|\n",
    "| Fuerza Bruta               | O(n!)      |  Óptima      |  Mala      |\n",
    "| Programación Dinámica      | O(n² * 2ⁿ) |  Óptima      |  Regular   |\n",
    "| Recocido Simulado          | O(n log n) |  Aproximada |  Buena     |\n",
    "| NetworkX (MST/Heurísticas) |  Eficiente|  Aproximada |  Excelente |\n",
    "\n"
   ]
  },
  {
   "cell_type": "markdown",
   "metadata": {},
   "source": [
    "### Otras formas:"
   ]
  },
  {
   "cell_type": "markdown",
   "metadata": {},
   "source": [
    "<p>Otra forma de hacerlo por fuerza bruta<p>"
   ]
  },
  {
   "cell_type": "code",
   "execution_count": 10,
   "metadata": {},
   "outputs": [
    {
     "name": "stdout",
     "output_type": "stream",
     "text": [
      "80\n"
     ]
    }
   ],
   "source": [
    "from sys import maxsize\n",
    "from itertools import permutations\n",
    "\n",
    "V = 4\n",
    "\n",
    "def tsp(graph, s):\n",
    "    vertex = []\n",
    "    for i in range(V):\n",
    "        if i != s:\n",
    "            vertex.append(i)\n",
    "    \n",
    "    min_cost = maxsize\n",
    "    next_permutation = permutations(vertex)\n",
    "    \n",
    "    for i in next_permutation:\n",
    "        current_cost = 0\n",
    "        k = s\n",
    "        for j in i:\n",
    "            current_cost += graph[k][j]\n",
    "            k = j\n",
    "        current_cost += graph[k][s]\n",
    "        min_cost = min(min_cost, current_cost)\n",
    "    \n",
    "    return min_cost\n",
    "\n",
    "graph = [[0, 10, 15, 20], [10, 0, 35, 25], [15, 35, 0, 30], [20, 25, 30, 0]]\n",
    "s = 0\n",
    "print(tsp(graph, s))\n"
   ]
  }
 ],
 "metadata": {
  "kernelspec": {
   "display_name": "Python 3",
   "language": "python",
   "name": "python3"
  },
  "language_info": {
   "codemirror_mode": {
    "name": "ipython",
    "version": 3
   },
   "file_extension": ".py",
   "mimetype": "text/x-python",
   "name": "python",
   "nbconvert_exporter": "python",
   "pygments_lexer": "ipython3",
   "version": "3.13.0"
  }
 },
 "nbformat": 4,
 "nbformat_minor": 2
}
