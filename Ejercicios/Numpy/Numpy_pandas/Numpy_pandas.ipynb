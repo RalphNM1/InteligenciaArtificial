{
 "cells": [
  {
   "attachments": {},
   "cell_type": "markdown",
   "metadata": {},
   "source": [
    "<center>\n",
    "<h1 style=\"color: #√;\">Python</h1> \n",
    "<h3 style=\"color: #333333;\">Ejercicios Numpy, Pandas y gráficos</h3> \n",
    "</center>\n",
    "\n",
    "<br>\n"
   ]
  },
  {
   "cell_type": "markdown",
   "metadata": {},
   "source": [
    "#### Autor: Ralphy Núñez Mercado\n"
   ]
  },
  {
   "cell_type": "markdown",
   "metadata": {},
   "source": [
    "<h2 style=\"color: #007BC4;\">Numpy</h2>\n",
    "<hr style=\"border: 0.5px solid #007BC4;\">\n",
    "\n",
    "El array de numpy <code>gdp_2016</code> contiene el producto interior bruto de países del mundo en el año 2016, en dólares. \n",
    "\n"
   ]
  },
  {
   "cell_type": "code",
   "execution_count": 1,
   "metadata": {},
   "outputs": [
    {
     "data": {
      "text/plain": [
       "array([           nan,  1944.11700491,  6454.13537039, 11540.02556108,\n",
       "                  nan, 16726.72218488, 72399.65347339, 19939.93077479,\n",
       "        8832.76343477,            nan])"
      ]
     },
     "execution_count": 1,
     "metadata": {},
     "output_type": "execute_result"
    }
   ],
   "source": [
    "import numpy as np\n",
    "import pandas as pd\n",
    "import matplotlib.pyplot as plt\n",
    "import seaborn as sns\n",
    "#para conseguir el array a partir de un Dataframe podemos utilizar .values o to_numpy(), esta última es más moderna \n",
    "#gdp_2016 = pd.read_csv(\"data/gdp_pc.csv\")[\"2016\"].values\n",
    "gdp_2016 = pd.read_csv(\"data/gdp_pc.csv\")[\"2016\"].to_numpy()\n",
    "\n",
    "gdp_2016[0:10] # visualizamos los 10 primeros valores del array"
   ]
  },
  {
   "cell_type": "markdown",
   "metadata": {},
   "source": [
    "#### Utilizando operaciones lógicas sobre este array, realiza los siguientes ejercicios:\n",
    "\n",
    "\n",
    "#### 1 -  Crea un nuevo array sin los elementos que son NaN"
   ]
  },
  {
   "cell_type": "code",
   "execution_count": 2,
   "metadata": {},
   "outputs": [
    {
     "name": "stdout",
     "output_type": "stream",
     "text": [
      "[  1944.11700491   6454.13537039  11540.02556108  16726.72218488\n",
      "  72399.65347339  19939.93077479   8832.76343477  22661.48853616\n",
      "  46012.32845157  50551.5531752   17256.62697044    777.75285166\n",
      "  46428.67142458   2167.64282343   1771.01528722   3579.75679135\n",
      "  19242.62261574  22516.81648228  12172.06646607  18066.3006624\n",
      "   8461.53565294   7234.19524335  15123.85001428  18064.60442722\n",
      "  77420.61217204   8900.76455309  16956.72477025    698.70665573\n",
      "  44819.48360027  26851.1685408   63888.73238665  23193.97411052\n",
      "  15529.08410645   3693.43690912   3609.37559695    801.63011974\n",
      "   5717.29037095  14153.92792519   1521.85721808   6551.31894829\n",
      "  16609.73935418  15370.63489842  32707.872887    34749.21236327\n",
      "  48860.52529211  10947.71518781  49029.01483891  15204.93246446\n",
      "  15013.29637986  13839.96863584   9175.64442097  17025.39067931\n",
      "  19516.08298373  31366.86706838  11242.04751604  11128.80247428\n",
      "  42063.79406454  36304.85427275  29743.33742802   1734.46407452\n",
      "  39610.86680734   4254.34870787  43378.14602882   9109.95196333\n",
      "  41343.29253554   3508.71519196  18102.86221919  42656.2166022\n",
      "  10004.5284119    4292.44889992   1966.37968826   1676.86477284\n",
      "   1608.70437903  26058.077443    26778.50496589  14200.00719381\n",
      "   7944.69135314   7836.3791763   46864.95679091  58617.97062639\n",
      "   4736.83914255   2270.13030428  23422.41797653   1783.71512959\n",
      "  26700.75608264  12933.94330355  10588.17884122   3627.9834637\n",
      "   5201.03397093  11609.02662172   2834.05481866   6570.61624581\n",
      "  71472.29596487  19948.81948407  17348.93653235  50745.68297711\n",
      "  37258.22359457  38380.17241178   8821.31142953   9047.7689234\n",
      "  42281.18818958  25285.94773126   3155.11426394   3552.09178948\n",
      "   3736.96461203   2108.53722771  26382.78803193  36532.47268398\n",
      "  74263.99862606  14732.95458354   6549.66799975  14308.75112714\n",
      "    812.67394381  12952.72516857  15210.95079266   2622.06907623\n",
      "   1701.37258736  12312.94005099   6801.29184829  10414.49383242\n",
      "   2951.02189398  16689.09756884  29862.31889041 102389.43772763\n",
      "  25587.38808847 105420.41423718   7857.4877165    5332.28777311\n",
      "   1506.23832521  15347.99776172  19515.40260527  17274.82307137\n",
      "   4022.97863242  11442.8331081   14942.19764347   2125.71602653\n",
      "  37928.34126866   5721.22800363  13113.97108338  17633.13298468\n",
      "  12252.27719639   1216.79278744   3852.52590437  21102.5589232\n",
      "   1168.82562558  27682.6079403   56344.96375629  10624.92711311\n",
      "    986.20696062   5861.08965603   5539.82671595  50538.6065696\n",
      "  58790.06140389   2477.9033451   13966.49778022  38565.40345261\n",
      "  41885.92611335  25029.76382064   5235.47808502  23008.66536715\n",
      "  13018.60861238   7804.16780147  16305.48534045   4182.53934131\n",
      "  27383.254937     3775.07502387  37740.88825606  30658.63199533\n",
      "   9567.33912818   5700.08893902  44804.46017271 127480.48251099\n",
      "  23027.28926439  24788.67927912   1912.90118206   6062.85581457\n",
      "  54416.61249319   4730.46186883   2566.11917856  87832.58651422\n",
      "   2235.3146905    1476.21371969   8616.81241755  60932.93003722\n",
      "  14514.96055305   3721.66067336   3723.92091102  22092.44125736\n",
      "   3237.3925436   14966.7137949   30460.38408107  32723.07195376\n",
      "  48904.55437072   8329.56058149  28383.89621333   1990.72665731\n",
      "  13986.6283938   20172.0612279    1490.53623573  16913.36607526\n",
      "   2979.31023902  16875.9877489   15126.46133663   2140.35737389\n",
      "  13214.12254515   5745.19122926   6062.85581457   3723.92091102\n",
      "  32854.71905846  11595.51237921  25247.2017505    3651.02148404\n",
      "   2786.2722427    1819.43435088   8269.61463355  16884.35346567\n",
      "  21619.60793375  57638.15908799   6512.68213067  11456.78995224\n",
      "   6295.59058534   3080.56575434  16216.92698557   6378.25656692\n",
      "  10063.75847519   2507.47166249  13196.81122696   3933.06646044\n",
      "   2027.08491653]\n"
     ]
    }
   ],
   "source": [
    "\n",
    "gdp_2016_no_NaN = gdp_2016[~np.isnan(gdp_2016)]\n",
    "print(gdp_2016_no_NaN)\n"
   ]
  },
  {
   "cell_type": "markdown",
   "metadata": {},
   "source": [
    "#### 2 -  Selecciona aquellos PIB que son mayores que 50.000$"
   ]
  },
  {
   "cell_type": "code",
   "execution_count": 3,
   "metadata": {},
   "outputs": [
    {
     "name": "stdout",
     "output_type": "stream",
     "text": [
      "[[ 72399.65347339]\n",
      " [ 50551.5531752 ]\n",
      " [ 77420.61217204]\n",
      " [ 63888.73238665]\n",
      " [ 58617.97062639]\n",
      " [ 71472.29596487]\n",
      " [ 50745.68297711]\n",
      " [ 74263.99862606]\n",
      " [102389.43772763]\n",
      " [105420.41423718]\n",
      " [ 56344.96375629]\n",
      " [ 50538.6065696 ]\n",
      " [ 58790.06140389]\n",
      " [127480.48251099]\n",
      " [ 54416.61249319]\n",
      " [ 87832.58651422]\n",
      " [ 60932.93003722]\n",
      " [ 57638.15908799]]\n"
     ]
    }
   ],
   "source": [
    "\n",
    "gdp_2016_mayor_50000 = np.argwhere(gdp_2016 > 50000.0)\n",
    "\n",
    "print(gdp_2016[gdp_2016_mayor_50000])\n"
   ]
  },
  {
   "cell_type": "markdown",
   "metadata": {},
   "source": [
    "#### 3 -  Selecciona aquellos PIB que son menores que 5.000$"
   ]
  },
  {
   "cell_type": "code",
   "execution_count": 4,
   "metadata": {},
   "outputs": [
    {
     "name": "stdout",
     "output_type": "stream",
     "text": [
      "[[1944.11700491]\n",
      " [ 777.75285166]\n",
      " [2167.64282343]\n",
      " [1771.01528722]\n",
      " [3579.75679135]\n",
      " [ 698.70665573]\n",
      " [3693.43690912]\n",
      " [3609.37559695]\n",
      " [ 801.63011974]\n",
      " [1521.85721808]\n",
      " [1734.46407452]\n",
      " [4254.34870787]\n",
      " [3508.71519196]\n",
      " [4292.44889992]\n",
      " [1966.37968826]\n",
      " [1676.86477284]\n",
      " [1608.70437903]\n",
      " [4736.83914255]\n",
      " [2270.13030428]\n",
      " [1783.71512959]\n",
      " [3627.9834637 ]\n",
      " [2834.05481866]\n",
      " [3155.11426394]\n",
      " [3552.09178948]\n",
      " [3736.96461203]\n",
      " [2108.53722771]\n",
      " [ 812.67394381]\n",
      " [2622.06907623]\n",
      " [1701.37258736]\n",
      " [2951.02189398]\n",
      " [1506.23832521]\n",
      " [4022.97863242]\n",
      " [2125.71602653]\n",
      " [1216.79278744]\n",
      " [3852.52590437]\n",
      " [1168.82562558]\n",
      " [ 986.20696062]\n",
      " [2477.9033451 ]\n",
      " [4182.53934131]\n",
      " [3775.07502387]\n",
      " [1912.90118206]\n",
      " [4730.46186883]\n",
      " [2566.11917856]\n",
      " [2235.3146905 ]\n",
      " [1476.21371969]\n",
      " [3721.66067336]\n",
      " [3723.92091102]\n",
      " [3237.3925436 ]\n",
      " [1990.72665731]\n",
      " [1490.53623573]\n",
      " [2979.31023902]\n",
      " [2140.35737389]\n",
      " [3723.92091102]\n",
      " [3651.02148404]\n",
      " [2786.2722427 ]\n",
      " [1819.43435088]\n",
      " [3080.56575434]\n",
      " [2507.47166249]\n",
      " [3933.06646044]\n",
      " [2027.08491653]]\n"
     ]
    }
   ],
   "source": [
    "gdp_2016_menor_5000 = np.argwhere(gdp_2016 < 5000.0)\n",
    "\n",
    "print(gdp_2016[gdp_2016_menor_5000])\n"
   ]
  },
  {
   "cell_type": "markdown",
   "metadata": {},
   "source": [
    "#### 4 -  Selecciona aquellos PIB que se encuentran entre 40.000 y 50.000"
   ]
  },
  {
   "cell_type": "code",
   "execution_count": 18,
   "metadata": {},
   "outputs": [
    {
     "name": "stdout",
     "output_type": "stream",
     "text": [
      "[[46012.32845157]\n",
      " [46428.67142458]\n",
      " [44819.48360027]\n",
      " [48860.52529211]\n",
      " [49029.01483891]\n",
      " [42063.79406454]\n",
      " [43378.14602882]\n",
      " [41343.29253554]\n",
      " [42656.2166022 ]\n",
      " [46864.95679091]\n",
      " [42281.18818958]\n",
      " [41885.92611335]\n",
      " [44804.46017271]\n",
      " [48904.55437072]]\n"
     ]
    }
   ],
   "source": [
    "gdp_2016_entre = np.argwhere(np.logical_and(gdp_2016 > 40000.0, gdp_2016 < 50000.0))\n",
    "\n",
    "print(gdp_2016[gdp_2016_entre])\n"
   ]
  },
  {
   "cell_type": "markdown",
   "metadata": {},
   "source": [
    "<h2 style=\"color: #007BC4;\">Pandas y gráficos</h2>\n",
    "<hr style=\"border: 0.5px solid #007BC4;\">\n",
    "\n",
    "El **dataset** que vamos a a utilizar para realizar los siguientes ejercicios se denomina **\"tips\"** (tips.csv en la carpeta data, descargado de Kaggle) y contiene los datos que un camarero registró sobre cada propina que recibió durante un período de unos meses trabajando en un restaurante.\n"
   ]
  },
  {
   "cell_type": "markdown",
   "metadata": {},
   "source": [
    "### 1. Lee el dataset con pandas y cárgalo en un DataFrame"
   ]
  },
  {
   "cell_type": "code",
   "execution_count": 4,
   "metadata": {},
   "outputs": [
    {
     "data": {
      "text/html": [
       "<div>\n",
       "<style scoped>\n",
       "    .dataframe tbody tr th:only-of-type {\n",
       "        vertical-align: middle;\n",
       "    }\n",
       "\n",
       "    .dataframe tbody tr th {\n",
       "        vertical-align: top;\n",
       "    }\n",
       "\n",
       "    .dataframe thead th {\n",
       "        text-align: right;\n",
       "    }\n",
       "</style>\n",
       "<table border=\"1\" class=\"dataframe\">\n",
       "  <thead>\n",
       "    <tr style=\"text-align: right;\">\n",
       "      <th></th>\n",
       "      <th>total_bill</th>\n",
       "      <th>tip</th>\n",
       "      <th>sex</th>\n",
       "      <th>smoker</th>\n",
       "      <th>day</th>\n",
       "      <th>time</th>\n",
       "      <th>size</th>\n",
       "    </tr>\n",
       "  </thead>\n",
       "  <tbody>\n",
       "    <tr>\n",
       "      <th>0</th>\n",
       "      <td>16.99</td>\n",
       "      <td>1.01</td>\n",
       "      <td>Female</td>\n",
       "      <td>No</td>\n",
       "      <td>Sun</td>\n",
       "      <td>Dinner</td>\n",
       "      <td>2</td>\n",
       "    </tr>\n",
       "    <tr>\n",
       "      <th>1</th>\n",
       "      <td>10.34</td>\n",
       "      <td>1.66</td>\n",
       "      <td>Male</td>\n",
       "      <td>No</td>\n",
       "      <td>Sun</td>\n",
       "      <td>Dinner</td>\n",
       "      <td>3</td>\n",
       "    </tr>\n",
       "    <tr>\n",
       "      <th>2</th>\n",
       "      <td>21.01</td>\n",
       "      <td>3.50</td>\n",
       "      <td>Male</td>\n",
       "      <td>No</td>\n",
       "      <td>Sun</td>\n",
       "      <td>Dinner</td>\n",
       "      <td>3</td>\n",
       "    </tr>\n",
       "    <tr>\n",
       "      <th>3</th>\n",
       "      <td>23.68</td>\n",
       "      <td>3.31</td>\n",
       "      <td>Male</td>\n",
       "      <td>No</td>\n",
       "      <td>Sun</td>\n",
       "      <td>Dinner</td>\n",
       "      <td>2</td>\n",
       "    </tr>\n",
       "    <tr>\n",
       "      <th>4</th>\n",
       "      <td>24.59</td>\n",
       "      <td>3.61</td>\n",
       "      <td>Female</td>\n",
       "      <td>No</td>\n",
       "      <td>Sun</td>\n",
       "      <td>Dinner</td>\n",
       "      <td>4</td>\n",
       "    </tr>\n",
       "    <tr>\n",
       "      <th>...</th>\n",
       "      <td>...</td>\n",
       "      <td>...</td>\n",
       "      <td>...</td>\n",
       "      <td>...</td>\n",
       "      <td>...</td>\n",
       "      <td>...</td>\n",
       "      <td>...</td>\n",
       "    </tr>\n",
       "    <tr>\n",
       "      <th>239</th>\n",
       "      <td>29.03</td>\n",
       "      <td>5.92</td>\n",
       "      <td>Male</td>\n",
       "      <td>No</td>\n",
       "      <td>Sat</td>\n",
       "      <td>Dinner</td>\n",
       "      <td>3</td>\n",
       "    </tr>\n",
       "    <tr>\n",
       "      <th>240</th>\n",
       "      <td>27.18</td>\n",
       "      <td>2.00</td>\n",
       "      <td>Female</td>\n",
       "      <td>Yes</td>\n",
       "      <td>Sat</td>\n",
       "      <td>Dinner</td>\n",
       "      <td>2</td>\n",
       "    </tr>\n",
       "    <tr>\n",
       "      <th>241</th>\n",
       "      <td>22.67</td>\n",
       "      <td>2.00</td>\n",
       "      <td>Male</td>\n",
       "      <td>Yes</td>\n",
       "      <td>Sat</td>\n",
       "      <td>Dinner</td>\n",
       "      <td>2</td>\n",
       "    </tr>\n",
       "    <tr>\n",
       "      <th>242</th>\n",
       "      <td>17.82</td>\n",
       "      <td>1.75</td>\n",
       "      <td>Male</td>\n",
       "      <td>No</td>\n",
       "      <td>Sat</td>\n",
       "      <td>Dinner</td>\n",
       "      <td>2</td>\n",
       "    </tr>\n",
       "    <tr>\n",
       "      <th>243</th>\n",
       "      <td>18.78</td>\n",
       "      <td>3.00</td>\n",
       "      <td>Female</td>\n",
       "      <td>No</td>\n",
       "      <td>Thur</td>\n",
       "      <td>Dinner</td>\n",
       "      <td>2</td>\n",
       "    </tr>\n",
       "  </tbody>\n",
       "</table>\n",
       "<p>244 rows × 7 columns</p>\n",
       "</div>"
      ],
      "text/plain": [
       "     total_bill   tip     sex smoker   day    time  size\n",
       "0         16.99  1.01  Female     No   Sun  Dinner     2\n",
       "1         10.34  1.66    Male     No   Sun  Dinner     3\n",
       "2         21.01  3.50    Male     No   Sun  Dinner     3\n",
       "3         23.68  3.31    Male     No   Sun  Dinner     2\n",
       "4         24.59  3.61  Female     No   Sun  Dinner     4\n",
       "..          ...   ...     ...    ...   ...     ...   ...\n",
       "239       29.03  5.92    Male     No   Sat  Dinner     3\n",
       "240       27.18  2.00  Female    Yes   Sat  Dinner     2\n",
       "241       22.67  2.00    Male    Yes   Sat  Dinner     2\n",
       "242       17.82  1.75    Male     No   Sat  Dinner     2\n",
       "243       18.78  3.00  Female     No  Thur  Dinner     2\n",
       "\n",
       "[244 rows x 7 columns]"
      ]
     },
     "execution_count": 4,
     "metadata": {},
     "output_type": "execute_result"
    }
   ],
   "source": [
    "tips_df = pd.read_csv(\"data/tips.csv\") \n",
    "\n",
    "tips_df\n"
   ]
  },
  {
   "cell_type": "markdown",
   "metadata": {},
   "source": [
    "### 2. Muestra por pantalla las primeras filas del DataFrame"
   ]
  },
  {
   "cell_type": "code",
   "execution_count": 24,
   "metadata": {},
   "outputs": [
    {
     "data": {
      "text/html": [
       "<div>\n",
       "<style scoped>\n",
       "    .dataframe tbody tr th:only-of-type {\n",
       "        vertical-align: middle;\n",
       "    }\n",
       "\n",
       "    .dataframe tbody tr th {\n",
       "        vertical-align: top;\n",
       "    }\n",
       "\n",
       "    .dataframe thead th {\n",
       "        text-align: right;\n",
       "    }\n",
       "</style>\n",
       "<table border=\"1\" class=\"dataframe\">\n",
       "  <thead>\n",
       "    <tr style=\"text-align: right;\">\n",
       "      <th></th>\n",
       "      <th>total_bill</th>\n",
       "      <th>tip</th>\n",
       "      <th>sex</th>\n",
       "      <th>smoker</th>\n",
       "      <th>day</th>\n",
       "      <th>time</th>\n",
       "      <th>size</th>\n",
       "    </tr>\n",
       "  </thead>\n",
       "  <tbody>\n",
       "    <tr>\n",
       "      <th>0</th>\n",
       "      <td>16.99</td>\n",
       "      <td>1.01</td>\n",
       "      <td>Female</td>\n",
       "      <td>No</td>\n",
       "      <td>Sun</td>\n",
       "      <td>Dinner</td>\n",
       "      <td>2</td>\n",
       "    </tr>\n",
       "    <tr>\n",
       "      <th>1</th>\n",
       "      <td>10.34</td>\n",
       "      <td>1.66</td>\n",
       "      <td>Male</td>\n",
       "      <td>No</td>\n",
       "      <td>Sun</td>\n",
       "      <td>Dinner</td>\n",
       "      <td>3</td>\n",
       "    </tr>\n",
       "    <tr>\n",
       "      <th>2</th>\n",
       "      <td>21.01</td>\n",
       "      <td>3.50</td>\n",
       "      <td>Male</td>\n",
       "      <td>No</td>\n",
       "      <td>Sun</td>\n",
       "      <td>Dinner</td>\n",
       "      <td>3</td>\n",
       "    </tr>\n",
       "    <tr>\n",
       "      <th>3</th>\n",
       "      <td>23.68</td>\n",
       "      <td>3.31</td>\n",
       "      <td>Male</td>\n",
       "      <td>No</td>\n",
       "      <td>Sun</td>\n",
       "      <td>Dinner</td>\n",
       "      <td>2</td>\n",
       "    </tr>\n",
       "    <tr>\n",
       "      <th>4</th>\n",
       "      <td>24.59</td>\n",
       "      <td>3.61</td>\n",
       "      <td>Female</td>\n",
       "      <td>No</td>\n",
       "      <td>Sun</td>\n",
       "      <td>Dinner</td>\n",
       "      <td>4</td>\n",
       "    </tr>\n",
       "  </tbody>\n",
       "</table>\n",
       "</div>"
      ],
      "text/plain": [
       "   total_bill   tip     sex smoker  day    time  size\n",
       "0       16.99  1.01  Female     No  Sun  Dinner     2\n",
       "1       10.34  1.66    Male     No  Sun  Dinner     3\n",
       "2       21.01  3.50    Male     No  Sun  Dinner     3\n",
       "3       23.68  3.31    Male     No  Sun  Dinner     2\n",
       "4       24.59  3.61  Female     No  Sun  Dinner     4"
      ]
     },
     "execution_count": 24,
     "metadata": {},
     "output_type": "execute_result"
    }
   ],
   "source": [
    "tips_df.head()\n"
   ]
  },
  {
   "cell_type": "markdown",
   "metadata": {},
   "source": [
    "### 3. Muestra la forma del DataFrame"
   ]
  },
  {
   "cell_type": "code",
   "execution_count": 27,
   "metadata": {},
   "outputs": [
    {
     "name": "stdout",
     "output_type": "stream",
     "text": [
      "<class 'pandas.core.frame.DataFrame'>\n",
      "RangeIndex: 244 entries, 0 to 243\n",
      "Data columns (total 7 columns):\n",
      " #   Column      Non-Null Count  Dtype  \n",
      "---  ------      --------------  -----  \n",
      " 0   total_bill  244 non-null    float64\n",
      " 1   tip         244 non-null    float64\n",
      " 2   sex         244 non-null    object \n",
      " 3   smoker      244 non-null    object \n",
      " 4   day         244 non-null    object \n",
      " 5   time        244 non-null    object \n",
      " 6   size        244 non-null    int64  \n",
      "dtypes: float64(2), int64(1), object(4)\n",
      "memory usage: 13.5+ KB\n"
     ]
    }
   ],
   "source": [
    "tips_df.info()\n"
   ]
  },
  {
   "cell_type": "markdown",
   "metadata": {},
   "source": [
    "### 4. Obtén los datos de la columna **total_bill**"
   ]
  },
  {
   "cell_type": "code",
   "execution_count": 28,
   "metadata": {},
   "outputs": [
    {
     "data": {
      "text/plain": [
       "0      16.99\n",
       "1      10.34\n",
       "2      21.01\n",
       "3      23.68\n",
       "4      24.59\n",
       "       ...  \n",
       "239    29.03\n",
       "240    27.18\n",
       "241    22.67\n",
       "242    17.82\n",
       "243    18.78\n",
       "Name: total_bill, Length: 244, dtype: float64"
      ]
     },
     "execution_count": 28,
     "metadata": {},
     "output_type": "execute_result"
    }
   ],
   "source": [
    "tips_df[\"total_bill\"]\n"
   ]
  },
  {
   "cell_type": "markdown",
   "metadata": {},
   "source": [
    "### 5. Genera una gráfica de barras donde se muestren el número propinas por día (con matplotlib o seaborn). "
   ]
  },
  {
   "cell_type": "code",
   "execution_count": 39,
   "metadata": {},
   "outputs": [
    {
     "data": {
      "image/png": "[encoded data removed]",
      "text/plain": [
       "<Figure size 640x480 with 1 Axes>"
      ]
     },
     "metadata": {},
     "output_type": "display_data"
    }
   ],
   "source": [
    "\n",
    "\n",
    "plt.bar(tips_df[\"day\"],tips_df[\"tip\"])\n",
    "plt.xlabel('Día')\n",
    "plt.ylabel('Propina')\n",
    "plt.show()"
   ]
  },
  {
   "cell_type": "markdown",
   "metadata": {},
   "source": [
    "### 6. Crea una gráfica **scatter** entre **total_bill** y **tip** utilizando matplotlib o seaborn. "
   ]
  },
  {
   "cell_type": "code",
   "execution_count": 56,
   "metadata": {},
   "outputs": [
    {
     "data": {
      "image/png": "[encoded data removed]",
      "text/plain": [
       "<Figure size 640x480 with 1 Axes>"
      ]
     },
     "metadata": {},
     "output_type": "display_data"
    }
   ],
   "source": [
    "\n",
    "plt.scatter(tips_df[\"total_bill\"],tips_df[\"tip\"])\n",
    "plt.xlabel('Factura')\n",
    "plt.ylabel('Propina')\n",
    "plt.show()\n"
   ]
  },
  {
   "cell_type": "markdown",
   "metadata": {},
   "source": [
    "### 7. Asigna un color a los puntos en base a la variable \"sex\" (muéstralo en la leyenda)"
   ]
  },
  {
   "cell_type": "code",
   "execution_count": null,
   "metadata": {},
   "outputs": [
    {
     "data": {
      "image/png": "[encoded data removed]",
      "text/plain": [
       "<Figure size 640x480 with 1 Axes>"
      ]
     },
     "metadata": {},
     "output_type": "display_data"
    }
   ],
   "source": [
    "\n",
    "sns.scatterplot( \n",
    "    data=tips_df, \n",
    "    x=\"total_bill\", \n",
    "    y=\"tip\", \n",
    "    hue=\"sex\", \n",
    ") \n",
    "plt.show() \n",
    "\n",
    "\n"
   ]
  },
  {
   "cell_type": "markdown",
   "metadata": {},
   "source": [
    "### 8. Muestra ambas gráficas en una única figura con subplots.\n",
    "\n",
    "Ejemplo de resultado (es orientativo, no tiene que ser exactamente igual):\n",
    "\n",
    "<img src=\"img/graficas.png\" style=\"max-width: 600px\">\n"
   ]
  },
  {
   "cell_type": "code",
   "execution_count": 8,
   "metadata": {},
   "outputs": [
    {
     "data": {
      "image/png": "[encoded data removed]",
      "text/plain": [
       "<Figure size 800x400 with 2 Axes>"
      ]
     },
     "metadata": {},
     "output_type": "display_data"
    }
   ],
   "source": [
    "f, axs = plt.subplots(1, 2, figsize=(8, 4), \n",
    "gridspec_kw=dict(width_ratios=[4, 3])) \n",
    "sns.scatterplot( \n",
    "    data=tips_df, \n",
    "    x=\"total_bill\", \n",
    "    y=\"tip\", \n",
    "    hue=\"sex\", \n",
    "    ax=axs[0], \n",
    ") \n",
    "sns.histplot( \n",
    "    data=tips_df, \n",
    "    x=\"day\", \n",
    "    hue=\"day\", \n",
    "    shrink=0.8, \n",
    "    alpha=0.8, \n",
    "    legend=False, \n",
    "    ax=axs[1], \n",
    ") \n",
    "f.tight_layout() \n",
    "plt.show()"
   ]
  }
 ],
 "metadata": {
  "kernelspec": {
   "display_name": "bigdata",
   "language": "python",
   "name": "python3"
  },
  "language_info": {
   "codemirror_mode": {
    "name": "ipython",
    "version": 3
   },
   "file_extension": ".py",
   "mimetype": "text/x-python",
   "name": "python",
   "nbconvert_exporter": "python",
   "pygments_lexer": "ipython3",
   "version": "3.13.0"
  }
 },
 "nbformat": 4,
 "nbformat_minor": 4
}
