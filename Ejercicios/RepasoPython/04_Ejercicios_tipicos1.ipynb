{
 "cells": [
  {
   "cell_type": "markdown",
   "metadata": {
    "id": "eXdEhpJXZiSu"
   },
   "source": [
    "# **Ejercicios típicos**\n",
    "\n"
   ]
  },
  {
   "cell_type": "markdown",
   "metadata": {},
   "source": [
    "- #### Autor: Ralphy Núñez Mercado"
   ]
  },
  {
   "cell_type": "code",
   "execution_count": null,
   "metadata": {
    "id": "lNE9jCIrJZQE"
   },
   "outputs": [],
   "source": [
    "# usa esta celda si queres hacer funciones que uses en el resto del documento\n",
    "def mayor(numero1, numero2):\n",
    "    if (numero1 >= numero2):\n",
    "        return numero1\n",
    "    elif (numero2 > numero1):\n",
    "        return numero2\n",
    "    \n",
    "def menor(numero1, numero2):\n",
    "    if (numero1 <= numero2):\n",
    "        return numero1\n",
    "    elif (numero2 < numero1):\n",
    "        return numero2\n"
   ]
  },
  {
   "cell_type": "markdown",
   "metadata": {
    "id": "x4kL3smkZm2p"
   },
   "source": [
    "### 1º Introducir por teclado un número y determinar si es positivo, negativo o cero. Imprimir por pantalla el número y el resultado.\n",
    "NOTA: no conviertas el texto a número."
   ]
  },
  {
   "cell_type": "code",
   "execution_count": null,
   "metadata": {
    "id": "CsZDoWpAagbO"
   },
   "outputs": [
    {
     "name": "stdout",
     "output_type": "stream",
     "text": [
      "El número es positvio\n"
     ]
    }
   ],
   "source": [
    "numero = input(\"Introduzca un número: \")\n",
    "\n",
    "if (numero ==\"0\"):\n",
    "    print(\"El número es igual a 0\") \n",
    "elif (numero.startswith(\"-\")):\n",
    "    print(\"El número es negativo\")\n",
    "else:\n",
    "    print(\"El número es positivo\") \n"
   ]
  },
  {
   "cell_type": "markdown",
   "metadata": {
    "id": "LiDloPhMaGnP"
   },
   "source": [
    "### 2º Introducir por teclado un string y devolver por consola si es mayor, igual o menor a 10 caracteres."
   ]
  },
  {
   "cell_type": "code",
   "execution_count": 11,
   "metadata": {
    "id": "qiQBt-I9aEC9"
   },
   "outputs": [
    {
     "name": "stdout",
     "output_type": "stream",
     "text": [
      "El string introducido es igual a 10.\n"
     ]
    }
   ],
   "source": [
    "cadena = input(\"Introduzca una cadena: \")\n",
    "caracteres = len(cadena)\n",
    "if (caracteres > 10):\n",
    "    print(\"El string introducido es mayor a 10.\")\n",
    "elif (caracteres < 10):\n",
    "    print(\"El string introducido es menor a 10.\")\n",
    "else:\n",
    "\n",
    "    print(\"El string introducido es igual a 10.\")"
   ]
  },
  {
   "cell_type": "markdown",
   "metadata": {
    "id": "ogCiPH_dai2q"
   },
   "source": [
    "### 3º Resolver el problema anterior con el [operador ternario](https://stackoverflow.com/questions/394809/does-python-have-a-ternary-conditional-operator)\n",
    "NOTA: *condition_if_true* **if** *condition* **else** *condition_if_false*\n"
   ]
  },
  {
   "cell_type": "code",
   "execution_count": null,
   "metadata": {
    "id": "_jZURwS2awkp"
   },
   "outputs": [
    {
     "name": "stdout",
     "output_type": "stream",
     "text": [
      "El string introducido es mayor a 10.\n"
     ]
    }
   ],
   "source": [
    "cadena = input(\"Introduzca una cadena: \")\n",
    "caracteres = len(cadena)\n",
    "resultado = \"El string introducido es igual a 10.\" if caracteres == 10 else \"El string introducido es mayor a 10.\" if caracteres > 10 else \"El string introducido es menor a 10.\"\n",
    "\n",
    "print(resultado)"
   ]
  },
  {
   "cell_type": "markdown",
   "metadata": {
    "id": "6GqZFiFsaxcB"
   },
   "source": [
    "### 4º Introducir por teclado dos número enteros, devolver por consola si el primer número es mayor, igual o menor al segundo número.\n",
    "NOTA: no los conviertas a números"
   ]
  },
  {
   "cell_type": "code",
   "execution_count": 37,
   "metadata": {
    "id": "W6O-8fSSbIj-"
   },
   "outputs": [
    {
     "name": "stdout",
     "output_type": "stream",
     "text": [
      "El primer número es igual al segundo\n"
     ]
    }
   ],
   "source": [
    "\n",
    "numero1 = input(\"Introduzca el primer número: \")\n",
    "numero2 = input(\"Introduzca el segundo número: \")\n",
    "\n",
    "if (numero1 == numero2):\n",
    "    print(\"El primer número es igual al segundo\") \n",
    "elif (numero1 > numero2):\n",
    "    print(\"El primer número es mayor\")\n",
    "else:\n",
    "    print(\"El primer número es menor\") \n"
   ]
  },
  {
   "cell_type": "markdown",
   "metadata": {
    "id": "YhACl7cbbJMX"
   },
   "source": [
    "### 5º Introducir por teclado dos número enteros positivos. Comprobar que el número menor es distinto de cero, si es cero no efectuar la división y visualizarlo por consola. Si la división es posible indicar cual es el numerador, el denominador, el cociente y el resto."
   ]
  },
  {
   "cell_type": "code",
   "execution_count": 49,
   "metadata": {
    "id": "0Rd-DmNHbqqI"
   },
   "outputs": [
    {
     "name": "stdout",
     "output_type": "stream",
     "text": [
      "El numerador es '10', el denominador es '2', el cociente es '5' y el resto es '0'\n"
     ]
    }
   ],
   "source": [
    "\n",
    "    \n",
    "numero1 = int(input(\"Introduzca el primer número: \"))\n",
    "\n",
    "while(numero1 < 0):\n",
    "    print(\"Error, el número tiene que ser positivo\")\n",
    "    numero1 = int(input(\"Introduzca el primer número: \"))\n",
    "\n",
    "numero2 = int(input(\"Introduzca el segundo número: \"))\n",
    "\n",
    "while(numero2 < 0):\n",
    "    print(\"Error, el número tiene que ser positivo\")\n",
    "    numero2 = int(input(\"Introduzca el segundo número: \"))\n",
    "\n",
    "\n",
    "num_mayor = mayor(numero1,numero2)\n",
    "num_menor = menor(numero1,numero2)\n",
    "\n",
    "if(menor != 0):\n",
    "    cociente = num_mayor // num_menor\n",
    "    resto = num_mayor % num_menor\n",
    "    print(f\"El numerador es '{num_mayor}', el denominador es '{num_menor}', el cociente es '{cociente}' y el resto es '{resto}'\")\n",
    "else:\n",
    "    print(\"La división no es posible\")\n"
   ]
  },
  {
   "cell_type": "markdown",
   "metadata": {
    "id": "3JLz4Y2lcCCw"
   },
   "source": [
    "### 6º Introducir por teclado dos números enteros positivos. Comprueba si el mayor es múltiplo del menor. Visualiza en la consola el resultado."
   ]
  },
  {
   "cell_type": "markdown",
   "metadata": {},
   "source": []
  },
  {
   "cell_type": "code",
   "execution_count": 60,
   "metadata": {
    "id": "FUfpZZSzbMrc"
   },
   "outputs": [
    {
     "name": "stdout",
     "output_type": "stream",
     "text": [
      "El número mayor es múltiplo del menor\n",
      "Número mayor: 12\n",
      "Número menor: 3\n",
      "Módulo: 0\n"
     ]
    }
   ],
   "source": [
    "\n",
    "numero1 = int(input(\"Introduzca el primer número: \"))\n",
    "\n",
    "while(numero1 < 0):\n",
    "    print(\"Error, el número tiene que ser positivo\")\n",
    "    numero1 = int(input(\"Introduzca el primer número: \"))\n",
    "\n",
    "numero2 = int(input(\"Introduzca el segundo número: \"))\n",
    "\n",
    "while(numero2 < 0):\n",
    "    print(\"Error, el número tiene que ser positivo\")\n",
    "    numero2 = int(input(\"Introduzca el segundo número: \"))\n",
    "\n",
    "\n",
    "\n",
    "num_mayor = mayor(numero1,numero2)\n",
    "num_menor = menor(numero1,numero2)\n",
    "\n",
    "\n",
    "if(num_mayor % num_menor == 0):\n",
    "    print(f\"El número mayor es múltiplo del menor\\nNúmero mayor: {num_mayor}\\nNúmero menor: {num_menor}\\nMódulo: {num_mayor % num_menor}\")\n",
    "else:\n",
    "    print(f\"El número mayor no es múltiplo del menor\\nNúmero mayor: {num_mayor}\\nNúmero menor: {num_menor}\\nMódulo: {num_mayor % num_menor}\")\n"
   ]
  },
  {
   "cell_type": "markdown",
   "metadata": {
    "id": "GEvMj2KzbN6s"
   },
   "source": [
    "### 7º Solicitar un número entero por teclado y muestre por consola si es par o impar."
   ]
  },
  {
   "cell_type": "code",
   "execution_count": 59,
   "metadata": {
    "id": "CqKcSNG3bZDU"
   },
   "outputs": [
    {
     "name": "stdout",
     "output_type": "stream",
     "text": [
      "El número es impar\n"
     ]
    }
   ],
   "source": [
    "\n",
    "numero = int(input(\"Introduzca un número: \"))\n",
    "\n",
    "if(numero % 2 == 0):\n",
    "    print(\"El número es par\")\n",
    "else:\n",
    "    print(\"El número es impar\")"
   ]
  },
  {
   "cell_type": "markdown",
   "metadata": {
    "id": "UhiYkKnabtpd"
   },
   "source": [
    "### 8º Solicitar el año actual y un año cualquiera por teclado y visualizar cuántos años han pasado desde ese año o cuántos años faltan para llegar a ese año."
   ]
  },
  {
   "cell_type": "code",
   "execution_count": null,
   "metadata": {
    "id": "TjylUkAqb63q"
   },
   "outputs": [
    {
     "name": "stdout",
     "output_type": "stream",
     "text": [
      "Ha introducido el mismo año dos veces\n"
     ]
    }
   ],
   "source": [
    "\n",
    "añoActual = int(input(\"Introduzca el año actual:\"))\n",
    "añoCualquiera = int(input(\"Introduzca un año cualquiera\"))\n",
    "\n",
    "\n",
    "if(añoCualquiera < añoActual):\n",
    "    print(f\" Han pasado {añoActual - añoCualquiera} años desde {añoCualquiera} hasta {añoActual}.\")\n",
    "elif(añoActual < añoCualquiera):\n",
    "    print(f\"Faltan {añoCualquiera - añoActual} años para llegar al año {añoCualquiera}.\")\n",
    "else:\n",
    "    print(\"Ha introducido el mismo año dos veces.\")"
   ]
  },
  {
   "cell_type": "markdown",
   "metadata": {
    "id": "-gNYMWf6b_Wr"
   },
   "source": [
    "### 9º Introducir por teclado un año, visualizar por consola si es bisiesto o no.\n",
    "\n",
    "NOTA: Se recuerda que los años bisiestos son múltiplos de 4, pero los múltiplos de 100 no lo son, aunque los múltiplos de 400 sí."
   ]
  },
  {
   "cell_type": "code",
   "execution_count": 70,
   "metadata": {
    "id": "uPFkRsnFcnSa"
   },
   "outputs": [
    {
     "name": "stdout",
     "output_type": "stream",
     "text": [
      "El año 2023 no es bisiesto\n"
     ]
    }
   ],
   "source": [
    "año = int(input(\"Introduzca un año: \"))\n",
    "\n",
    "if año % 4 != 0: #no divisible entre 4\n",
    "\tprint(f\"El año {año} no es bisiesto\")\n",
    "elif año % 4 == 0 and año % 100 != 0: #divisible entre 4 y no entre 100 o 400\n",
    "\tprint(f\"El año {año} es bisiesto\")\n",
    "elif año % 4 == 0 and año % 100 == 0 and año % 400 != 0: #divisible entre 4 y 10 y no entre 400\n",
    "\tprint(f\"El año {año} no es bisiesto\")\n",
    "elif año % 4 == 0 and año % 100 == 0 and año % 400 == 0: #divisible entre 4, 100 y 400\n",
    "\tprint(f\"El año {año} es bisiesto\")\n",
    "\n"
   ]
  },
  {
   "cell_type": "markdown",
   "metadata": {
    "id": "VO58q-uNc3tS"
   },
   "source": [
    "### 10º Escriba un programa que pida los coeficientes de una ecuación de segundo grado (a·x² + b·x + c = 0) y escriba la solución.\n",
    "\n",
    "Haz una función a la que le pasas $a$, $b$, $c$ y devuelve la/las soluciones.\n",
    "\n",
    "Recuerda que una ecuación de segundo grado puede no tener solución en $\\mathbb{R}$ (pero sí en $\\mathbb{C}$), tener una solución única, tener dos soluciones. Se recuerda que la fórmula de las soluciones es:\n",
    "\n",
    "$\\frac{-b\\pm \\sqrt{b^{2}-4ac}}{2a}$\n",
    "\n"
   ]
  },
  {
   "cell_type": "code",
   "execution_count": null,
   "metadata": {
    "id": "9S6s-13UfLoq"
   },
   "outputs": [
    {
     "name": "stdout",
     "output_type": "stream",
     "text": [
      "No tiene solucion\n"
     ]
    }
   ],
   "source": [
    "import math\n",
    "\n",
    "def ecuacion(a, b, c):\n",
    "    R = b * b - 4 * a * c\n",
    "\n",
    "    if (R < 0):\n",
    "        print(\"La ecucación no tiene solución\")\n",
    "    else:\n",
    "        raiz = math.sqrt(R )\n",
    "\n",
    "        if(raiz == 0 ):\n",
    "            print(\"La ecucación no tiene solución\")\n",
    "        else:\n",
    "            sol1 = (-b + raiz) / (2 * a)\n",
    "\n",
    "            if (R != 0):\n",
    "                sol2 = (-b - raiz) / (2 * a)\n",
    "                print(f\"La ecución tiene dos soluciones: {sol1}, {sol2}\")\n",
    "            else:\n",
    "                print(f\"La ecuación solo tiene una solución: {sol1}\")\n",
    "\n",
    "\n",
    "a = int(input(\"Introduzca la a\"))\n",
    "b = int(input(\"Introduzca la b\"))\n",
    "c = int(input(\"Introduzca la c\"))\n",
    "\n",
    "\n",
    "ecuacion(a, b, c)"
   ]
  }
 ],
 "metadata": {
  "colab": {
   "collapsed_sections": [],
   "private_outputs": true,
   "provenance": []
  },
  "kernelspec": {
   "display_name": "bigdata",
   "language": "python",
   "name": "python3"
  },
  "language_info": {
   "codemirror_mode": {
    "name": "ipython",
    "version": 3
   },
   "file_extension": ".py",
   "mimetype": "text/x-python",
   "name": "python",
   "nbconvert_exporter": "python",
   "pygments_lexer": "ipython3",
   "version": "3.12.3"
  }
 },
 "nbformat": 4,
 "nbformat_minor": 0
}
