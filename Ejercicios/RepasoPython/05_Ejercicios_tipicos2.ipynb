{
 "cells": [
  {
   "cell_type": "markdown",
   "metadata": {
    "id": "gYDalNAzLpAC"
   },
   "source": [
    "# **Ejercicios típicos 2**\n"
   ]
  },
  {
   "cell_type": "markdown",
   "metadata": {},
   "source": [
    "- #### Autor: Ralphy Núñez Mercado"
   ]
  },
  {
   "cell_type": "markdown",
   "metadata": {
    "id": "gRPx5bFIMCnx"
   },
   "source": [
    "### 1º Introducir numeros por el teclado hasta que el usuario introduzca un cero. Al finalizar visualizar por consola la suma de todos los números introducidos."
   ]
  },
  {
   "cell_type": "code",
   "execution_count": null,
   "metadata": {
    "id": "0tJyU-EJMIMw"
   },
   "outputs": [
    {
     "name": "stdout",
     "output_type": "stream",
     "text": [
      "La súma de los números introducidos ha sido de 5\n"
     ]
    }
   ],
   "source": [
    "numero = int(input(\"Introduzca un número: \"))\n",
    "resultado = 0\n",
    "\n",
    "while(numero != 0):\n",
    "    resultado = resultado + numero\n",
    "    numero = int(input(\"Introduzca un número (Introduzca 0 para parar): \"))\n",
    " \n",
    "print(f\"La súma de los números introducidos ha sido de {resultado}.\")\n",
    "\n"
   ]
  },
  {
   "cell_type": "markdown",
   "metadata": {
    "id": "XyPhI7fQNdZY"
   },
   "source": [
    "### 2º Introducir un número entero positivo por teclado. Visualizar por consola la suma de sus dígitos"
   ]
  },
  {
   "cell_type": "code",
   "execution_count": 7,
   "metadata": {
    "id": "IUuR_qzVNo6v"
   },
   "outputs": [
    {
     "name": "stdout",
     "output_type": "stream",
     "text": [
      "La suma de los dígitos es de 1.\n"
     ]
    }
   ],
   "source": [
    "numero = input(\"Introduzca un número: \")\n",
    "resultado = 0\n",
    "\n",
    "for d in range (len(numero)):\n",
    "    resultado = resultado + int(numero[d])\n",
    "print(f\"La suma de los dígitos es de {resultado}.\")"
   ]
  },
  {
   "cell_type": "markdown",
   "metadata": {
    "id": "2iVxRgvs2Jla"
   },
   "source": [
    "### 3º Imprimir por consola los números entre el 5 y el 20, saltando de tres en tres."
   ]
  },
  {
   "cell_type": "code",
   "execution_count": 9,
   "metadata": {
    "id": "6QVxEmX92Rmo"
   },
   "outputs": [
    {
     "name": "stdout",
     "output_type": "stream",
     "text": [
      "5\n",
      "8\n",
      "11\n",
      "14\n",
      "17\n",
      "20\n"
     ]
    }
   ],
   "source": [
    "for i in range (5,21,3):\n",
    "    print(i)"
   ]
  },
  {
   "cell_type": "markdown",
   "metadata": {
    "id": "g7rwO386P4Sg"
   },
   "source": [
    "### 4º Introducir números enteros por el teclado hasta introducir un cero, en cuyo caso el bucle terminará. Visualizar por consola cual ha sido el mayor número de los introducidos.\n",
    "NOTA: no uses listas."
   ]
  },
  {
   "cell_type": "code",
   "execution_count": 11,
   "metadata": {
    "id": "_1xwxeTpQQy2"
   },
   "outputs": [
    {
     "name": "stdout",
     "output_type": "stream",
     "text": [
      "El número mayor introducido ha sido 40.\n"
     ]
    }
   ],
   "source": [
    "numero = int(input(\"Introduzca un número: \"))\n",
    "mayor = 0\n",
    "\n",
    "while(numero != 0):\n",
    "    if(numero > mayor):\n",
    "        mayor = numero\n",
    "    numero = int(input(\"Introduzca un número (Introduzca 0 para parar): \"))\n",
    " \n",
    "print(f\"El número mayor introducido ha sido {mayor}.\")\n",
    "\n"
   ]
  },
  {
   "cell_type": "markdown",
   "metadata": {
    "id": "0jNOQSVyOcRH"
   },
   "source": [
    "### 5º Introducir por teclado un número. Visualizar por consola todos los números divisores del número introducido."
   ]
  },
  {
   "cell_type": "code",
   "execution_count": null,
   "metadata": {
    "id": "SrubYYLhOseP"
   },
   "outputs": [
    {
     "name": "stdout",
     "output_type": "stream",
     "text": [
      "Sus divisores son exactos:  1\n"
     ]
    }
   ],
   "source": [
    "numero = int(input(\"Introduce un número: \"))\n",
    "num = 0 \n",
    "while num >=0: \n",
    "    num += 1 \n",
    "    if (numero % num == 0): \n",
    "        print(\"Sus divisores son exactos: \", num)"
   ]
  },
  {
   "cell_type": "markdown",
   "metadata": {
    "id": "0ZauF23ozGUD"
   },
   "source": [
    "### 6º Introducir por teclado una palabra y comprobar si es un palíndromo y visualizarlo por consola. Un palíndromo es una palabra que se lee igual de derechas que de izquierdas (Ejemplo: OSO)"
   ]
  },
  {
   "cell_type": "code",
   "execution_count": null,
   "metadata": {
    "id": "QnkHvuckzb_m"
   },
   "outputs": [
    {
     "name": "stdout",
     "output_type": "stream",
     "text": [
      "La palabra sopa no es un polindromo\n"
     ]
    }
   ],
   "source": [
    "def palindromo(palabra):\n",
    "    si_es=1\n",
    "    x= palabra[::-1]\n",
    "    if x != palabra:\n",
    "        si_es=0\n",
    "    return si_es\n",
    "\n",
    "def principal():\n",
    "    palis=input(\"Introzuca la palabra: \")\n",
    "    if palindromo(palis):\n",
    "        print(\"La palabra %s es un polindromo\" %palis)\n",
    "    else:\n",
    "        print(\"La palabra %s no es un polindromo\" %palis)\n",
    "\n",
    "principal()"
   ]
  },
  {
   "cell_type": "markdown",
   "metadata": {
    "id": "v1LDAJL80pjQ"
   },
   "source": [
    "### 7º Crear un algoritmo que muestre los primeros 10 números de la sucesión de Fibonacci. La sucesión de Fibonacci comienza con los números 0 y 1 y, a partir de éstos, cada elemento es la suma de los dos números anteriores en la secuencia: 0, 1, 1, 2, 3, 5, 8, 13, 21, 34, 55, ..."
   ]
  },
  {
   "cell_type": "code",
   "execution_count": null,
   "metadata": {
    "id": "9SOk0VEh07fp"
   },
   "outputs": [
    {
     "name": "stdout",
     "output_type": "stream",
     "text": [
      "0\n",
      "1\n",
      "1\n",
      "2\n",
      "3\n",
      "5\n",
      "8\n",
      "13\n",
      "21\n",
      "34\n"
     ]
    }
   ],
   "source": [
    "def alg(n):\n",
    "    if n < 2:\n",
    "        return n\n",
    "    else:\n",
    "        return alg(n-1) + alg(n-2)\n",
    "    \n",
    "for x in range(10):\n",
    "    print(alg(x))"
   ]
  },
  {
   "cell_type": "markdown",
   "metadata": {
    "id": "6tNkqKY82hkH"
   },
   "source": [
    "### 8º Introducir por teclado una edad y el año actual. Visualizar por consola todos los años que han pasado desde su año de nacimiento hasta el año actual (ambos incluidos)"
   ]
  },
  {
   "cell_type": "code",
   "execution_count": 15,
   "metadata": {
    "id": "GZKs4i7x3DR4"
   },
   "outputs": [
    {
     "name": "stdout",
     "output_type": "stream",
     "text": [
      "2024\n",
      "2023\n",
      "2022\n",
      "2021\n",
      "2020\n",
      "2019\n",
      "2018\n",
      "2017\n",
      "2016\n",
      "2015\n",
      "2014\n",
      "2013\n",
      "2012\n",
      "2011\n",
      "2010\n",
      "2009\n",
      "2008\n",
      "2007\n",
      "2006\n",
      "2005\n",
      "2004\n"
     ]
    }
   ],
   "source": [
    "edad = int(input(\"Introduzca su edad: \"))\n",
    "fin = 2024 - edad\n",
    "for x in range(2024,fin-1,-1):\n",
    "    print(x)"
   ]
  },
  {
   "cell_type": "markdown",
   "metadata": {
    "id": "jXZHzYEq3JsQ"
   },
   "source": [
    "### 9º Realizar un algoritmo que muestre el sumatorio de todos los múltiplos de 3 encontrados entre el 0 y el 100."
   ]
  },
  {
   "cell_type": "code",
   "execution_count": 16,
   "metadata": {
    "id": "alRMhSc73Wlg"
   },
   "outputs": [
    {
     "name": "stdout",
     "output_type": "stream",
     "text": [
      "0\n",
      "3\n",
      "6\n",
      "9\n",
      "12\n",
      "15\n",
      "18\n",
      "21\n",
      "24\n",
      "27\n",
      "30\n",
      "33\n",
      "36\n",
      "39\n",
      "42\n",
      "45\n",
      "48\n",
      "51\n",
      "54\n",
      "57\n",
      "60\n",
      "63\n",
      "66\n",
      "69\n",
      "72\n",
      "75\n",
      "78\n",
      "81\n",
      "84\n",
      "87\n",
      "90\n",
      "93\n",
      "96\n",
      "99\n"
     ]
    }
   ],
   "source": [
    "for x in range(0,101,1):\n",
    "    if(x % 3 == 0):\n",
    "        print(x)"
   ]
  },
  {
   "cell_type": "markdown",
   "metadata": {
    "id": "qButIKkn37-H"
   },
   "source": [
    "### 10º Realizar un algoritmo que imprima por consola los números primos de los 100 primeros números (1 a 100). Número primo es aquel que solo es divisible por la unidad y por si mismo. "
   ]
  },
  {
   "cell_type": "code",
   "execution_count": 23,
   "metadata": {
    "id": "DFc9sDLE4URf"
   },
   "outputs": [
    {
     "name": "stdout",
     "output_type": "stream",
     "text": [
      "Los 100 primeros números primos son:\n",
      "1 2 3 5 7 11 13 17 19 23 29 31 37 41 43 47 53 59 61 67 71 73 79 83 89 97 \n"
     ]
    }
   ],
   "source": [
    "primos = [] \n",
    "num = 1  \n",
    "\n",
    "while num != 100:\n",
    "\n",
    "    es_primo = True\n",
    "    if num == 1:\n",
    "        es_primo = True\n",
    "    elif num < 2:\n",
    "        es_primo = False\n",
    "    else:\n",
    "        for i in range(2, int(num ** 0.5) + 1):\n",
    "            if num % i == 0:\n",
    "                es_primo = False\n",
    "                break\n",
    "    # Si es primo, agregarlo a la lista\n",
    "    if es_primo:\n",
    "        primos.append(num)\n",
    "    num += 1\n",
    "\n",
    "print(f\"Los {100} primeros números primos son:\")\n",
    "for primo in primos:\n",
    "    print(primo, end=\" \")\n",
    "print() "
   ]
  }
 ],
 "metadata": {
  "colab": {
   "collapsed_sections": [],
   "private_outputs": true,
   "provenance": []
  },
  "kernelspec": {
   "display_name": "bigdata",
   "language": "python",
   "name": "python3"
  },
  "language_info": {
   "codemirror_mode": {
    "name": "ipython",
    "version": 3
   },
   "file_extension": ".py",
   "mimetype": "text/x-python",
   "name": "python",
   "nbconvert_exporter": "python",
   "pygments_lexer": "ipython3",
   "version": "3.12.3"
  }
 },
 "nbformat": 4,
 "nbformat_minor": 0
}
