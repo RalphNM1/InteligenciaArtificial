{
 "cells": [
  {
   "cell_type": "markdown",
   "metadata": {},
   "source": [
    "# TAREA SVM \n",
    "## Ralphy Núñez Mercado\n",
    "##### En este caso utiliza un par de datasets de los ya utilizados en clase (uno de regresión y otro de clasificación) para probar SVM. Prueba con distintos kernels.\n",
    "##### Puedes utilizar también, como en la tarea anterior, un VotingClassifier/VotingRegressor para combinarlo con otros modelos de clasificación/regresión.\n",
    "##### Documenta todo el proceso."
   ]
  },
  {
   "cell_type": "markdown",
   "metadata": {},
   "source": [
    "### ⬇️ Imports necesarios"
   ]
  },
  {
   "cell_type": "code",
   "execution_count": 1,
   "metadata": {},
   "outputs": [],
   "source": [
    "import pandas as pd\n",
    "import seaborn as sns\n",
    "import numpy as np\n",
    "import matplotlib.pyplot as plt\n",
    "\n",
    "from sklearn.model_selection import train_test_split\n",
    "from sklearn.pipeline import make_pipeline\n",
    "from sklearn.preprocessing import StandardScaler,LabelEncoder\n",
    "from sklearn.svm import SVC,SVR\n",
    "from sklearn.metrics import mean_squared_error ,r2_score, classification_report,mean_absolute_error,confusion_matrix\n",
    "from sklearn.ensemble import RandomForestClassifier, VotingClassifier, VotingRegressor,RandomForestRegressor,StackingClassifier\n",
    "from sklearn.linear_model import LinearRegression,LogisticRegression\n",
    "from sklearn.neighbors import KNeighborsRegressor\n",
    "from sklearn.naive_bayes import GaussianNB"
   ]
  },
  {
   "cell_type": "markdown",
   "metadata": {},
   "source": [
    "### 📜 🔨 Preparar los datasets"
   ]
  },
  {
   "cell_type": "markdown",
   "metadata": {},
   "source": [
    "### Dataset accidentes"
   ]
  },
  {
   "cell_type": "code",
   "execution_count": 2,
   "metadata": {},
   "outputs": [],
   "source": [
    "df_accidentes = pd.read_csv(\"accident.csv\")\n",
    "\n",
    "df_accidentes.columns =['Edad','Genero','Velocidad_del_impacto','Uso_de_casco','Uso_de_cinturon','Sobrevivio']\n",
    "\n",
    "label_encoder = LabelEncoder()\n",
    "\n",
    "columns_to_encode = ['Genero', 'Uso_de_casco', 'Uso_de_cinturon']  \n",
    "\n",
    "for col in columns_to_encode:\n",
    "    df_accidentes[col] = label_encoder.fit_transform(df_accidentes[col])\n",
    "\n",
    "df_accidentes = df_accidentes.fillna(df_accidentes.mean())\n",
    "\n",
    "X_accidentes = df_accidentes.drop(columns='Sobrevivio')\n",
    "y_accidentes = df_accidentes['Sobrevivio']\n",
    "\n",
    "X_train_accidentes, X_test_accidentes, y_train_accidentes, y_test_accidentes = train_test_split(X_accidentes, y_accidentes, test_size=0.2, random_state=42)\n",
    "\n",
    "scaler = StandardScaler()\n",
    "\n",
    "X_train_accidentes_escalado = scaler.fit_transform(X_train_accidentes)\n",
    "\n",
    "X_test_accidentes_escalado = scaler.transform(X_test_accidentes)"
   ]
  },
  {
   "cell_type": "markdown",
   "metadata": {},
   "source": [
    "### Dataset cáncer"
   ]
  },
  {
   "cell_type": "code",
   "execution_count": 3,
   "metadata": {},
   "outputs": [],
   "source": [
    "df_cancer = pd.read_csv('Breast_Cancer.csv')\n",
    "\n",
    "df_cancer = df_cancer.drop(\"Unnamed: 32\",axis=1)\n",
    "\n",
    "df_cancer.columns=[\"id\", \"diagnostico\", \"radio_medio\", \"textura_media\", \"perimetro_medio\", \"area_media\", \"suavidad_media\", \"compacidad_media\",\" concavidad_media\", \"media_puntos_concavidad\", \"media_simetria\", \"media_dimension_fractal\", \"radio_se\", \"textura_se\", \"perimetro_se\",\" area_se\", \"suavidad_se\", \"compacidad_se\", \"concavidad_se\",\" concavo_puntos_se\",\" simetria_se\", \"fractal_dimension_peor\", \"radio_peor\", \"textura_peor\", \"perimetro_peor\",\" area_peor\", \"suavidad_peor\",\" compacidad_peor\", \"concavidad_peor\", \"puntos_concavos_peor\",\" simetia_peor\",\" fractal_dimension_peor\"]\n",
    "\n",
    "\n",
    "X_cancer  = df_cancer[[\"radio_medio\", \"textura_media\", \"perimetro_medio\", \"area_media\", \"suavidad_media\", \"compacidad_media\",\" concavidad_media\", \"media_puntos_concavidad\", \"media_simetria\", \"media_dimension_fractal\", \"radio_se\", \"textura_se\", \"perimetro_se\",\" area_se\", \"suavidad_se\", \"compacidad_se\", \"concavidad_se\",\" concavo_puntos_se\",\" simetria_se\", \"fractal_dimension_peor\", \"radio_peor\", \"textura_peor\", \"perimetro_peor\",\" area_peor\", \"suavidad_peor\",\" compacidad_peor\", \"concavidad_peor\", \"puntos_concavos_peor\",\" simetia_peor\",\" fractal_dimension_peor\"]]\n",
    "df_cancer['diagnostico'] = df_cancer.diagnostico.map({'M' : 1, 'B' : 0 })\n",
    "y_cancer = df_cancer['diagnostico']\n",
    "\n",
    "X_train_cancer, X_test_cancer, y_train_cancer, y_test_cancer = train_test_split(X_cancer, y_cancer, test_size=0.2, random_state=42)"
   ]
  },
  {
   "cell_type": "markdown",
   "metadata": {},
   "source": [
    "## MODELOS SVR VS. VOTING REGRESSOR"
   ]
  },
  {
   "cell_type": "markdown",
   "metadata": {},
   "source": [
    "### SVR"
   ]
  },
  {
   "cell_type": "markdown",
   "metadata": {},
   "source": [
    "#### Entrenar el modelo"
   ]
  },
  {
   "cell_type": "code",
   "execution_count": 4,
   "metadata": {},
   "outputs": [],
   "source": [
    "svr_linear = SVR(kernel='linear') \n",
    "svr_linear.fit(X_train_accidentes_escalado, y_train_accidentes) \n",
    "\n",
    "svr_poly = SVR(kernel='poly') \n",
    "svr_poly.fit(X_train_accidentes_escalado, y_train_accidentes) \n",
    "\n",
    "svr_rbf = SVR(kernel='rbf') \n",
    "svr_rbf.fit(X_train_accidentes_escalado, y_train_accidentes) \n",
    "\n",
    "svr_sigmoid = SVR(kernel='sigmoid') \n",
    "svr_sigmoid.fit(X_train_accidentes_escalado, y_train_accidentes) \n",
    "  \n",
    "y_pred_svr_linear = svr_linear.predict(X_test_accidentes_escalado) \n",
    "  \n",
    "y_pred_svr_poly = svr_poly.predict(X_test_accidentes_escalado) \n",
    "\n",
    "y_pred_svr_rbf = svr_rbf.predict(X_test_accidentes_escalado) \n",
    "\n",
    "y_pred_svr_sigmoid = svr_sigmoid.predict(X_test_accidentes_escalado) \n"
   ]
  },
  {
   "cell_type": "markdown",
   "metadata": {},
   "source": [
    "#### 📈Métricas"
   ]
  },
  {
   "cell_type": "code",
   "execution_count": 5,
   "metadata": {},
   "outputs": [
    {
     "name": "stdout",
     "output_type": "stream",
     "text": [
      "MSE (Error Cuadrático Medio: 0.50174325699696\n",
      "MSE (Error Cuadrático Medio: 1.0877162682871886\n",
      "MSE (Error Cuadrático Medio: 0.4295413167858898\n",
      "MSE (Error Cuadrático Medio: 2.6286960916649114\n"
     ]
    }
   ],
   "source": [
    "mse = mean_squared_error(y_test_accidentes, y_pred_svr_linear)\n",
    "print(\"MSE (Error Cuadrático Medio:\", mse)\n",
    "\n",
    "\n",
    "mse = mean_squared_error(y_test_accidentes, y_pred_svr_poly)\n",
    "print(\"MSE (Error Cuadrático Medio:\", mse)\n",
    "\n",
    "\n",
    "mse = mean_squared_error(y_test_accidentes, y_pred_svr_rbf)\n",
    "print(\"MSE (Error Cuadrático Medio:\", mse)\n",
    "\n",
    "\n",
    "mse = mean_squared_error(y_test_accidentes, y_pred_svr_sigmoid)\n",
    "print(\"MSE (Error Cuadrático Medio:\", mse)\n"
   ]
  },
  {
   "cell_type": "markdown",
   "metadata": {},
   "source": [
    "### VotingRegressor"
   ]
  },
  {
   "cell_type": "code",
   "execution_count": 6,
   "metadata": {},
   "outputs": [
    {
     "name": "stdout",
     "output_type": "stream",
     "text": [
      "MSE (Error Cuadrático Medio: 0.2874306299669774\n"
     ]
    }
   ],
   "source": [
    "r1 = LinearRegression()\n",
    "r2 = RandomForestRegressor(n_estimators=10, random_state=1)\n",
    "r3 = KNeighborsRegressor()\n",
    "er = VotingRegressor([('lr', r1), ('rf', r2), ('r3', r3)])\n",
    "\n",
    "er.fit(X_train_accidentes_escalado,y_train_accidentes)\n",
    "\n",
    "prediccion_vino2 = er.predict(X_test_accidentes_escalado)\n",
    "\n",
    "\n",
    "mse = mean_squared_error(y_test_accidentes, prediccion_vino2)\n",
    "rmse = np.sqrt(mse) \n",
    "mae = mean_absolute_error(y_test_accidentes, prediccion_vino2)\n",
    "r2 = r2_score(y_test_accidentes, prediccion_vino2)\n",
    "\n",
    "print(\"MSE (Error Cuadrático Medio:\", mse)\n"
   ]
  },
  {
   "cell_type": "code",
   "execution_count": 7,
   "metadata": {},
   "outputs": [
    {
     "data": {
      "image/png": "[encoded data removed]",
      "text/plain": [
       "<Figure size 1000x600 with 1 Axes>"
      ]
     },
     "metadata": {},
     "output_type": "display_data"
    }
   ],
   "source": [
    "plt.figure(figsize=(10, 6))\n",
    "plt.scatter(y_test_accidentes, prediccion_vino2, color='blue', alpha=0.6, label='Predicciones de nuestro modelo')\n",
    "limites = np.array([min(y_test_accidentes.min(), prediccion_vino2.min()), max(y_test_accidentes.max(), prediccion_vino2.max())])\n",
    "plt.plot(limites, limites, color='red', linestyle='--', label='Valores reales')\n",
    "plt.title('Predicciones vs Valores Reales - Voting Regressor')\n",
    "plt.xlabel('Valores Reales')\n",
    "plt.ylabel('Valores Predichos')\n",
    "plt.legend()\n",
    "plt.show()"
   ]
  },
  {
   "cell_type": "markdown",
   "metadata": {},
   "source": [
    "## Conclusiones"
   ]
  },
  {
   "cell_type": "markdown",
   "metadata": {},
   "source": [
    "#### El modelo voting regressor nos da el mejor resultado con un MSE de 0.28 mientras que con el modelo SVR el mejor kernel sería el RBF con un valor de 0.42"
   ]
  },
  {
   "cell_type": "markdown",
   "metadata": {},
   "source": [
    "## MODELOS SVC VS VOTING CLASSIFIER"
   ]
  },
  {
   "cell_type": "markdown",
   "metadata": {},
   "source": [
    "### SVC"
   ]
  },
  {
   "cell_type": "markdown",
   "metadata": {},
   "source": [
    "#### ⚙️ Entrenar el modelo"
   ]
  },
  {
   "cell_type": "code",
   "execution_count": 8,
   "metadata": {},
   "outputs": [],
   "source": [
    "clf_linear = make_pipeline(StandardScaler(), SVC(gamma='auto',kernel='linear'))\n",
    "clf_linear.fit(X_train_cancer, y_train_cancer)\n",
    "\n",
    "clf_poly = make_pipeline(StandardScaler(), SVC(gamma='auto',kernel='poly'))\n",
    "clf_poly.fit(X_train_cancer, y_train_cancer)\n",
    "\n",
    "clf_rbf = make_pipeline(StandardScaler(), SVC(gamma='auto',kernel='rbf'))\n",
    "clf_rbf.fit(X_train_cancer, y_train_cancer)\n",
    "\n",
    "clf_sigmoid = make_pipeline(StandardScaler(), SVC(gamma='auto',kernel='sigmoid'))\n",
    "clf_sigmoid.fit(X_train_cancer, y_train_cancer)\n",
    "\n",
    "y_pred_svc_linear = clf_linear.predict(X_test_cancer)\n",
    "y_pred_svc_poly = clf_poly.predict(X_test_cancer)\n",
    "y_pred_svc_rbf = clf_rbf.predict(X_test_cancer)\n",
    "y_pred_svc_sigmoid = clf_sigmoid.predict(X_test_cancer)\n",
    "\n"
   ]
  },
  {
   "cell_type": "markdown",
   "metadata": {},
   "source": [
    "#### 📈Métricas"
   ]
  },
  {
   "cell_type": "code",
   "execution_count": 9,
   "metadata": {},
   "outputs": [
    {
     "name": "stdout",
     "output_type": "stream",
     "text": [
      "SVC con kernel Linear\n",
      "              precision    recall  f1-score   support\n",
      "\n",
      "           0       0.97      0.96      0.96        71\n",
      "           1       0.93      0.95      0.94        43\n",
      "\n",
      "    accuracy                           0.96       114\n",
      "   macro avg       0.95      0.96      0.95       114\n",
      "weighted avg       0.96      0.96      0.96       114\n",
      "\n",
      "SVC con kernel Poly\n",
      "              precision    recall  f1-score   support\n",
      "\n",
      "           0       0.83      1.00      0.90        71\n",
      "           1       1.00      0.65      0.79        43\n",
      "\n",
      "    accuracy                           0.87       114\n",
      "   macro avg       0.91      0.83      0.85       114\n",
      "weighted avg       0.89      0.87      0.86       114\n",
      "\n",
      "SVC con kernel RBF\n",
      "              precision    recall  f1-score   support\n",
      "\n",
      "           0       0.97      1.00      0.99        71\n",
      "           1       1.00      0.95      0.98        43\n",
      "\n",
      "    accuracy                           0.98       114\n",
      "   macro avg       0.99      0.98      0.98       114\n",
      "weighted avg       0.98      0.98      0.98       114\n",
      "\n",
      "SVC con kernel Sigmoid\n",
      "              precision    recall  f1-score   support\n",
      "\n",
      "           0       0.97      0.96      0.96        71\n",
      "           1       0.93      0.95      0.94        43\n",
      "\n",
      "    accuracy                           0.96       114\n",
      "   macro avg       0.95      0.96      0.95       114\n",
      "weighted avg       0.96      0.96      0.96       114\n",
      "\n"
     ]
    }
   ],
   "source": [
    "\n",
    "print(\"SVC con kernel Linear\")\n",
    "print(classification_report(y_test_cancer,y_pred_svc_linear))\n",
    "print(\"SVC con kernel Poly\")\n",
    "print(classification_report(y_test_cancer,y_pred_svc_poly))\n",
    "print(\"SVC con kernel RBF\")\n",
    "print(classification_report(y_test_cancer,y_pred_svc_rbf))\n",
    "print(\"SVC con kernel Sigmoid\")\n",
    "print(classification_report(y_test_cancer,y_pred_svc_sigmoid))\n"
   ]
  },
  {
   "cell_type": "markdown",
   "metadata": {},
   "source": [
    "### Como vemos el que mejor resultados da es el RBF"
   ]
  },
  {
   "cell_type": "markdown",
   "metadata": {},
   "source": [
    "#### Matriz de confusión"
   ]
  },
  {
   "cell_type": "code",
   "execution_count": 10,
   "metadata": {},
   "outputs": [
    {
     "data": {
      "image/png": "[encoded data removed]",
      "text/plain": [
       "<Figure size 500x500 with 2 Axes>"
      ]
     },
     "metadata": {},
     "output_type": "display_data"
    }
   ],
   "source": [
    "cm= confusion_matrix(y_test_cancer,y_pred_svc_rbf) \n",
    "\n",
    "f, ax =plt.subplots(figsize = (5,5))\n",
    "\n",
    "sns.heatmap(cm,annot = True, linewidths= 0.5, linecolor=\"red\", fmt=\".0f\", ax=ax)\n",
    "plt.xlabel(\"predicciones\")\n",
    "plt.ylabel(\"valores reales\")\n",
    "plt.title(\"MATRIZ DE CONFUSION SVC\")\n",
    "plt.show()"
   ]
  },
  {
   "cell_type": "markdown",
   "metadata": {},
   "source": [
    "### VotingClassifer "
   ]
  },
  {
   "cell_type": "code",
   "execution_count": 11,
   "metadata": {},
   "outputs": [],
   "source": [
    "\n",
    "scaler = StandardScaler()\n",
    "X_train_cancer_escalado = scaler.fit_transform(X_train_cancer)\n",
    "X_test_cancer_escalado = scaler.transform(X_test_cancer)\n",
    "\n",
    "clf1 = LogisticRegression(random_state=1,max_iter=500)\n",
    "clf2 = RandomForestClassifier(n_estimators=50, random_state=1)\n",
    "clf3 = GaussianNB()\n",
    "\n",
    "eclf1 = VotingClassifier(estimators=[\n",
    "        ('lr', clf1), ('rf', clf2), ('gnb', clf3)], voting='hard')\n",
    "\n",
    "eclf1 = eclf1.fit(X_train_cancer_escalado, y_train_cancer)\n",
    "\n",
    "\n",
    "eclf2 = VotingClassifier(estimators=[\n",
    "        ('lr', clf1), ('rf', clf2), ('gnb', clf3)], voting='soft')\n",
    "\n",
    "eclf2 = eclf2.fit(X_train_cancer_escalado, y_train_cancer)\n",
    "\n",
    "\n",
    "pred_cancer_votingClassifier_hard = eclf1.predict(X_test_cancer_escalado)\n",
    "pred_cancer_votingClassifier2_soft = eclf2.predict(X_test_cancer_escalado)\n"
   ]
  },
  {
   "cell_type": "markdown",
   "metadata": {},
   "source": [
    "#### 📈Métricas"
   ]
  },
  {
   "cell_type": "code",
   "execution_count": 12,
   "metadata": {},
   "outputs": [
    {
     "name": "stdout",
     "output_type": "stream",
     "text": [
      "              precision    recall  f1-score   support\n",
      "\n",
      "           0       0.96      0.99      0.97        71\n",
      "           1       0.98      0.93      0.95        43\n",
      "\n",
      "    accuracy                           0.96       114\n",
      "   macro avg       0.97      0.96      0.96       114\n",
      "weighted avg       0.97      0.96      0.96       114\n",
      "\n"
     ]
    }
   ],
   "source": [
    "print(classification_report(y_test_cancer,pred_cancer_votingClassifier_hard))"
   ]
  },
  {
   "cell_type": "markdown",
   "metadata": {},
   "source": [
    "#### Matriz de confusión"
   ]
  },
  {
   "cell_type": "code",
   "execution_count": 13,
   "metadata": {},
   "outputs": [
    {
     "data": {
      "image/png": "[encoded data removed]",
      "text/plain": [
       "<Figure size 500x500 with 2 Axes>"
      ]
     },
     "metadata": {},
     "output_type": "display_data"
    }
   ],
   "source": [
    "cm= confusion_matrix(y_test_cancer,pred_cancer_votingClassifier_hard) \n",
    "\n",
    "f, ax =plt.subplots(figsize = (5,5))\n",
    "\n",
    "sns.heatmap(cm,annot = True, linewidths= 0.5, linecolor=\"red\", fmt=\".0f\", ax=ax)\n",
    "plt.xlabel(\"predicciones\")\n",
    "plt.ylabel(\"valores reales\")\n",
    "plt.title(\"MATRIZ DE CONFUSION SVC\")\n",
    "plt.show()"
   ]
  },
  {
   "cell_type": "markdown",
   "metadata": {},
   "source": [
    "## Conclusion SVC VS VOTING CLASSIFIER\n",
    "\n",
    "#### Como podemos ver el model SVC con el kernel RBF es nuestra mejor opción para este dataset, aún así voting classifier también es una buena opción.\n"
   ]
  }
 ],
 "metadata": {
  "kernelspec": {
   "display_name": ".venv",
   "language": "python",
   "name": "python3"
  },
  "language_info": {
   "codemirror_mode": {
    "name": "ipython",
    "version": 3
   },
   "file_extension": ".py",
   "mimetype": "text/x-python",
   "name": "python",
   "nbconvert_exporter": "python",
   "pygments_lexer": "ipython3",
   "version": "3.13.0"
  }
 },
 "nbformat": 4,
 "nbformat_minor": 2
}
