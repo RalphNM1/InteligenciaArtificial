{
 "cells": [
  {
   "cell_type": "markdown",
   "metadata": {},
   "source": [
    "# Examen PRI: Ralphy Núñez Mercado"
   ]
  },
  {
   "cell_type": "markdown",
   "metadata": {},
   "source": [
    "## Imports necesarios."
   ]
  },
  {
   "cell_type": "code",
   "execution_count": 590,
   "metadata": {},
   "outputs": [],
   "source": [
    "import pandas as pd\n",
    "import numpy as np\n",
    "import matplotlib.pyplot as plt\n",
    "import networkx as nx "
   ]
  },
  {
   "cell_type": "markdown",
   "metadata": {},
   "source": [
    "## Clase Grafo"
   ]
  },
  {
   "cell_type": "markdown",
   "metadata": {},
   "source": [
    "<p>Creación de la clase grafo<p>"
   ]
  },
  {
   "cell_type": "code",
   "execution_count": 591,
   "metadata": {},
   "outputs": [],
   "source": [
    "class Grafo():\n",
    "    def __init__(self):\n",
    "        self\n",
    "\n",
    "    def cargar_desde_csv(ruta):\n",
    "        df = pd.read_csv(ruta)\n",
    "        return df\n",
    "    \n",
    "    def mostrar_grafo(grafo):\n",
    "        pos = nx.circular_layout(grafo)  \n",
    "        nx.draw(grafo, pos, with_labels=True, node_size=500,node_color='green', font_size=12)\n",
    "\n",
    "        labels = nx.get_edge_attributes(grafo, 'weight')\n",
    "        nx.draw_networkx_edge_labels(grafo, pos, labels)\n",
    "\n",
    "    def bfs(grafo):\n",
    "        print(\"\")\n",
    "\n",
    "    def dijkstra(grafo):\n",
    "        print('')\n",
    "\n",
    "    def a_estrella(grafo):\n",
    "        print('')\n",
    "\n",
    "    def bfs_networkx(grafo):\n",
    "        print(\"\")\n",
    "\n",
    "    def dijkstra_networkx(grafo, origen,destino):\n",
    "        camino_dijkstra = nx.dijkstra_path(grafo, source=origen, target=destino)\n",
    "        longitud_dijkstra = nx.dijkstra_path_length(grafo, source=origen, target=destino)\n",
    "\n",
    "        print(f\"Camino:  {camino_dijkstra}\")\n",
    "        print(f\"Longitud: {longitud_dijkstra}\")\n",
    "\n",
    "    def a_estrella_networkx(grafo,origen,destino):\n",
    "        camino_a_estrella = nx.astar_path(grafo, source=origen, target=destino, heuristic=lambda u, v: 0)\n",
    "        longitud_a_estrella = nx.astar_path_length(grafo, source=origen, target=destino, heuristic=lambda u, v: 0)\n",
    "\n",
    "        print(f\"Camino:  {camino_a_estrella}\")\n",
    "        print(f\"Longitud: {longitud_a_estrella}\")\n"
   ]
  },
  {
   "cell_type": "markdown",
   "metadata": {},
   "source": [
    "## Mostrar el .CSV"
   ]
  },
  {
   "cell_type": "code",
   "execution_count": 592,
   "metadata": {},
   "outputs": [
    {
     "data": {
      "text/html": [
       "<div>\n",
       "<style scoped>\n",
       "    .dataframe tbody tr th:only-of-type {\n",
       "        vertical-align: middle;\n",
       "    }\n",
       "\n",
       "    .dataframe tbody tr th {\n",
       "        vertical-align: top;\n",
       "    }\n",
       "\n",
       "    .dataframe thead th {\n",
       "        text-align: right;\n",
       "    }\n",
       "</style>\n",
       "<table border=\"1\" class=\"dataframe\">\n",
       "  <thead>\n",
       "    <tr style=\"text-align: right;\">\n",
       "      <th></th>\n",
       "      <th>origen</th>\n",
       "      <th>destino</th>\n",
       "      <th>tiempo_estimado</th>\n",
       "    </tr>\n",
       "  </thead>\n",
       "  <tbody>\n",
       "    <tr>\n",
       "      <th>0</th>\n",
       "      <td>Tienda Pepe</td>\n",
       "      <td>Tienda Maria</td>\n",
       "      <td>5</td>\n",
       "    </tr>\n",
       "    <tr>\n",
       "      <th>1</th>\n",
       "      <td>Tienda Pepe</td>\n",
       "      <td>Tienda Jose</td>\n",
       "      <td>6</td>\n",
       "    </tr>\n",
       "    <tr>\n",
       "      <th>2</th>\n",
       "      <td>Tienda Pepe</td>\n",
       "      <td>Tienda Fer</td>\n",
       "      <td>2</td>\n",
       "    </tr>\n",
       "    <tr>\n",
       "      <th>3</th>\n",
       "      <td>Tienda Maria</td>\n",
       "      <td>Tienda Carlos</td>\n",
       "      <td>7</td>\n",
       "    </tr>\n",
       "    <tr>\n",
       "      <th>4</th>\n",
       "      <td>Tienda Maria</td>\n",
       "      <td>Tienda Fer</td>\n",
       "      <td>6</td>\n",
       "    </tr>\n",
       "    <tr>\n",
       "      <th>5</th>\n",
       "      <td>Tienda Fer</td>\n",
       "      <td>Tienda Carlos</td>\n",
       "      <td>2</td>\n",
       "    </tr>\n",
       "    <tr>\n",
       "      <th>6</th>\n",
       "      <td>Tienda Fer</td>\n",
       "      <td>Tienda Jose</td>\n",
       "      <td>6</td>\n",
       "    </tr>\n",
       "  </tbody>\n",
       "</table>\n",
       "</div>"
      ],
      "text/plain": [
       "         origen         destino  tiempo_estimado\n",
       "0   Tienda Pepe    Tienda Maria                5\n",
       "1   Tienda Pepe     Tienda Jose                6\n",
       "2   Tienda Pepe      Tienda Fer                2\n",
       "3  Tienda Maria   Tienda Carlos                7\n",
       "4  Tienda Maria      Tienda Fer                6\n",
       "5    Tienda Fer   Tienda Carlos                2\n",
       "6    Tienda Fer     Tienda Jose                6"
      ]
     },
     "execution_count": 592,
     "metadata": {},
     "output_type": "execute_result"
    }
   ],
   "source": [
    "df = Grafo.cargar_desde_csv('rutas.csv')\n",
    "\n",
    "df"
   ]
  },
  {
   "cell_type": "markdown",
   "metadata": {},
   "source": [
    "## Clase Nodo"
   ]
  },
  {
   "cell_type": "code",
   "execution_count": 593,
   "metadata": {},
   "outputs": [
    {
     "name": "stdout",
     "output_type": "stream",
     "text": [
      "Número de nodos cargados: 3\n"
     ]
    }
   ],
   "source": [
    "class Nodo():\n",
    "    def __init__(self,nombre):\n",
    "        self.nombre = nombre\n",
    "\n",
    "    nodos = df['origen']\n",
    "\n",
    "    \n",
    "    def añadir_nodos():\n",
    "        grafo = nx.Graph()\n",
    "\n",
    "        grafo.add_nodes_from(Nodo.nodos)\n",
    "        \n",
    "        return grafo\n",
    "\n",
    "print(f\"Número de nodos cargados: {Nodo.añadir_nodos().number_of_nodes()}\")\n",
    "\n",
    "grafo = Nodo.añadir_nodos()\n",
    "\n",
    "nodo = []\n",
    "for i in range(len(df['origen'])):\n",
    "    if df['origen'][i] in nodo:\n",
    "        print('ya está en lista')\n",
    "    else: \n",
    "        nodo.append(Nodo(df['origen'][i]))\n"
   ]
  },
  {
   "cell_type": "markdown",
   "metadata": {},
   "source": [
    "## Clase Arista"
   ]
  },
  {
   "cell_type": "code",
   "execution_count": 594,
   "metadata": {},
   "outputs": [
    {
     "name": "stdout",
     "output_type": "stream",
     "text": [
      "Graph with 7 nodes and 7 edges\n"
     ]
    }
   ],
   "source": [
    "class Arista():\n",
    "\n",
    "    def __init__(self):\n",
    "        self\n",
    "\n",
    "    def añadir_aristas(grafo):\n",
    "        rutas = df\n",
    "        \n",
    "        for i in range(len(rutas)):\n",
    "           grafo.add_edge(rutas['origen'][i],rutas['destino'][i],weight=rutas['tiempo_estimado'][i])\n",
    "        \n",
    "        return grafo\n",
    "        \n",
    "        \n",
    "print(Arista.añadir_aristas(grafo))"
   ]
  },
  {
   "cell_type": "markdown",
   "metadata": {},
   "source": [
    "## Lista de nodos y aristas"
   ]
  },
  {
   "cell_type": "code",
   "execution_count": 595,
   "metadata": {},
   "outputs": [
    {
     "name": "stdout",
     "output_type": "stream",
     "text": [
      "['Tienda Pepe', 'Tienda Maria', 'Tienda Fer', ' Tienda Maria', ' Tienda Jose', ' Tienda Fer', ' Tienda Carlos']\n",
      "[('Tienda Pepe', ' Tienda Maria'), ('Tienda Pepe', ' Tienda Jose'), ('Tienda Pepe', ' Tienda Fer'), ('Tienda Maria', ' Tienda Carlos'), ('Tienda Maria', ' Tienda Fer'), ('Tienda Fer', ' Tienda Carlos'), ('Tienda Fer', ' Tienda Jose')]\n"
     ]
    }
   ],
   "source": [
    "print (grafo.nodes)\n",
    "print(grafo.edges)"
   ]
  },
  {
   "cell_type": "markdown",
   "metadata": {},
   "source": [
    "\n",
    "## Número de nodos y aristas"
   ]
  },
  {
   "cell_type": "code",
   "execution_count": 596,
   "metadata": {},
   "outputs": [
    {
     "name": "stdout",
     "output_type": "stream",
     "text": [
      "nodos: 7\n",
      "aristas:  7\n"
     ]
    }
   ],
   "source": [
    "print(\"nodos:\",grafo.number_of_nodes())\n",
    "print(\"aristas: \",grafo.number_of_edges())"
   ]
  },
  {
   "cell_type": "code",
   "execution_count": 597,
   "metadata": {},
   "outputs": [
    {
     "data": {
      "image/png": "[encoded data removed]",
      "text/plain": [
       "<Figure size 640x480 with 1 Axes>"
      ]
     },
     "metadata": {},
     "output_type": "display_data"
    }
   ],
   "source": [
    "Grafo.mostrar_grafo(grafo)"
   ]
  },
  {
   "cell_type": "markdown",
   "metadata": {},
   "source": [
    "<p>Prueba con dijkstra_networkx<p>"
   ]
  },
  {
   "cell_type": "code",
   "execution_count": 598,
   "metadata": {},
   "outputs": [
    {
     "name": "stdout",
     "output_type": "stream",
     "text": [
      "Camino:  ['Tienda Fer', ' Tienda Jose', 'Tienda Pepe', ' Tienda Maria']\n",
      "Longitud: 17\n"
     ]
    }
   ],
   "source": [
    "Grafo.dijkstra_networkx(grafo,'Tienda Fer',' Tienda Maria')"
   ]
  },
  {
   "cell_type": "markdown",
   "metadata": {},
   "source": [
    "<p>Prueba con a_estrella_networkx<p>"
   ]
  },
  {
   "cell_type": "code",
   "execution_count": 599,
   "metadata": {},
   "outputs": [
    {
     "name": "stdout",
     "output_type": "stream",
     "text": [
      "Camino:  ['Tienda Fer', ' Tienda Jose', 'Tienda Pepe', ' Tienda Maria']\n",
      "Longitud: 17\n"
     ]
    }
   ],
   "source": [
    "Grafo.a_estrella_networkx(grafo,'Tienda Fer',' Tienda Maria')"
   ]
  },
  {
   "cell_type": "markdown",
   "metadata": {},
   "source": [
    "<p>\n",
    "En este caso ¿qué ocurre con la solución de Dijkstra y la de A* al utilizar como heurística el tiempo?.¿Podrías mejorarlo?Si es así, presenta  \n",
    "tu solución en Networkx y contrástala.  \n",
    "<p>"
   ]
  }
 ],
 "metadata": {
  "kernelspec": {
   "display_name": ".venv",
   "language": "python",
   "name": "python3"
  },
  "language_info": {
   "codemirror_mode": {
    "name": "ipython",
    "version": 3
   },
   "file_extension": ".py",
   "mimetype": "text/x-python",
   "name": "python",
   "nbconvert_exporter": "python",
   "pygments_lexer": "ipython3",
   "version": "3.13.0"
  }
 },
 "nbformat": 4,
 "nbformat_minor": 2
}
